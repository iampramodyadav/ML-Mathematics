{
 "cells": [
  {
   "cell_type": "markdown",
   "id": "0cce9a60-28b1-4819-9f7d-f2ed56c9345c",
   "metadata": {},
   "source": [
    "<t>Linear Algebra for Machine Learning and Data Science<t>"
   ]
  },
  {
   "cell_type": "markdown",
   "id": "8aa01a0b",
   "metadata": {
    "toc": true
   },
   "source": [
    "<h1>Table of Contents<span class=\"tocSkip\"></span></h1>\n",
    "<div class=\"toc\"><ul class=\"toc-item\"><li><span><a href=\"#Solving-Linear-Systems:-2-variables\" data-toc-modified-id=\"Solving-Linear-Systems:-2-variables-1\"><span class=\"toc-item-num\">1&nbsp;&nbsp;</span>Solving Linear Systems: 2 variables</a></span><ul class=\"toc-item\"><li><span><a href=\"#Representing-and-Solving-System-of-Linear-Equations-using-Matrices\" data-toc-modified-id=\"Representing-and-Solving-System-of-Linear-Equations-using-Matrices-1.1\"><span class=\"toc-item-num\">1.1&nbsp;&nbsp;</span>Representing and Solving System of Linear Equations using Matrices</a></span><ul class=\"toc-item\"><li><span><a href=\"#System-of-Linear-Equations\" data-toc-modified-id=\"System-of-Linear-Equations-1.1.1\"><span class=\"toc-item-num\">1.1.1&nbsp;&nbsp;</span>System of Linear Equations</a></span></li><li><span><a href=\"#Solving-Systems-of-Linear-Equations-using-Matrices\" data-toc-modified-id=\"Solving-Systems-of-Linear-Equations-using-Matrices-1.1.2\"><span class=\"toc-item-num\">1.1.2&nbsp;&nbsp;</span>Solving Systems of Linear Equations using Matrices</a></span></li><li><span><a href=\"#Evaluating-Determinant-of-a-Matrix\" data-toc-modified-id=\"Evaluating-Determinant-of-a-Matrix-1.1.3\"><span class=\"toc-item-num\">1.1.3&nbsp;&nbsp;</span>Evaluating Determinant of a Matrix</a></span></li></ul></li><li><span><a href=\"#Solving-System-of-Linear-Equations-using-Elimination-Method\" data-toc-modified-id=\"Solving-System-of-Linear-Equations-using-Elimination-Method-1.2\"><span class=\"toc-item-num\">1.2&nbsp;&nbsp;</span>Solving System of Linear Equations using Elimination Method</a></span><ul class=\"toc-item\"><li><span><a href=\"#Elimination-Method\" data-toc-modified-id=\"Elimination-Method-1.2.1\"><span class=\"toc-item-num\">1.2.1&nbsp;&nbsp;</span>Elimination Method</a></span></li><li><span><a href=\"#Preparation-for-the-Implementation-of-Elimination-Method-in-the-Code\" data-toc-modified-id=\"Preparation-for-the-Implementation-of-Elimination-Method-in-the-Code-1.2.2\"><span class=\"toc-item-num\">1.2.2&nbsp;&nbsp;</span>Preparation for the Implementation of Elimination Method in the Code</a></span></li><li><span><a href=\"#Implementation-of-Elimination-Method\" data-toc-modified-id=\"Implementation-of-Elimination-Method-1.2.3\"><span class=\"toc-item-num\">1.2.3&nbsp;&nbsp;</span>Implementation of Elimination Method</a></span></li><li><span><a href=\"#Graphical-Representation-of-the-Solution\" data-toc-modified-id=\"Graphical-Representation-of-the-Solution-1.2.4\"><span class=\"toc-item-num\">1.2.4&nbsp;&nbsp;</span>Graphical Representation of the Solution</a></span></li></ul></li><li><span><a href=\"#System-of-Linear-Equations-with-No-Solutions\" data-toc-modified-id=\"System-of-Linear-Equations-with-No-Solutions-1.3\"><span class=\"toc-item-num\">1.3&nbsp;&nbsp;</span>System of Linear Equations with No Solutions</a></span></li><li><span><a href=\"#System-of-Linear-Equations-with-Infinite-Number-of-Solutions\" data-toc-modified-id=\"System-of-Linear-Equations-with-Infinite-Number-of-Solutions-1.4\"><span class=\"toc-item-num\">1.4&nbsp;&nbsp;</span>System of Linear Equations with Infinite Number of Solutions</a></span></li></ul></li><li><span><a href=\"#Solving-Linear-Systems:-3-variables\" data-toc-modified-id=\"Solving-Linear-Systems:-3-variables-2\"><span class=\"toc-item-num\">2&nbsp;&nbsp;</span>Solving Linear Systems: 3 variables</a></span><ul class=\"toc-item\"><li><span><a href=\"#System-of-Linear-Equations\" data-toc-modified-id=\"System-of-Linear-Equations-2.1\"><span class=\"toc-item-num\">2.1&nbsp;&nbsp;</span>System of Linear Equations</a></span><ul class=\"toc-item\"><li><span><a href=\"#Solving-Systems-of-Linear-Equations-using-Matrices\" data-toc-modified-id=\"Solving-Systems-of-Linear-Equations-using-Matrices-2.1.1\"><span class=\"toc-item-num\">2.1.1&nbsp;&nbsp;</span>Solving Systems of Linear Equations using Matrices</a></span></li><li><span><a href=\"#Evaluating-the-Determinant-of-a-Matrix\" data-toc-modified-id=\"Evaluating-the-Determinant-of-a-Matrix-2.1.2\"><span class=\"toc-item-num\">2.1.2&nbsp;&nbsp;</span>Evaluating the Determinant of a Matrix</a></span></li></ul></li><li><span><a href=\"#Solving-System-of-Linear-Equations-using-Row-Reduction\" data-toc-modified-id=\"Solving-System-of-Linear-Equations-using-Row-Reduction-2.2\"><span class=\"toc-item-num\">2.2&nbsp;&nbsp;</span>Solving System of Linear Equations using Row Reduction</a></span><ul class=\"toc-item\"><li><span><a href=\"#Preparation-for-Row-Reduction\" data-toc-modified-id=\"Preparation-for-Row-Reduction-2.2.1\"><span class=\"toc-item-num\">2.2.1&nbsp;&nbsp;</span>Preparation for Row Reduction</a></span></li><li><span><a href=\"#Functions-for-Elementary-Operations\" data-toc-modified-id=\"Functions-for-Elementary-Operations-2.2.2\"><span class=\"toc-item-num\">2.2.2&nbsp;&nbsp;</span>Functions for Elementary Operations</a></span></li><li><span><a href=\"#Row-Reduction-and-Solution-of-the-Linear-System\" data-toc-modified-id=\"Row-Reduction-and-Solution-of-the-Linear-System-2.2.3\"><span class=\"toc-item-num\">2.2.3&nbsp;&nbsp;</span>Row Reduction and Solution of the Linear System</a></span></li></ul></li><li><span><a href=\"#System-of-Linear-Equations-with-No-Solutions\" data-toc-modified-id=\"System-of-Linear-Equations-with-No-Solutions-2.3\"><span class=\"toc-item-num\">2.3&nbsp;&nbsp;</span>System of Linear Equations with No Solutions</a></span></li><li><span><a href=\"#System-of-Linear-Equations-with-Infinite-Number-of-Solutions\" data-toc-modified-id=\"System-of-Linear-Equations-with-Infinite-Number-of-Solutions-2.4\"><span class=\"toc-item-num\">2.4&nbsp;&nbsp;</span>System of Linear Equations with Infinite Number of Solutions</a></span></li><li><span><a href=\"#System-of-Linear-Equations-and-Corresponding-NumPy-Arrays\" data-toc-modified-id=\"System-of-Linear-Equations-and-Corresponding-NumPy-Arrays-2.5\"><span class=\"toc-item-num\">2.5&nbsp;&nbsp;</span>System of Linear Equations and Corresponding <code>NumPy</code> Arrays</a></span><ul class=\"toc-item\"><li><span><a href=\"#Exercise-1\" data-toc-modified-id=\"Exercise-1-2.5.1\"><span class=\"toc-item-num\">2.5.1&nbsp;&nbsp;</span>Exercise 1</a></span></li><li><span><a href=\"#Exercise-2\" data-toc-modified-id=\"Exercise-2-2.5.2\"><span class=\"toc-item-num\">2.5.2&nbsp;&nbsp;</span>Exercise 2</a></span></li></ul></li><li><span><a href=\"#Elementary-Operations-and-Row-Reduction\" data-toc-modified-id=\"Elementary-Operations-and-Row-Reduction-2.6\"><span class=\"toc-item-num\">2.6&nbsp;&nbsp;</span>Elementary Operations and Row Reduction</a></span><ul class=\"toc-item\"><li><span><a href=\"#Exercise-3\" data-toc-modified-id=\"Exercise-3-2.6.1\"><span class=\"toc-item-num\">2.6.1&nbsp;&nbsp;</span>Exercise 3</a></span></li><li><span><a href=\"#Exercise-4\" data-toc-modified-id=\"Exercise-4-2.6.2\"><span class=\"toc-item-num\">2.6.2&nbsp;&nbsp;</span>Exercise 4</a></span></li><li><span><a href=\"#Exercise-5\" data-toc-modified-id=\"Exercise-5-2.6.3\"><span class=\"toc-item-num\">2.6.3&nbsp;&nbsp;</span>Exercise 5</a></span></li><li><span><a href=\"#Exercise-6\" data-toc-modified-id=\"Exercise-6-2.6.4\"><span class=\"toc-item-num\">2.6.4&nbsp;&nbsp;</span>Exercise 6</a></span></li></ul></li></ul></li><li><span><a href=\"#Vector-Operations\" data-toc-modified-id=\"Vector-Operations-3\"><span class=\"toc-item-num\">3&nbsp;&nbsp;</span>Vector Operations</a></span><ul class=\"toc-item\"><li><span><a href=\"#Scalar-Multiplication-and-Sum-of-Vectors\" data-toc-modified-id=\"Scalar-Multiplication-and-Sum-of-Vectors-3.1\"><span class=\"toc-item-num\">3.1&nbsp;&nbsp;</span>Scalar Multiplication and Sum of Vectors</a></span><ul class=\"toc-item\"><li><span><a href=\"#1.1---Visualization-of-a-Vector-$v\\in\\mathbb{R}^2$\" data-toc-modified-id=\"1.1---Visualization-of-a-Vector-$v\\in\\mathbb{R}^2$-3.1.1\"><span class=\"toc-item-num\">3.1.1&nbsp;&nbsp;</span>1.1 - Visualization of a Vector $v\\in\\mathbb{R}^2$</a></span></li><li><span><a href=\"#Scalar-Multiplication\" data-toc-modified-id=\"Scalar-Multiplication-3.1.2\"><span class=\"toc-item-num\">3.1.2&nbsp;&nbsp;</span>Scalar Multiplication</a></span></li><li><span><a href=\"#Sum-of-Vectors\" data-toc-modified-id=\"Sum-of-Vectors-3.1.3\"><span class=\"toc-item-num\">3.1.3&nbsp;&nbsp;</span>Sum of Vectors</a></span></li><li><span><a href=\"#Norm-of-a-Vector\" data-toc-modified-id=\"Norm-of-a-Vector-3.1.4\"><span class=\"toc-item-num\">3.1.4&nbsp;&nbsp;</span>Norm of a Vector</a></span></li><li><span><a href=\"#2.1---Algebraic-Definition-of-the-Dot-Product\" data-toc-modified-id=\"2.1---Algebraic-Definition-of-the-Dot-Product-3.1.5\"><span class=\"toc-item-num\">3.1.5&nbsp;&nbsp;</span>2.1 - Algebraic Definition of the Dot Product</a></span></li><li><span><a href=\"#Dot-Product-using-Python\" data-toc-modified-id=\"Dot-Product-using-Python-3.1.6\"><span class=\"toc-item-num\">3.1.6&nbsp;&nbsp;</span>Dot Product using Python</a></span></li><li><span><a href=\"#Speed-of-Calculations-in-Vectorized-Form\" data-toc-modified-id=\"Speed-of-Calculations-in-Vectorized-Form-3.1.7\"><span class=\"toc-item-num\">3.1.7&nbsp;&nbsp;</span>Speed of Calculations in Vectorized Form</a></span></li><li><span><a href=\"#Geometric-Definition-of-the-Dot-Product\" data-toc-modified-id=\"Geometric-Definition-of-the-Dot-Product-3.1.8\"><span class=\"toc-item-num\">3.1.8&nbsp;&nbsp;</span>Geometric Definition of the Dot Product</a></span></li><li><span><a href=\"#Application-of-the-Dot-Product:-Vector-Similarity\" data-toc-modified-id=\"Application-of-the-Dot-Product:-Vector-Similarity-3.1.9\"><span class=\"toc-item-num\">3.1.9&nbsp;&nbsp;</span>Application of the Dot Product: Vector Similarity</a></span></li></ul></li></ul></li><li><span><a href=\"#Matrix-Multiplication\" data-toc-modified-id=\"Matrix-Multiplication-4\"><span class=\"toc-item-num\">4&nbsp;&nbsp;</span>Matrix Multiplication</a></span><ul class=\"toc-item\"><li><span><a href=\"#Definition-of-Matrix-Multiplication\" data-toc-modified-id=\"Definition-of-Matrix-Multiplication-4.1\"><span class=\"toc-item-num\">4.1&nbsp;&nbsp;</span>Definition of Matrix Multiplication</a></span></li><li><span><a href=\"#Matrix-Multiplication-using-Python\" data-toc-modified-id=\"Matrix-Multiplication-using-Python-4.2\"><span class=\"toc-item-num\">4.2&nbsp;&nbsp;</span>Matrix Multiplication using Python</a></span></li><li><span><a href=\"#Matrix-Convention-and-Broadcasting\" data-toc-modified-id=\"Matrix-Convention-and-Broadcasting-4.3\"><span class=\"toc-item-num\">4.3&nbsp;&nbsp;</span>Matrix Convention and Broadcasting</a></span></li></ul></li><li><span><a href=\"#Linear-Transformations\" data-toc-modified-id=\"Linear-Transformations-5\"><span class=\"toc-item-num\">5&nbsp;&nbsp;</span>Linear Transformations</a></span><ul class=\"toc-item\"><li><span><a href=\"#Transformations\" data-toc-modified-id=\"Transformations-5.1\"><span class=\"toc-item-num\">5.1&nbsp;&nbsp;</span>Transformations</a></span></li><li><span><a href=\"#Linear-Transformations\" data-toc-modified-id=\"Linear-Transformations-5.2\"><span class=\"toc-item-num\">5.2&nbsp;&nbsp;</span>Linear Transformations</a></span></li><li><span><a href=\"#Transformations-Defined-as-a-Matrix-Multiplication\" data-toc-modified-id=\"Transformations-Defined-as-a-Matrix-Multiplication-5.3\"><span class=\"toc-item-num\">5.3&nbsp;&nbsp;</span>Transformations Defined as a Matrix Multiplication</a></span></li><li><span><a href=\"#Standard-Transformations-in-a-Plane\" data-toc-modified-id=\"Standard-Transformations-in-a-Plane-5.4\"><span class=\"toc-item-num\">5.4&nbsp;&nbsp;</span>Standard Transformations in a Plane</a></span><ul class=\"toc-item\"><li><span><a href=\"#Example-1:-Horizontal-Scaling-(Dilation)\" data-toc-modified-id=\"Example-1:-Horizontal-Scaling-(Dilation)-5.4.1\"><span class=\"toc-item-num\">5.4.1&nbsp;&nbsp;</span>Example 1: Horizontal Scaling (Dilation)</a></span></li><li><span><a href=\"#Example-2:-Reflection-about-y-axis-(the-vertical-axis)\" data-toc-modified-id=\"Example-2:-Reflection-about-y-axis-(the-vertical-axis)-5.4.2\"><span class=\"toc-item-num\">5.4.2&nbsp;&nbsp;</span>Example 2: Reflection about y-axis (the vertical axis)</a></span></li></ul></li><li><span><a href=\"#Application-of-Linear-Transformations:-Computer-Graphics\" data-toc-modified-id=\"Application-of-Linear-Transformations:-Computer-Graphics-5.5\"><span class=\"toc-item-num\">5.5&nbsp;&nbsp;</span>Application of Linear Transformations: Computer Graphics</a></span></li></ul></li><li><span><a href=\"#Simple-Linear-Regression\" data-toc-modified-id=\"Simple-Linear-Regression-6\"><span class=\"toc-item-num\">6&nbsp;&nbsp;</span>Simple Linear Regression</a></span><ul class=\"toc-item\"><li><ul class=\"toc-item\"><li><span><a href=\"#Simple-Linear-Regression-Model\" data-toc-modified-id=\"Simple-Linear-Regression-Model-6.0.1\"><span class=\"toc-item-num\">6.0.1&nbsp;&nbsp;</span>Simple Linear Regression Model</a></span></li><li><span><a href=\"#Neural-Network-Model-with-a-Single-Perceptron-and-One-Input-Node\" data-toc-modified-id=\"Neural-Network-Model-with-a-Single-Perceptron-and-One-Input-Node-6.0.2\"><span class=\"toc-item-num\">6.0.2&nbsp;&nbsp;</span>Neural Network Model with a Single Perceptron and One Input Node</a></span></li><li><span><a href=\"#Dataset\" data-toc-modified-id=\"Dataset-6.0.3\"><span class=\"toc-item-num\">6.0.3&nbsp;&nbsp;</span>Dataset</a></span></li><li><span><a href=\"#Exercise-1\" data-toc-modified-id=\"Exercise-1-6.0.4\"><span class=\"toc-item-num\">6.0.4&nbsp;&nbsp;</span>Exercise 1</a></span></li></ul></li><li><span><a href=\"#Implementation-of-the-Neural-Network-Model-for-Linear-Regression\" data-toc-modified-id=\"Implementation-of-the-Neural-Network-Model-for-Linear-Regression-6.1\"><span class=\"toc-item-num\">6.1&nbsp;&nbsp;</span>Implementation of the Neural Network Model for Linear Regression</a></span><ul class=\"toc-item\"><li><span><a href=\"#Defining-the-Neural-Network-Structure\" data-toc-modified-id=\"Defining-the-Neural-Network-Structure-6.1.1\"><span class=\"toc-item-num\">6.1.1&nbsp;&nbsp;</span>Defining the Neural Network Structure</a></span></li><li><span><a href=\"#Exercise-2\" data-toc-modified-id=\"Exercise-2-6.1.2\"><span class=\"toc-item-num\">6.1.2&nbsp;&nbsp;</span>Exercise 2</a></span></li><li><span><a href=\"#Initialize-the-Model's-Parameters\" data-toc-modified-id=\"Initialize-the-Model's-Parameters-6.1.3\"><span class=\"toc-item-num\">6.1.3&nbsp;&nbsp;</span>Initialize the Model's Parameters</a></span></li><li><span><a href=\"#Exercise-3\" data-toc-modified-id=\"Exercise-3-6.1.4\"><span class=\"toc-item-num\">6.1.4&nbsp;&nbsp;</span>Exercise 3</a></span></li><li><span><a href=\"#The-Loop\" data-toc-modified-id=\"The-Loop-6.1.5\"><span class=\"toc-item-num\">6.1.5&nbsp;&nbsp;</span>The Loop</a></span></li><li><span><a href=\"#Exercise-4\" data-toc-modified-id=\"Exercise-4-6.1.6\"><span class=\"toc-item-num\">6.1.6&nbsp;&nbsp;</span>Exercise 4</a></span></li><li><span><a href=\"#Integrate-parts-2.1,-2.2-and-2.3-in-nn_model()\" data-toc-modified-id=\"Integrate-parts-2.1,-2.2-and-2.3-in-nn_model()-6.1.7\"><span class=\"toc-item-num\">6.1.7&nbsp;&nbsp;</span>Integrate parts 2.1, 2.2 and 2.3 in nn_model()</a></span></li><li><span><a href=\"#Exercise-5\" data-toc-modified-id=\"Exercise-5-6.1.8\"><span class=\"toc-item-num\">6.1.8&nbsp;&nbsp;</span>Exercise 5</a></span></li></ul></li><li><span><a href=\"#Multiple-Linear-Regression\" data-toc-modified-id=\"Multiple-Linear-Regression-6.2\"><span class=\"toc-item-num\">6.2&nbsp;&nbsp;</span>Multiple Linear Regression</a></span><ul class=\"toc-item\"><li><span><a href=\"#Multipe-Linear-Regression-Model\" data-toc-modified-id=\"Multipe-Linear-Regression-Model-6.2.1\"><span class=\"toc-item-num\">6.2.1&nbsp;&nbsp;</span>Multipe Linear Regression Model</a></span></li><li><span><a href=\"#Neural-Network-Model-with-a-Single-Perceptron-and-Two-Input-Nodes\" data-toc-modified-id=\"Neural-Network-Model-with-a-Single-Perceptron-and-Two-Input-Nodes-6.2.2\"><span class=\"toc-item-num\">6.2.2&nbsp;&nbsp;</span>Neural Network Model with a Single Perceptron and Two Input Nodes</a></span></li><li><span><a href=\"#Dataset\" data-toc-modified-id=\"Dataset-6.2.3\"><span class=\"toc-item-num\">6.2.3&nbsp;&nbsp;</span>Dataset</a></span></li><li><span><a href=\"#Performance-of-the-Neural-Network-Model-for-Multiple-Linear-Regression\" data-toc-modified-id=\"Performance-of-the-Neural-Network-Model-for-Multiple-Linear-Regression-6.2.4\"><span class=\"toc-item-num\">6.2.4&nbsp;&nbsp;</span>Performance of the Neural Network Model for Multiple Linear Regression</a></span></li><li><span><a href=\"#Exercise-6\" data-toc-modified-id=\"Exercise-6-6.2.5\"><span class=\"toc-item-num\">6.2.5&nbsp;&nbsp;</span>Exercise 6</a></span></li></ul></li></ul></li><li><span><a href=\"#Eigenvalues-and-Eigenvectors\" data-toc-modified-id=\"Eigenvalues-and-Eigenvectors-7\"><span class=\"toc-item-num\">7&nbsp;&nbsp;</span>Eigenvalues and Eigenvectors</a></span><ul class=\"toc-item\"><li><span><a href=\"#Eigenvalues-and-Eigenvectors:-Definition-and-Interpretation\" data-toc-modified-id=\"Eigenvalues-and-Eigenvectors:-Definition-and-Interpretation-7.1\"><span class=\"toc-item-num\">7.1&nbsp;&nbsp;</span>Eigenvalues and Eigenvectors: Definition and Interpretation</a></span><ul class=\"toc-item\"><li><span><a href=\"#1.1---Definition-of-Eigenvalues-and-Eigenvectors\" data-toc-modified-id=\"1.1---Definition-of-Eigenvalues-and-Eigenvectors-7.1.1\"><span class=\"toc-item-num\">7.1.1&nbsp;&nbsp;</span>1.1 - Definition of Eigenvalues and Eigenvectors</a></span></li><li><span><a href=\"#Finding-Eigenvalues-and-Eigenvectors-with-Python\" data-toc-modified-id=\"Finding-Eigenvalues-and-Eigenvectors-with-Python-7.1.2\"><span class=\"toc-item-num\">7.1.2&nbsp;&nbsp;</span>Finding Eigenvalues and Eigenvectors with Python</a></span></li></ul></li><li><span><a href=\"#Eigenvalues-and-Eigenvectors-of-the-Standard-Transformations-in-a-Plane\" data-toc-modified-id=\"Eigenvalues-and-Eigenvectors-of-the-Standard-Transformations-in-a-Plane-7.2\"><span class=\"toc-item-num\">7.2&nbsp;&nbsp;</span>Eigenvalues and Eigenvectors of the Standard Transformations in a Plane</a></span><ul class=\"toc-item\"><li><span><a href=\"#Exercise-1\" data-toc-modified-id=\"Exercise-1-7.2.1\"><span class=\"toc-item-num\">7.2.1&nbsp;&nbsp;</span>Exercise 1</a></span></li><li><span><a href=\"#2.2---Example-2:-Shear-in-x-direction\" data-toc-modified-id=\"2.2---Example-2:-Shear-in-x-direction-7.2.2\"><span class=\"toc-item-num\">7.2.2&nbsp;&nbsp;</span>2.2 - Example 2: Shear in x-direction</a></span></li><li><span><a href=\"#Exercise-2\" data-toc-modified-id=\"Exercise-2-7.2.3\"><span class=\"toc-item-num\">7.2.3&nbsp;&nbsp;</span>Exercise 2</a></span></li><li><span><a href=\"#Example-3:-Rotation\" data-toc-modified-id=\"Example-3:-Rotation-7.2.4\"><span class=\"toc-item-num\">7.2.4&nbsp;&nbsp;</span>Example 3: Rotation</a></span></li><li><span><a href=\"#Example-4:-Identity-Matrix-and-Scaling-in-All-Directions\" data-toc-modified-id=\"Example-4:-Identity-Matrix-and-Scaling-in-All-Directions-7.2.5\"><span class=\"toc-item-num\">7.2.5&nbsp;&nbsp;</span>Example 4: Identity Matrix and Scaling in All Directions</a></span></li><li><span><a href=\"#Example-5:-Projection-onto-x-axis\" data-toc-modified-id=\"Example-5:-Projection-onto-x-axis-7.2.6\"><span class=\"toc-item-num\">7.2.6&nbsp;&nbsp;</span>Example 5: Projection onto x-axis</a></span></li></ul></li><li><span><a href=\"#Application-of-Eigenvalues-and-Eigenvectors:-Navigating-Webpages\" data-toc-modified-id=\"Application-of-Eigenvalues-and-Eigenvectors:-Navigating-Webpages-7.3\"><span class=\"toc-item-num\">7.3&nbsp;&nbsp;</span>Application of Eigenvalues and Eigenvectors: Navigating Webpages</a></span><ul class=\"toc-item\"><li><span><a href=\"#Exercise-3\" data-toc-modified-id=\"Exercise-3-7.3.1\"><span class=\"toc-item-num\">7.3.1&nbsp;&nbsp;</span>Exercise 3</a></span></li><li><span><a href=\"#Exercise-4\" data-toc-modified-id=\"Exercise-4-7.3.2\"><span class=\"toc-item-num\">7.3.2&nbsp;&nbsp;</span>Exercise 4</a></span></li></ul></li></ul></li></ul></div>"
   ]
  },
  {
   "cell_type": "code",
   "execution_count": null,
   "id": "8997fa33",
   "metadata": {},
   "outputs": [],
   "source": []
  },
  {
   "cell_type": "markdown",
   "id": "dadff4e2-efa9-498b-903b-3d2c6eb71423",
   "metadata": {},
   "source": [
    "---"
   ]
  },
  {
   "cell_type": "markdown",
   "id": "b143eb7f-4109-4085-ba0e-734bb4d1a72a",
   "metadata": {},
   "source": [
    "# Solving Linear Systems: 2 variables"
   ]
  },
  {
   "cell_type": "markdown",
   "id": "e038deb0-5ac5-4ea3-8e54-16a8755b42b8",
   "metadata": {},
   "source": [
    "**Systems of Linear Equations**\n",
    "Matrices are commonly used in machine learning and data science to represent data and its transformations. In this week, you will learn how matrices naturally arise from systems of equations and how certain matrix properties can be thought in terms of operations on system of equations."
   ]
  },
  {
   "cell_type": "markdown",
   "id": "d55f4efa-14ce-4f79-9e80-3e42915d80bf",
   "metadata": {},
   "source": [
    "## Representing and Solving System of Linear Equations using Matrices"
   ]
  },
  {
   "cell_type": "code",
   "execution_count": 2,
   "id": "e33c4e2f-49dd-43f4-bd8e-861ba18896a3",
   "metadata": {
    "execution": {
     "iopub.execute_input": "2023-10-01T18:40:20.565871Z",
     "iopub.status.busy": "2023-10-01T18:40:20.564872Z",
     "iopub.status.idle": "2023-10-01T18:40:20.875544Z",
     "shell.execute_reply": "2023-10-01T18:40:20.874061Z",
     "shell.execute_reply.started": "2023-10-01T18:40:20.565871Z"
    }
   },
   "outputs": [],
   "source": [
    "import numpy as np"
   ]
  },
  {
   "cell_type": "markdown",
   "id": "5206dac6-fb87-4a3c-99e8-35ef67873c07",
   "metadata": {},
   "source": [
    "### System of Linear Equations\n",
    "\n",
    "A **system of linear equations** (or **linear system**) is a collection of one or more linear equations involving the same variables. For example:\n",
    "\n",
    "\n",
    "$$\\begin{cases} \n",
    "-x_1+3x_2=7, \\\\ 3x_1+2x_2=1, \\end{cases}\\tag{1}$$\n",
    "\n",
    "is a system of two equations with two unknown variables $x_1$, $x_2$. **To solve** a system of linear equations means to find such values of the variables $x_1$, $x_2$, that all of its equations are simultaneously satisfied.\n",
    "\n",
    "A linear system is **inconsistent** if it has no solution, and otherwise it is said to be **consistent**. Consistent system can have one or infinite number of solutions."
   ]
  },
  {
   "cell_type": "markdown",
   "id": "8d7e1a6f-87e0-4dca-b8a5-9a43fcb5d626",
   "metadata": {},
   "source": [
    "### Solving Systems of Linear Equations using Matrices\n",
    "\n",
    "Linear systems with two equations are easy to solve manually, but preparing for more complicated cases, you will investigate some solution techniques. \n",
    "\n",
    "`NumPy` linear algebra package provides quick and reliable way to solve the system of linear equations using function `np.linalg.solve(A, b)`. Here $A$ is a matrix, each row of which represents one equation in the system and each column corresponds to the variable $x_1$, $x_2$. And $b$ is a 1-D array of the free (right side) coefficients. More information about the `np.linalg.solve()` function can be found in [documentation](https://numpy.org/doc/stable/reference/generated/numpy.linalg.solve.html).\n",
    "\n",
    "Given the system of linear equations $(1)$, you can set matrix $A$ and 1-D array $b$ as:"
   ]
  },
  {
   "cell_type": "code",
   "execution_count": 3,
   "id": "8946cf3c-08b4-4ecd-8250-70be5fcd8c29",
   "metadata": {
    "execution": {
     "iopub.execute_input": "2023-10-01T18:40:21.687709Z",
     "iopub.status.busy": "2023-10-01T18:40:21.687709Z",
     "iopub.status.idle": "2023-10-01T18:40:21.708951Z",
     "shell.execute_reply": "2023-10-01T18:40:21.707950Z",
     "shell.execute_reply.started": "2023-10-01T18:40:21.687709Z"
    }
   },
   "outputs": [
    {
     "name": "stdout",
     "output_type": "stream",
     "text": [
      "Matrix A:\n",
      "[[-1.  3.]\n",
      " [ 3.  2.]]\n",
      "\n",
      "Array b:\n",
      "[7. 1.]\n"
     ]
    }
   ],
   "source": [
    "A = np.array([\n",
    "        [-1, 3],\n",
    "        [3, 2]\n",
    "    ], dtype=np.dtype(float))\n",
    "\n",
    "b = np.array([7, 1], dtype=np.dtype(float))\n",
    "\n",
    "print(\"Matrix A:\")\n",
    "print(A)\n",
    "print(\"\\nArray b:\")\n",
    "print(b)"
   ]
  },
  {
   "cell_type": "markdown",
   "id": "e4526065-9bde-4ab9-912c-5535dec53776",
   "metadata": {},
   "source": [
    "Check the dimensions of $A$ and $b$ using the `shape` attribute (you can also use `np.shape()` as an alternative):"
   ]
  },
  {
   "cell_type": "code",
   "execution_count": 4,
   "id": "005dae4c-5958-47f5-bf0c-009e4f97a296",
   "metadata": {
    "execution": {
     "iopub.execute_input": "2023-10-01T18:40:59.761263Z",
     "iopub.status.busy": "2023-10-01T18:40:59.760273Z",
     "iopub.status.idle": "2023-10-01T18:40:59.780957Z",
     "shell.execute_reply": "2023-10-01T18:40:59.779236Z",
     "shell.execute_reply.started": "2023-10-01T18:40:59.761263Z"
    }
   },
   "outputs": [
    {
     "name": "stdout",
     "output_type": "stream",
     "text": [
      "Shape of A: (2, 2)\n",
      "Shape of b: (2,)\n"
     ]
    }
   ],
   "source": [
    "print(f\"Shape of A: {A.shape}\")\n",
    "print(f\"Shape of b: {b.shape}\")"
   ]
  },
  {
   "cell_type": "markdown",
   "id": "c95696d3-ea97-44b0-b40b-0bc11e536630",
   "metadata": {},
   "source": [
    "Now simply use `np.linalg.solve(A, b)` function to find the solution of the system $(1)$. The result will be saved in the 1-D array $x$. The elements will correspond to the values of $x_1$ and $x_2$:"
   ]
  },
  {
   "cell_type": "code",
   "execution_count": 5,
   "id": "682a2933-dbad-42f3-8c4a-6f2f8c0d248f",
   "metadata": {
    "execution": {
     "iopub.execute_input": "2023-10-01T18:41:27.558029Z",
     "iopub.status.busy": "2023-10-01T18:41:27.556863Z",
     "iopub.status.idle": "2023-10-01T18:41:27.571782Z",
     "shell.execute_reply": "2023-10-01T18:41:27.571782Z",
     "shell.execute_reply.started": "2023-10-01T18:41:27.558029Z"
    }
   },
   "outputs": [
    {
     "name": "stdout",
     "output_type": "stream",
     "text": [
      "Solution: [-1.  2.]\n"
     ]
    }
   ],
   "source": [
    "x = np.linalg.solve(A, b)\n",
    "\n",
    "print(f\"Solution: {x}\")"
   ]
  },
  {
   "cell_type": "markdown",
   "id": "afb9f7bf-01dd-409b-a0e2-3463bb089111",
   "metadata": {},
   "source": [
    "Try to substitute those values of $x_1$ and $x_2$ into the original system of equations to check its consistency."
   ]
  },
  {
   "cell_type": "markdown",
   "id": "eab52819-ce07-4194-b6c0-5be1a3258541",
   "metadata": {},
   "source": [
    "### Evaluating Determinant of a Matrix\n",
    "\n",
    "Matrix $A$ corresponding to the linear system $(1)$ is a **square matrix** - it has the same number of rows and columns. In case of a square matrix it is possible to calculate its determinant - a real number which characterizes some properties of the matrix. Linear system containing two (or more) equations with the same number of unknown variables will have one solution if and only if matrix $A$ has non-zero determinant.\n",
    "\n",
    "Let's calculate the determinant using `NumPy` linear algebra package. You can do it with the `np.linalg.det(A)` function. More information about it can be found in [documentation](https://numpy.org/doc/stable/reference/generated/numpy.linalg.det.html)."
   ]
  },
  {
   "cell_type": "code",
   "execution_count": 6,
   "id": "c4d8b6a6-84ab-4f27-a8b3-492529bde88d",
   "metadata": {
    "execution": {
     "iopub.execute_input": "2023-10-01T18:43:48.538301Z",
     "iopub.status.busy": "2023-10-01T18:43:48.537301Z",
     "iopub.status.idle": "2023-10-01T18:43:48.553181Z",
     "shell.execute_reply": "2023-10-01T18:43:48.552181Z",
     "shell.execute_reply.started": "2023-10-01T18:43:48.538301Z"
    }
   },
   "outputs": [
    {
     "name": "stdout",
     "output_type": "stream",
     "text": [
      "Determinant of matrix A: -11.00\n"
     ]
    }
   ],
   "source": [
    "d = np.linalg.det(A)\n",
    "\n",
    "print(f\"Determinant of matrix A: {d:.2f}\")"
   ]
  },
  {
   "cell_type": "markdown",
   "id": "bf31dbb8-ebae-4867-805b-1147b804d8b4",
   "metadata": {},
   "source": [
    "Note that its value is non-zero, as expected for a system with exactly one solution."
   ]
  },
  {
   "cell_type": "markdown",
   "id": "5083cac6-3b4d-460b-82df-e3e6efdaf8c0",
   "metadata": {},
   "source": [
    "## Solving System of Linear Equations using Elimination Method"
   ]
  },
  {
   "cell_type": "markdown",
   "id": "1a55610f-c4dd-4412-812f-f4d9a36079a3",
   "metadata": {},
   "source": [
    "You can see how easy it is to use contemporary packages to solve linear equations. However, for deeper understanding of mathematical concepts, it is important to practice some solution techniques manually. Programming approach can still help here to reduce the amount of arithmetical calculations, and focus on the method itself."
   ]
  },
  {
   "cell_type": "markdown",
   "id": "473215a4-6955-4a38-9bbd-b8b4b7890426",
   "metadata": {},
   "source": [
    "### Elimination Method"
   ]
  },
  {
   "cell_type": "markdown",
   "id": "b876690e-ce9b-4ee5-93fe-644c763d0180",
   "metadata": {},
   "source": [
    "In the **elimination method** you either add or subtract the equations of the linear system to get an equation with smaller number of variables. If needed, you can also multiply whole equation by non-zero number. \n",
    "\n",
    "Take a look at the system $(1)$ again:\n",
    "\n",
    "$$\\begin{cases} \n",
    "-x_1+3x_2=7, \\\\ 3x_1+2x_2=1, \\end{cases}$$\n",
    "\n",
    "Multiply first equation by 3, add it to the second equation and exchange the second equation with the result of this addition:\n",
    "\n",
    "$$\\begin{cases} \n",
    "-x_1+3x_2=7, \\\\ 11x_2=22. \\end{cases}\\tag{2}$$\n",
    "\n",
    "You eliminated variable $x_1$ from the second equation and brough it to the form where, dividing by $11$, you can see the solution value for $x_2$: $x_2=2$. Now take $x_2=2$ in the first equation:\n",
    "\n",
    "$$\\begin{cases} \n",
    "-x_1+3 \\times 2=7, \\\\ x_2=2, \\end{cases}\\tag{3}$$\n",
    "\n",
    "And find the solution:\n",
    "\n",
    "$$\\begin{cases} \n",
    "x_1=-1, \\\\ x_2=2. \\end{cases}\\tag{4}$$\n",
    "\n",
    "Check that it's the same one that you found in the section [1.2](#1.2)."
   ]
  },
  {
   "cell_type": "markdown",
   "id": "b4e065b6-b755-4fa0-9ca5-0a3238b47772",
   "metadata": {},
   "source": [
    "### Preparation for the Implementation of Elimination Method in the Code\n",
    "\n",
    "Representing the system in a matrix form as\n",
    "$\\begin{bmatrix}\n",
    "-1 & 3 & 7 \\\\\n",
    "3 & 2 & 1\n",
    "\\end{bmatrix},\n",
    "$\n",
    "you can apply the same operations to the rows of the matrix with Python code.\n",
    "\n",
    "Unify matrix $A$ and array $b$ into one matrix using `np.hstack()` function. Note that the shape of the originally defined array $b$ was $(2,)$, to stack it with the $(2, 2)$ matrix you need to use `.reshape((2, 1))` function:"
   ]
  },
  {
   "cell_type": "code",
   "execution_count": 7,
   "id": "2f71e0c4-2e8e-452b-b6a8-fc0d927e1057",
   "metadata": {
    "execution": {
     "iopub.execute_input": "2023-10-01T18:48:22.612041Z",
     "iopub.status.busy": "2023-10-01T18:48:22.612041Z",
     "iopub.status.idle": "2023-10-01T18:48:22.623532Z",
     "shell.execute_reply": "2023-10-01T18:48:22.621499Z",
     "shell.execute_reply.started": "2023-10-01T18:48:22.612041Z"
    }
   },
   "outputs": [
    {
     "name": "stdout",
     "output_type": "stream",
     "text": [
      "[[-1.  3.  7.]\n",
      " [ 3.  2.  1.]]\n"
     ]
    }
   ],
   "source": [
    "A_system = np.hstack((A, b.reshape((2, 1))))\n",
    "\n",
    "print(A_system)"
   ]
  },
  {
   "cell_type": "markdown",
   "id": "a7de02c5-f95a-42be-9ee7-4735def0617b",
   "metadata": {},
   "source": [
    "Let's review how to extract a row of a matrix, which will help later to perform required operations with the rows. Remember, that indexing of arrays in Python starts from zero, so to extract second row of a matrix, you need to use the following code:"
   ]
  },
  {
   "cell_type": "code",
   "execution_count": 8,
   "id": "63985955-a443-418d-a9c0-47c0429f1a8e",
   "metadata": {
    "execution": {
     "iopub.execute_input": "2023-10-01T18:49:04.535530Z",
     "iopub.status.busy": "2023-10-01T18:49:04.535530Z",
     "iopub.status.idle": "2023-10-01T18:49:04.542442Z",
     "shell.execute_reply": "2023-10-01T18:49:04.541943Z",
     "shell.execute_reply.started": "2023-10-01T18:49:04.535530Z"
    }
   },
   "outputs": [
    {
     "name": "stdout",
     "output_type": "stream",
     "text": [
      "[3. 2. 1.]\n"
     ]
    }
   ],
   "source": [
    "print(A_system[1])"
   ]
  },
  {
   "cell_type": "markdown",
   "id": "41f66c62-e347-4934-8105-33d120c15449",
   "metadata": {},
   "source": [
    "### Implementation of Elimination Method\n",
    "\n",
    "Let's apply some operations to the matrix $A\\_system$ to eliminate variable . First, copy the matrix to keep the original one without any changes. Then multiply first row by 3, add it to the second row and exchange the second row with the result of this addition:"
   ]
  },
  {
   "cell_type": "code",
   "execution_count": 9,
   "id": "bba363a0-1a3c-42d6-9d0c-fe917a7163d6",
   "metadata": {
    "execution": {
     "iopub.execute_input": "2023-10-01T18:49:31.426872Z",
     "iopub.status.busy": "2023-10-01T18:49:31.425872Z",
     "iopub.status.idle": "2023-10-01T18:49:31.445236Z",
     "shell.execute_reply": "2023-10-01T18:49:31.442399Z",
     "shell.execute_reply.started": "2023-10-01T18:49:31.426872Z"
    }
   },
   "outputs": [],
   "source": [
    "# Function .copy() is used to keep the original matrix without any changes.\n",
    "A_system_res = A_system.copy()"
   ]
  },
  {
   "cell_type": "code",
   "execution_count": 10,
   "id": "ca8cf79c-c7d2-4990-be34-79774de77c3c",
   "metadata": {
    "execution": {
     "iopub.execute_input": "2023-10-01T18:49:39.709166Z",
     "iopub.status.busy": "2023-10-01T18:49:39.708071Z",
     "iopub.status.idle": "2023-10-01T18:49:39.720139Z",
     "shell.execute_reply": "2023-10-01T18:49:39.719126Z",
     "shell.execute_reply.started": "2023-10-01T18:49:39.709166Z"
    }
   },
   "outputs": [
    {
     "name": "stdout",
     "output_type": "stream",
     "text": [
      "[[-1.  3.  7.]\n",
      " [ 0. 11. 22.]]\n"
     ]
    }
   ],
   "source": [
    "A_system_res[1] = 3 * A_system_res[0] + A_system_res[1]\n",
    "\n",
    "print(A_system_res)"
   ]
  },
  {
   "cell_type": "markdown",
   "id": "92a6975a-48ad-4675-a5c6-1776f5948903",
   "metadata": {
    "execution": {
     "iopub.execute_input": "2023-10-01T18:49:50.651922Z",
     "iopub.status.busy": "2023-10-01T18:49:50.651420Z",
     "iopub.status.idle": "2023-10-01T18:49:50.665590Z",
     "shell.execute_reply": "2023-10-01T18:49:50.665590Z",
     "shell.execute_reply.started": "2023-10-01T18:49:50.651922Z"
    }
   },
   "source": [
    "Multipy second row by $1/11$:"
   ]
  },
  {
   "cell_type": "code",
   "execution_count": 12,
   "id": "5e52c511-97be-4d47-b5a4-7cedcde3779d",
   "metadata": {
    "execution": {
     "iopub.execute_input": "2023-10-01T18:50:06.229728Z",
     "iopub.status.busy": "2023-10-01T18:50:06.228720Z",
     "iopub.status.idle": "2023-10-01T18:50:06.248329Z",
     "shell.execute_reply": "2023-10-01T18:50:06.247827Z",
     "shell.execute_reply.started": "2023-10-01T18:50:06.229728Z"
    }
   },
   "outputs": [
    {
     "name": "stdout",
     "output_type": "stream",
     "text": [
      "[[-1.  3.  7.]\n",
      " [ 0.  1.  2.]]\n"
     ]
    }
   ],
   "source": [
    "A_system_res[1] = 1/11 * A_system_res[1]\n",
    "\n",
    "print(A_system_res)"
   ]
  },
  {
   "cell_type": "markdown",
   "id": "d3eea380-8ec1-4564-9d89-84a5a1b8963a",
   "metadata": {},
   "source": [
    "### Graphical Representation of the Solution\n",
    "\n",
    "A linear equation in two variables (here, $x_1$ and $x_2$) is represented geometrically by a line which points $(x_1, x_2)$ make up the collection of solutions of the equation. This is called the **graph of the linear equation**. In case of the system of two equations there will be two lines corresponding to each of the equations, and the solution will be the intersection point of those lines.\n",
    "\n",
    "In the following code you will define a function `plot_lines()` to plot the lines and use it later to represent the solution which you found earlier. Do not worry if the code in the following cell will not be clear - at this stage this is not important code to understand."
   ]
  },
  {
   "cell_type": "code",
   "execution_count": 13,
   "id": "cd46e71d-5583-401e-8384-464549c5cdba",
   "metadata": {
    "execution": {
     "iopub.execute_input": "2023-10-01T18:50:44.256412Z",
     "iopub.status.busy": "2023-10-01T18:50:44.256345Z",
     "iopub.status.idle": "2023-10-01T18:50:44.801542Z",
     "shell.execute_reply": "2023-10-01T18:50:44.800755Z",
     "shell.execute_reply.started": "2023-10-01T18:50:44.256412Z"
    }
   },
   "outputs": [],
   "source": [
    "import matplotlib.pyplot as plt\n",
    "\n",
    "def plot_lines(M):\n",
    "    x_1 = np.linspace(-10,10,100)\n",
    "    x_2_line_1 = (M[0,2] - M[0,0] * x_1) / M[0,1]\n",
    "    x_2_line_2 = (M[1,2] - M[1,0] * x_1) / M[1,1]\n",
    "    \n",
    "    _, ax = plt.subplots(figsize=(10, 10))\n",
    "    ax.plot(x_1, x_2_line_1, '-', linewidth=2, color='#0075ff',\n",
    "        label=f'$x_2={-M[0,0]/M[0,1]:.2f}x_1 + {M[0,2]/M[0,1]:.2f}$')\n",
    "    ax.plot(x_1, x_2_line_2, '-', linewidth=2, color='#ff7300',\n",
    "        label=f'$x_2={-M[1,0]/M[1,1]:.2f}x_1 + {M[1,2]/M[1,1]:.2f}$')\n",
    "\n",
    "    A = M[:, 0:-1]\n",
    "    b = M[:, -1::].flatten()\n",
    "    d = np.linalg.det(A)\n",
    "\n",
    "    if d != 0:\n",
    "        solution = np.linalg.solve(A,b) \n",
    "        ax.plot(solution[0], solution[1], '-o', mfc='none', \n",
    "            markersize=10, markeredgecolor='#ff0000', markeredgewidth=2)\n",
    "        ax.text(solution[0]-0.25, solution[1]+0.75, f'$(${solution[0]:.0f}$,{solution[1]:.0f})$', fontsize=14)\n",
    "    ax.tick_params(axis='x', labelsize=14)\n",
    "    ax.tick_params(axis='y', labelsize=14)\n",
    "    ax.set_xticks(np.arange(-10, 10))\n",
    "    ax.set_yticks(np.arange(-10, 10))\n",
    "\n",
    "    plt.xlabel('$x_1$', size=14)\n",
    "    plt.ylabel('$x_2$', size=14)\n",
    "    plt.legend(loc='upper right', fontsize=14)\n",
    "    plt.axis([-10, 10, -10, 10])\n",
    "\n",
    "    plt.grid()\n",
    "    plt.gca().set_aspect(\"equal\")\n",
    "\n",
    "    plt.show()"
   ]
  },
  {
   "cell_type": "code",
   "execution_count": 14,
   "id": "801c2bbc-799a-4dea-b46b-3e36a1ce6e7f",
   "metadata": {
    "execution": {
     "iopub.execute_input": "2023-10-01T18:50:58.432274Z",
     "iopub.status.busy": "2023-10-01T18:50:58.432274Z",
     "iopub.status.idle": "2023-10-01T18:50:59.005150Z",
     "shell.execute_reply": "2023-10-01T18:50:59.004149Z",
     "shell.execute_reply.started": "2023-10-01T18:50:58.432274Z"
    }
   },
   "outputs": [
    {
     "data": {
      "image/png": "[encoded data removed]",
      "text/plain": [
       "<Figure size 1000x1000 with 1 Axes>"
      ]
     },
     "metadata": {},
     "output_type": "display_data"
    }
   ],
   "source": [
    "plot_lines(A_system)"
   ]
  },
  {
   "cell_type": "markdown",
   "id": "a71468e8-01e3-4e89-a0c1-5951b2109b02",
   "metadata": {},
   "source": [
    "## System of Linear Equations with No Solutions\n",
    "\n",
    "Given another system of linear equations:\n",
    "\n",
    "$$\\begin{cases} \n",
    "-x_1+3x_2=7, \\\\ 3x_1-9x_2=1, \\end{cases}\\tag{5}$$\n",
    "\n",
    "let's find the determinant of the corresponding matrix."
   ]
  },
  {
   "cell_type": "code",
   "execution_count": 15,
   "id": "074d6ad7-c9ba-46b0-8d2b-e2819235b3e2",
   "metadata": {
    "execution": {
     "iopub.execute_input": "2023-10-01T18:52:15.119341Z",
     "iopub.status.busy": "2023-10-01T18:52:15.119341Z",
     "iopub.status.idle": "2023-10-01T18:52:15.134960Z",
     "shell.execute_reply": "2023-10-01T18:52:15.134593Z",
     "shell.execute_reply.started": "2023-10-01T18:52:15.119341Z"
    }
   },
   "outputs": [
    {
     "name": "stdout",
     "output_type": "stream",
     "text": [
      "Determinant of matrix A_2: 0.00\n"
     ]
    }
   ],
   "source": [
    "A_2 = np.array([\n",
    "        [-1, 3],\n",
    "        [3, -9]\n",
    "    ], dtype=np.dtype(float))\n",
    "\n",
    "b_2 = np.array([7, 1], dtype=np.dtype(float))\n",
    "\n",
    "d_2 = np.linalg.det(A_2)\n",
    "\n",
    "print(f\"Determinant of matrix A_2: {d_2:.2f}\")"
   ]
  },
  {
   "cell_type": "markdown",
   "id": "57c8b4b2-f321-4de7-a373-aa17e5d33695",
   "metadata": {},
   "source": [
    "It is equal to zero, thus the system cannot have one unique solution. It will have either infinitely many solutions or none. The consistency of it will depend on the free coefficients (right side coefficients). You can run the code in the following cell to check that the `np.linalg.solve()` function will give an error due to singularity."
   ]
  },
  {
   "cell_type": "code",
   "execution_count": 16,
   "id": "236f75ae-7e18-46f7-8cc3-3c562b1b538b",
   "metadata": {
    "execution": {
     "iopub.execute_input": "2023-10-01T18:52:44.333873Z",
     "iopub.status.busy": "2023-10-01T18:52:44.332870Z",
     "iopub.status.idle": "2023-10-01T18:52:44.344133Z",
     "shell.execute_reply": "2023-10-01T18:52:44.344133Z",
     "shell.execute_reply.started": "2023-10-01T18:52:44.333873Z"
    }
   },
   "outputs": [
    {
     "name": "stdout",
     "output_type": "stream",
     "text": [
      "Singular matrix\n"
     ]
    }
   ],
   "source": [
    "try:\n",
    "    x_2 = np.linalg.solve(A_2, b_2)\n",
    "except np.linalg.LinAlgError as err:\n",
    "    print(err)"
   ]
  },
  {
   "cell_type": "markdown",
   "id": "a669fbf7-c13b-4a15-941c-41a975e17181",
   "metadata": {},
   "source": [
    "Prepare to apply the elimination method, constructing the matrix, corresponding to this linear system:"
   ]
  },
  {
   "cell_type": "code",
   "execution_count": 17,
   "id": "f6fe251b-8f78-45a8-bbd7-cfd116d4d68b",
   "metadata": {
    "execution": {
     "iopub.execute_input": "2023-10-01T18:53:05.849620Z",
     "iopub.status.busy": "2023-10-01T18:53:05.848567Z",
     "iopub.status.idle": "2023-10-01T18:53:05.865135Z",
     "shell.execute_reply": "2023-10-01T18:53:05.865135Z",
     "shell.execute_reply.started": "2023-10-01T18:53:05.849620Z"
    }
   },
   "outputs": [
    {
     "name": "stdout",
     "output_type": "stream",
     "text": [
      "[[-1.  3.  7.]\n",
      " [ 3. -9.  1.]]\n"
     ]
    }
   ],
   "source": [
    "A_2_system = np.hstack((A_2, b_2.reshape((2, 1))))\n",
    "print(A_2_system)"
   ]
  },
  {
   "cell_type": "markdown",
   "id": "2035c60e-392a-4661-b95d-cfe74211d614",
   "metadata": {
    "execution": {
     "iopub.execute_input": "2023-10-01T18:53:16.705956Z",
     "iopub.status.busy": "2023-10-01T18:53:16.705920Z",
     "iopub.status.idle": "2023-10-01T18:53:16.728096Z",
     "shell.execute_reply": "2023-10-01T18:53:16.724897Z",
     "shell.execute_reply.started": "2023-10-01T18:53:16.705956Z"
    }
   },
   "source": [
    "Perform elimination:"
   ]
  },
  {
   "cell_type": "code",
   "execution_count": 19,
   "id": "91bb9ab7-f592-40c3-bbfa-1685a0bc627d",
   "metadata": {
    "execution": {
     "iopub.execute_input": "2023-10-01T18:53:29.350253Z",
     "iopub.status.busy": "2023-10-01T18:53:29.349252Z",
     "iopub.status.idle": "2023-10-01T18:53:29.370596Z",
     "shell.execute_reply": "2023-10-01T18:53:29.369474Z",
     "shell.execute_reply.started": "2023-10-01T18:53:29.350253Z"
    }
   },
   "outputs": [
    {
     "name": "stdout",
     "output_type": "stream",
     "text": [
      "[[-1.  3.  7.]\n",
      " [ 0.  0. 22.]]\n"
     ]
    }
   ],
   "source": [
    "# copy() matrix.\n",
    "A_2_system_res = A_2_system.copy()\n",
    "\n",
    "# Multiply row 0 by 3 and add it to the row 1.\n",
    "A_2_system_res[1] = 3 * A_2_system_res[0] + A_2_system_res[1]\n",
    "print(A_2_system_res)"
   ]
  },
  {
   "cell_type": "markdown",
   "id": "eada878c-98bb-4aff-ac8e-5fbfc5f2d674",
   "metadata": {},
   "source": [
    "The last row will correspond to the equation $0=22$ which has no solution. Thus the whole linear system $(5)$ has no solutions. Let's see what will be on the graph. Do you expect the corresponding two lines to intersect?"
   ]
  },
  {
   "cell_type": "code",
   "execution_count": 20,
   "id": "2261af4a-521b-4ef1-89ef-4328b9a5897c",
   "metadata": {
    "execution": {
     "iopub.execute_input": "2023-10-01T18:53:57.268786Z",
     "iopub.status.busy": "2023-10-01T18:53:57.267830Z",
     "iopub.status.idle": "2023-10-01T18:53:57.507743Z",
     "shell.execute_reply": "2023-10-01T18:53:57.507243Z",
     "shell.execute_reply.started": "2023-10-01T18:53:57.268786Z"
    }
   },
   "outputs": [
    {
     "data": {
      "image/png": "[encoded data removed]",
      "text/plain": [
       "<Figure size 1000x1000 with 1 Axes>"
      ]
     },
     "metadata": {},
     "output_type": "display_data"
    }
   ],
   "source": [
    "plot_lines(A_2_system)"
   ]
  },
  {
   "cell_type": "markdown",
   "id": "cdb9efb7-2f43-48db-a190-db1712745922",
   "metadata": {},
   "source": [
    "## System of Linear Equations with Infinite Number of Solutions\n",
    "\n",
    "Changing free coefficients of the system $(5)$ you can bring it to consistency:\n",
    "\n",
    "$$\\begin{cases} \n",
    "-x_1+3x_2=7, \\\\ 3x_1-9x_2=-21, \\end{cases}\\tag{6}$$"
   ]
  },
  {
   "cell_type": "code",
   "execution_count": 21,
   "id": "6675d2e6-b2f5-4acc-baec-7bc341a6e23e",
   "metadata": {
    "execution": {
     "iopub.execute_input": "2023-10-01T18:54:32.421168Z",
     "iopub.status.busy": "2023-10-01T18:54:32.420167Z",
     "iopub.status.idle": "2023-10-01T18:54:32.429939Z",
     "shell.execute_reply": "2023-10-01T18:54:32.429039Z",
     "shell.execute_reply.started": "2023-10-01T18:54:32.421168Z"
    }
   },
   "outputs": [],
   "source": [
    "b_3 = np.array([7, -21], dtype=np.dtype(float))"
   ]
  },
  {
   "cell_type": "markdown",
   "id": "a4abfbbe-cfa8-47df-ad38-e7b5c2831acd",
   "metadata": {
    "execution": {
     "iopub.execute_input": "2023-10-01T18:54:42.066263Z",
     "iopub.status.busy": "2023-10-01T18:54:42.066263Z",
     "iopub.status.idle": "2023-10-01T18:54:42.084257Z",
     "shell.execute_reply": "2023-10-01T18:54:42.084008Z",
     "shell.execute_reply.started": "2023-10-01T18:54:42.066263Z"
    }
   },
   "source": [
    "Prepare the new matrix, corresponding to the system $(6)$:"
   ]
  },
  {
   "cell_type": "code",
   "execution_count": 23,
   "id": "104f6235-200a-45e6-913d-876a4fbf8bb4",
   "metadata": {
    "execution": {
     "iopub.execute_input": "2023-10-01T18:54:54.418779Z",
     "iopub.status.busy": "2023-10-01T18:54:54.418779Z",
     "iopub.status.idle": "2023-10-01T18:54:54.432219Z",
     "shell.execute_reply": "2023-10-01T18:54:54.431722Z",
     "shell.execute_reply.started": "2023-10-01T18:54:54.418779Z"
    }
   },
   "outputs": [
    {
     "name": "stdout",
     "output_type": "stream",
     "text": [
      "[[ -1.   3.   7.]\n",
      " [  3.  -9. -21.]]\n"
     ]
    }
   ],
   "source": [
    "A_3_system = np.hstack((A_2, b_3.reshape((2, 1))))\n",
    "print(A_3_system)"
   ]
  },
  {
   "cell_type": "markdown",
   "id": "2b0ec125-f6df-4005-9a5c-021b2d2704bd",
   "metadata": {
    "execution": {
     "iopub.execute_input": "2023-10-01T18:55:17.668557Z",
     "iopub.status.busy": "2023-10-01T18:55:17.667639Z",
     "iopub.status.idle": "2023-10-01T18:55:17.679075Z",
     "shell.execute_reply": "2023-10-01T18:55:17.678075Z",
     "shell.execute_reply.started": "2023-10-01T18:55:17.668557Z"
    }
   },
   "source": [
    "Perform elimination using elementary operations:"
   ]
  },
  {
   "cell_type": "code",
   "execution_count": 25,
   "id": "5c8553ec-4292-4e55-8a80-83ba5324e95f",
   "metadata": {
    "execution": {
     "iopub.execute_input": "2023-10-01T18:55:54.177149Z",
     "iopub.status.busy": "2023-10-01T18:55:54.177149Z",
     "iopub.status.idle": "2023-10-01T18:55:54.193118Z",
     "shell.execute_reply": "2023-10-01T18:55:54.190643Z",
     "shell.execute_reply.started": "2023-10-01T18:55:54.177149Z"
    }
   },
   "outputs": [
    {
     "name": "stdout",
     "output_type": "stream",
     "text": [
      "[[-1.  3.  7.]\n",
      " [ 0.  0.  0.]]\n"
     ]
    }
   ],
   "source": [
    "# copy() matrix.\n",
    "A_3_system_res = A_3_system.copy()\n",
    "\n",
    "# Multiply row 0 by 3 and add it to the row 1.\n",
    "A_3_system_res[1] = 3 * A_3_system_res[0] + A_3_system_res[1]\n",
    "print(A_3_system_res)"
   ]
  },
  {
   "cell_type": "markdown",
   "id": "bacfb4a5-7141-44f4-81be-8623d0c07f7a",
   "metadata": {},
   "source": [
    "Thus from the corresponding linear system\n",
    "\n",
    "$$\\begin{cases} \n",
    "-x_1+3x_2=7, \\\\ 0=0, \\end{cases}\\tag{7}$$\n",
    "\n",
    "the solutions of the linear system $(6)$ are:\n",
    "\n",
    "$$x_1=3x_2-7, \\tag{8}$$\n",
    "\n",
    "where $x_2$ is any real number.\n",
    "\n",
    "If you plot the equations of the system, how many lines do you expect to see in the graph now? Check it, using the code below:"
   ]
  },
  {
   "cell_type": "code",
   "execution_count": 26,
   "id": "b06b2c42-3bb4-49b6-81ee-59f3802fd9db",
   "metadata": {
    "execution": {
     "iopub.execute_input": "2023-10-01T18:56:22.558478Z",
     "iopub.status.busy": "2023-10-01T18:56:22.557856Z",
     "iopub.status.idle": "2023-10-01T18:56:22.789859Z",
     "shell.execute_reply": "2023-10-01T18:56:22.788929Z",
     "shell.execute_reply.started": "2023-10-01T18:56:22.558478Z"
    }
   },
   "outputs": [
    {
     "data": {
      "image/png": "[encoded data removed]",
      "text/plain": [
       "<Figure size 1000x1000 with 1 Axes>"
      ]
     },
     "metadata": {},
     "output_type": "display_data"
    }
   ],
   "source": [
    "plot_lines(A_3_system)"
   ]
  },
  {
   "cell_type": "markdown",
   "id": "880874e0-285b-4150-9b8b-a0343eb6b4b7",
   "metadata": {},
   "source": [
    "# Solving Linear Systems: 3 variables"
   ]
  },
  {
   "cell_type": "markdown",
   "id": "dc4cf17a-4be1-425d-9237-d1da452cb9f7",
   "metadata": {},
   "source": [
    "## System of Linear Equations\n",
    "\n",
    "Here is a **system of linear equations** (or **linear system**) with three equations and three unknown variables:\n",
    "\n",
    "\n",
    "$$\\begin{cases} \n",
    "4x_1-3x_2+x_3=-10, \\\\ 2x_1+x_2+3x_3=0, \\\\ -x_1+2x_2-5x_3=17, \\end{cases}\\tag{1}$$\n",
    "\n",
    "**To solve** this system of linear equations means to find such values of the variables $x_1$, $x_2$, $x_3$, that all of its equations are simultaneously satisfied."
   ]
  },
  {
   "cell_type": "markdown",
   "id": "af3a6b27-3e8f-4d66-9832-bc9e1e500e75",
   "metadata": {},
   "source": [
    "### Solving Systems of Linear Equations using Matrices\n",
    "\n",
    "Let's prepare to solve the linear system $(1)$ using `NumPy`. $A$ will be a matrix, each row will represent one equation in the system and each column will correspond to the variable $x_1$, $x_2$, $x_3$. And $b$ is a 1-D array of the free (right side) coefficients:"
   ]
  },
  {
   "cell_type": "code",
   "execution_count": 27,
   "id": "6d39ab47-cdef-4c0a-823f-661020f019ec",
   "metadata": {
    "execution": {
     "iopub.execute_input": "2023-10-01T19:05:04.302453Z",
     "iopub.status.busy": "2023-10-01T19:05:04.302453Z",
     "iopub.status.idle": "2023-10-01T19:05:04.321241Z",
     "shell.execute_reply": "2023-10-01T19:05:04.320194Z",
     "shell.execute_reply.started": "2023-10-01T19:05:04.302453Z"
    }
   },
   "outputs": [
    {
     "name": "stdout",
     "output_type": "stream",
     "text": [
      "Matrix A:\n",
      "[[ 4. -3.  1.]\n",
      " [ 2.  1.  3.]\n",
      " [-1.  2. -5.]]\n",
      "\n",
      "Array b:\n",
      "[-10.   0.  17.]\n"
     ]
    }
   ],
   "source": [
    "A = np.array([\n",
    "        [4, -3, 1],\n",
    "        [2, 1, 3],\n",
    "        [-1, 2, -5]\n",
    "    ], dtype=np.dtype(float))\n",
    "\n",
    "b = np.array([-10, 0, 17], dtype=np.dtype(float))\n",
    "\n",
    "print(\"Matrix A:\")\n",
    "print(A)\n",
    "print(\"\\nArray b:\")\n",
    "print(b)"
   ]
  },
  {
   "cell_type": "markdown",
   "id": "85999a2f-a8c3-4e8d-9c69-7eb96bd729dc",
   "metadata": {},
   "source": [
    "Check the dimensions of $A$ and $b$ using `shape()` function:"
   ]
  },
  {
   "cell_type": "code",
   "execution_count": 28,
   "id": "aeee0549-6b37-4076-8d8f-9a265e99ffe1",
   "metadata": {
    "execution": {
     "iopub.execute_input": "2023-10-01T19:05:39.336627Z",
     "iopub.status.busy": "2023-10-01T19:05:39.336627Z",
     "iopub.status.idle": "2023-10-01T19:05:39.344627Z",
     "shell.execute_reply": "2023-10-01T19:05:39.343572Z",
     "shell.execute_reply.started": "2023-10-01T19:05:39.336627Z"
    }
   },
   "outputs": [
    {
     "name": "stdout",
     "output_type": "stream",
     "text": [
      "Shape of A: (3, 3)\n",
      "Shape of b: (3,)\n"
     ]
    }
   ],
   "source": [
    "print(f\"Shape of A: {np.shape(A)}\")\n",
    "print(f\"Shape of b: {np.shape(b)}\")"
   ]
  },
  {
   "cell_type": "markdown",
   "id": "95f494b1-3076-4255-9324-dd7012a7fce9",
   "metadata": {},
   "source": [
    "Now use `np.linalg.solve(A, b)` function to find the solution of the system $(1)$. The result will be saved in the 1-D array $x$. The elements will correspond to the values of $x_1$, $x_2$ and $x_3$:"
   ]
  },
  {
   "cell_type": "code",
   "execution_count": 29,
   "id": "80195a28-f691-462a-8508-e2c5029d2e6f",
   "metadata": {
    "execution": {
     "iopub.execute_input": "2023-10-01T19:06:01.835868Z",
     "iopub.status.busy": "2023-10-01T19:06:01.834648Z",
     "iopub.status.idle": "2023-10-01T19:06:01.853713Z",
     "shell.execute_reply": "2023-10-01T19:06:01.852795Z",
     "shell.execute_reply.started": "2023-10-01T19:06:01.835868Z"
    }
   },
   "outputs": [
    {
     "name": "stdout",
     "output_type": "stream",
     "text": [
      "Solution: [ 1.  4. -2.]\n"
     ]
    }
   ],
   "source": [
    "x = np.linalg.solve(A, b)\n",
    "\n",
    "print(f\"Solution: {x}\")"
   ]
  },
  {
   "cell_type": "markdown",
   "id": "9b1f1e3c-c90c-4310-8544-abf134a85e66",
   "metadata": {},
   "source": [
    "Try to substitute those values of $x_1$, $x_2$ and $x_3$ into the original system of equations to check its consistency."
   ]
  },
  {
   "cell_type": "markdown",
   "id": "03dc0b49-1d46-4147-bb07-af7f3bec1f0d",
   "metadata": {},
   "source": [
    "### Evaluating the Determinant of a Matrix\n",
    "\n",
    "Matrix $A$ corresponding to the linear system $(1)$ is a **square matrix** - it has the same number of rows and columns. In the case of a square matrix it is possible to calculate its determinant - a real number that characterizes some properties of the matrix. A linear system containing three equations with three unknown variables will have one solution if and only if the matrix $A$ has a non-zero determinant.\n",
    "\n",
    "Let's calculate the determinant using `np.linalg.det(A)` function:"
   ]
  },
  {
   "cell_type": "code",
   "execution_count": 30,
   "id": "8429e85a-39cf-48fa-b62a-b07c735eaa55",
   "metadata": {
    "execution": {
     "iopub.execute_input": "2023-10-01T19:07:00.461276Z",
     "iopub.status.busy": "2023-10-01T19:07:00.460775Z",
     "iopub.status.idle": "2023-10-01T19:07:00.480754Z",
     "shell.execute_reply": "2023-10-01T19:07:00.479262Z",
     "shell.execute_reply.started": "2023-10-01T19:07:00.461276Z"
    }
   },
   "outputs": [
    {
     "name": "stdout",
     "output_type": "stream",
     "text": [
      "Determinant of matrix A: -60.00\n"
     ]
    }
   ],
   "source": [
    "d = np.linalg.det(A)\n",
    "\n",
    "print(f\"Determinant of matrix A: {d:.2f}\")"
   ]
  },
  {
   "cell_type": "markdown",
   "id": "93308778-ee04-48ae-bbe6-e51bf65e3fb7",
   "metadata": {},
   "source": [
    "Please, note that its value is non-zero, as expected."
   ]
  },
  {
   "cell_type": "markdown",
   "id": "d09d788a-cb5d-48f3-a28d-c15e78690c1c",
   "metadata": {},
   "source": [
    "## Solving System of Linear Equations using Row Reduction"
   ]
  },
  {
   "cell_type": "markdown",
   "id": "ab13a523-ac0c-4b87-9012-37069be89ed1",
   "metadata": {},
   "source": [
    "### Preparation for Row Reduction\n",
    "\n",
    "You can see how easy it is to use contemporary packages to solve linear equations. However, for a deeper understanding of mathematical concepts, it is important to practice some solution techniques manually. The programming approach can still help here to reduce the number of arithmetical calculations, and focus on the method itself.\n",
    "\n",
    "Here you can practice the row reduction method for the linear system with three variables. To apply it, first, unify matrix $A$ and array $b$ into one matrix using `np.hstack()` function. Note that the shape of the originally defined array $b$ was $(3,)$, to stack it with the $(3, 3)$ matrix you need to transform it so that it has the same number of dimensions. You can use `.reshape((3, 1))` function:"
   ]
  },
  {
   "cell_type": "code",
   "execution_count": 31,
   "id": "9fed72cd-409e-4569-886f-f63665eedade",
   "metadata": {
    "execution": {
     "iopub.execute_input": "2023-10-01T19:08:29.630010Z",
     "iopub.status.busy": "2023-10-01T19:08:29.629004Z",
     "iopub.status.idle": "2023-10-01T19:08:29.640392Z",
     "shell.execute_reply": "2023-10-01T19:08:29.639891Z",
     "shell.execute_reply.started": "2023-10-01T19:08:29.630010Z"
    }
   },
   "outputs": [
    {
     "name": "stdout",
     "output_type": "stream",
     "text": [
      "[[  4.  -3.   1. -10.]\n",
      " [  2.   1.   3.   0.]\n",
      " [ -1.   2.  -5.  17.]]\n"
     ]
    }
   ],
   "source": [
    "A_system = np.hstack((A, b.reshape((3, 1))))\n",
    "\n",
    "print(A_system)"
   ]
  },
  {
   "cell_type": "markdown",
   "id": "eb49dc69-a07e-4056-aaf6-7ae1a33c672e",
   "metadata": {},
   "source": [
    "### Functions for Elementary Operations\n",
    "\n",
    "Let's review **elementary operations**, which do not change the solution set of a linear system:\n",
    "\n",
    "- Multiply any row by a non-zero number\n",
    "- Add two rows and exchange one of the original rows with the result of the addition\n",
    "- Swap rows\n",
    "\n",
    "In the case of larger systems you will need to apply elementary operations multiple times. Thus, it is convenient to define the corresponding Python functions. Investigate them in the following code cells with the examples:"
   ]
  },
  {
   "cell_type": "code",
   "execution_count": 32,
   "id": "869c0c5a-92e6-4c3c-af0b-c042e316ad33",
   "metadata": {
    "execution": {
     "iopub.execute_input": "2023-10-01T19:09:26.324528Z",
     "iopub.status.busy": "2023-10-01T19:09:26.324528Z",
     "iopub.status.idle": "2023-10-01T19:09:26.346093Z",
     "shell.execute_reply": "2023-10-01T19:09:26.344028Z",
     "shell.execute_reply.started": "2023-10-01T19:09:26.324528Z"
    }
   },
   "outputs": [
    {
     "name": "stdout",
     "output_type": "stream",
     "text": [
      "Original matrix:\n",
      "[[  4.  -3.   1. -10.]\n",
      " [  2.   1.   3.   0.]\n",
      " [ -1.   2.  -5.  17.]]\n",
      "\n",
      "Matrix after its third row is multiplied by 2:\n",
      "[[  4.  -3.   1. -10.]\n",
      " [  2.   1.   3.   0.]\n",
      " [ -2.   4. -10.  34.]]\n"
     ]
    }
   ],
   "source": [
    "# exchange row_num of the matrix M with its multiple by row_num_multiple\n",
    "# Note: for simplicity, you can drop check if  row_num_multiple has non-zero value, which makes the operation valid\n",
    "def MultiplyRow(M, row_num, row_num_multiple):\n",
    "    # .copy() function is required here to keep the original matrix without any changes\n",
    "    M_new = M.copy()\n",
    "    M_new[row_num] = M_new[row_num] * row_num_multiple\n",
    "    return M_new\n",
    "\n",
    "print(\"Original matrix:\")\n",
    "print(A_system)\n",
    "print(\"\\nMatrix after its third row is multiplied by 2:\")\n",
    "# remember that indexing in Python starts from 0, thus index 2 will correspond to the third row\n",
    "print(MultiplyRow(A_system,2,2))"
   ]
  },
  {
   "cell_type": "code",
   "execution_count": 33,
   "id": "c7bf3d5f-b26b-4674-8f6f-c9c45b5705bc",
   "metadata": {
    "execution": {
     "iopub.execute_input": "2023-10-01T19:09:37.511431Z",
     "iopub.status.busy": "2023-10-01T19:09:37.511431Z",
     "iopub.status.idle": "2023-10-01T19:09:37.530500Z",
     "shell.execute_reply": "2023-10-01T19:09:37.528790Z",
     "shell.execute_reply.started": "2023-10-01T19:09:37.511431Z"
    }
   },
   "outputs": [
    {
     "name": "stdout",
     "output_type": "stream",
     "text": [
      "Original matrix:\n",
      "[[  4.  -3.   1. -10.]\n",
      " [  2.   1.   3.   0.]\n",
      " [ -1.   2.  -5.  17.]]\n",
      "\n",
      "Matrix after exchange of the third row with the sum of itself and second row multiplied by 1/2:\n",
      "[[  4.   -3.    1.  -10. ]\n",
      " [  2.    1.    3.    0. ]\n",
      " [  0.    2.5  -3.5  17. ]]\n"
     ]
    }
   ],
   "source": [
    "# multiply row_num_1 by row_num_1_multiple and add it to the row_num_2, \n",
    "# exchanging row_num_2 of the matrix M in the result\n",
    "def AddRows(M, row_num_1, row_num_2, row_num_1_multiple):\n",
    "    M_new = M.copy()\n",
    "    M_new[row_num_2] = row_num_1_multiple * M_new[row_num_1] + M_new[row_num_2]\n",
    "    return M_new\n",
    "\n",
    "print(\"Original matrix:\")\n",
    "print(A_system)\n",
    "print(\"\\nMatrix after exchange of the third row with the sum of itself and second row multiplied by 1/2:\")\n",
    "print(AddRows(A_system,1,2,1/2))"
   ]
  },
  {
   "cell_type": "code",
   "execution_count": 34,
   "id": "f1553f74-6ed6-4743-9811-ce105b51b913",
   "metadata": {
    "execution": {
     "iopub.execute_input": "2023-10-01T19:09:46.922336Z",
     "iopub.status.busy": "2023-10-01T19:09:46.922336Z",
     "iopub.status.idle": "2023-10-01T19:09:46.930510Z",
     "shell.execute_reply": "2023-10-01T19:09:46.930010Z",
     "shell.execute_reply.started": "2023-10-01T19:09:46.922336Z"
    }
   },
   "outputs": [
    {
     "name": "stdout",
     "output_type": "stream",
     "text": [
      "Original matrix:\n",
      "[[  4.  -3.   1. -10.]\n",
      " [  2.   1.   3.   0.]\n",
      " [ -1.   2.  -5.  17.]]\n",
      "\n",
      "Matrix after exchange its first and third rows:\n",
      "[[ -1.   2.  -5.  17.]\n",
      " [  2.   1.   3.   0.]\n",
      " [  4.  -3.   1. -10.]]\n"
     ]
    }
   ],
   "source": [
    "# exchange row_num_1 and row_num_2 of the matrix M\n",
    "def SwapRows(M, row_num_1, row_num_2):\n",
    "    M_new = M.copy()\n",
    "    M_new[[row_num_1, row_num_2]] = M_new[[row_num_2, row_num_1]]\n",
    "    return M_new\n",
    "\n",
    "print(\"Original matrix:\")\n",
    "print(A_system)\n",
    "print(\"\\nMatrix after exchange its first and third rows:\")\n",
    "print(SwapRows(A_system,0,2))"
   ]
  },
  {
   "cell_type": "markdown",
   "id": "843616af-1e29-4a51-8506-2478a798a379",
   "metadata": {},
   "source": [
    "### Row Reduction and Solution of the Linear System\n",
    "\n",
    "Now you can use the defined operations to bring the matrix into row reduced form. To do this manually, it is convenient to have $1$ or $-1$ value in the first element of the first row (the arithmetics of operations is easier then). Performing calculations in Python, won't provide much of a benefit, but it is better to do that for illustration purposes. So, let's swap the first and third rows:"
   ]
  },
  {
   "cell_type": "code",
   "execution_count": 35,
   "id": "45638962-fe95-4b18-a3ec-4c8f3b107a1a",
   "metadata": {
    "execution": {
     "iopub.execute_input": "2023-10-01T19:10:15.216335Z",
     "iopub.status.busy": "2023-10-01T19:10:15.215834Z",
     "iopub.status.idle": "2023-10-01T19:10:15.234484Z",
     "shell.execute_reply": "2023-10-01T19:10:15.231971Z",
     "shell.execute_reply.started": "2023-10-01T19:10:15.216335Z"
    }
   },
   "outputs": [
    {
     "name": "stdout",
     "output_type": "stream",
     "text": [
      "[[ -1.   2.  -5.  17.]\n",
      " [  2.   1.   3.   0.]\n",
      " [  4.  -3.   1. -10.]]\n"
     ]
    }
   ],
   "source": [
    "A_ref = SwapRows(A_system,0,2)\n",
    "# Note: ref is an abbreviation of the row echelon form (row reduced form)\n",
    "print(A_ref)"
   ]
  },
  {
   "cell_type": "markdown",
   "id": "e1c3f3f9-95c4-4184-9597-61f86ff5a2b3",
   "metadata": {},
   "source": [
    "Now you would need to make such elementary operations, that the first elements in the second and third row become equal to zero:"
   ]
  },
  {
   "cell_type": "code",
   "execution_count": 36,
   "id": "ef62794d-0feb-4d4d-8101-849f281737e8",
   "metadata": {
    "execution": {
     "iopub.execute_input": "2023-10-01T19:11:48.947515Z",
     "iopub.status.busy": "2023-10-01T19:11:48.946786Z",
     "iopub.status.idle": "2023-10-01T19:11:48.954364Z",
     "shell.execute_reply": "2023-10-01T19:11:48.953514Z",
     "shell.execute_reply.started": "2023-10-01T19:11:48.947515Z"
    }
   },
   "outputs": [
    {
     "name": "stdout",
     "output_type": "stream",
     "text": [
      "[[ -1.   2.  -5.  17.]\n",
      " [  0.   5.  -7.  34.]\n",
      " [  4.  -3.   1. -10.]]\n"
     ]
    }
   ],
   "source": [
    "# multiply row 0 of the new matrix A_ref by 2 and add it to the row 1\n",
    "A_ref = AddRows(A_ref,0,1,2)\n",
    "print(A_ref)"
   ]
  },
  {
   "cell_type": "code",
   "execution_count": 37,
   "id": "e34e6ecf-d413-4ca1-840a-f0ecbb8c306c",
   "metadata": {
    "execution": {
     "iopub.execute_input": "2023-10-01T19:11:49.425561Z",
     "iopub.status.busy": "2023-10-01T19:11:49.425561Z",
     "iopub.status.idle": "2023-10-01T19:11:49.433696Z",
     "shell.execute_reply": "2023-10-01T19:11:49.432307Z",
     "shell.execute_reply.started": "2023-10-01T19:11:49.425561Z"
    }
   },
   "outputs": [
    {
     "name": "stdout",
     "output_type": "stream",
     "text": [
      "[[ -1.   2.  -5.  17.]\n",
      " [  0.   5.  -7.  34.]\n",
      " [  0.   5. -19.  58.]]\n"
     ]
    }
   ],
   "source": [
    "# multiply row 0 of the new matrix A_ref by 4 and add it to the row 2\n",
    "A_ref = AddRows(A_ref,0,2,4)\n",
    "print(A_ref)"
   ]
  },
  {
   "cell_type": "markdown",
   "id": "71b6cfe8-1ba2-4961-b4a5-d98523d2063e",
   "metadata": {},
   "source": [
    "The next step will be to perform an operation by putting the second element in the third row equal to zero:"
   ]
  },
  {
   "cell_type": "code",
   "execution_count": 38,
   "id": "048fb44c-18c7-40d0-9ae8-fca2b4c503eb",
   "metadata": {
    "execution": {
     "iopub.execute_input": "2023-10-01T19:11:50.382966Z",
     "iopub.status.busy": "2023-10-01T19:11:50.381940Z",
     "iopub.status.idle": "2023-10-01T19:11:50.397419Z",
     "shell.execute_reply": "2023-10-01T19:11:50.395924Z",
     "shell.execute_reply.started": "2023-10-01T19:11:50.381940Z"
    }
   },
   "outputs": [
    {
     "name": "stdout",
     "output_type": "stream",
     "text": [
      "[[ -1.   2.  -5.  17.]\n",
      " [  0.   5.  -7.  34.]\n",
      " [  0.   0. -12.  24.]]\n"
     ]
    }
   ],
   "source": [
    "# multiply row 1 of the new matrix A_ref by -1 and add it to the row 2\n",
    "A_ref = AddRows(A_ref,1,2,-1)\n",
    "print(A_ref)"
   ]
  },
  {
   "cell_type": "markdown",
   "id": "517cfec3-8e93-4128-b6bd-86cd83ef6655",
   "metadata": {},
   "source": [
    "It is easy now to find the value of $x_3$ from the third row, as it corresponds to the equation $-12x_3=24$. Let's divide the row by -12:"
   ]
  },
  {
   "cell_type": "code",
   "execution_count": 39,
   "id": "0c638978-411f-44cc-963f-e09a80b14fb4",
   "metadata": {
    "execution": {
     "iopub.execute_input": "2023-10-01T19:11:51.346371Z",
     "iopub.status.busy": "2023-10-01T19:11:51.345431Z",
     "iopub.status.idle": "2023-10-01T19:11:51.354389Z",
     "shell.execute_reply": "2023-10-01T19:11:51.353696Z",
     "shell.execute_reply.started": "2023-10-01T19:11:51.346371Z"
    }
   },
   "outputs": [
    {
     "name": "stdout",
     "output_type": "stream",
     "text": [
      "[[-1.  2. -5. 17.]\n",
      " [ 0.  5. -7. 34.]\n",
      " [-0. -0.  1. -2.]]\n"
     ]
    }
   ],
   "source": [
    "# multiply row 2 of the new matrix A_ref by -1/12\n",
    "A_ref = MultiplyRow(A_ref,2,-1/12)\n",
    "print(A_ref)"
   ]
  },
  {
   "cell_type": "markdown",
   "id": "b2066dca-06d5-445b-b760-4fcfb9a9ada5",
   "metadata": {},
   "source": [
    "Now the second row of the matrix corresponds to the equation $5x_2-7x_3=34$ and the first row to the equation $-x_1+2x_2-5x_3=17$. Referring to the elements of the matrix, you can find the values of $x_2$ and $x_1$:"
   ]
  },
  {
   "cell_type": "code",
   "execution_count": 40,
   "id": "f0c93217-5dc9-453a-825b-a5b255bb9f85",
   "metadata": {
    "execution": {
     "iopub.execute_input": "2023-10-01T19:11:52.466160Z",
     "iopub.status.busy": "2023-10-01T19:11:52.465646Z",
     "iopub.status.idle": "2023-10-01T19:11:52.479356Z",
     "shell.execute_reply": "2023-10-01T19:11:52.478441Z",
     "shell.execute_reply.started": "2023-10-01T19:11:52.466160Z"
    }
   },
   "outputs": [
    {
     "name": "stdout",
     "output_type": "stream",
     "text": [
      "1.0 4.0 -2\n"
     ]
    }
   ],
   "source": [
    "x_3 = -2\n",
    "x_2 = (A_ref[1,3] - A_ref[1,2] * x_3) / A_ref[1,1]\n",
    "x_1 = (A_ref[0,3] - A_ref[0,2] * x_3 - A_ref[0,1] * x_2) / A_ref[0,0]\n",
    "\n",
    "print(x_1, x_2, x_3)"
   ]
  },
  {
   "cell_type": "markdown",
   "id": "f4d9487d-fc47-4bdf-9963-12ced0a1705f",
   "metadata": {},
   "source": [
    "## System of Linear Equations with No Solutions\n",
    "\n",
    "Given another system of linear equations:\n",
    "\n",
    "$$\\begin{cases} \n",
    "x_1+x_2+x_3=2, \\\\ x_2-3x_3=1, \\\\ 2x_1+x_2+5x_3=0, \\end{cases}\\tag{2}$$\n",
    "\n",
    "let's find the determinant of the corresponding matrix."
   ]
  },
  {
   "cell_type": "code",
   "execution_count": 41,
   "id": "5933d107-642a-49f6-ab49-5371a975b5e0",
   "metadata": {
    "execution": {
     "iopub.execute_input": "2023-10-01T19:12:33.426895Z",
     "iopub.status.busy": "2023-10-01T19:12:33.426895Z",
     "iopub.status.idle": "2023-10-01T19:12:33.435841Z",
     "shell.execute_reply": "2023-10-01T19:12:33.435363Z",
     "shell.execute_reply.started": "2023-10-01T19:12:33.426895Z"
    }
   },
   "outputs": [
    {
     "name": "stdout",
     "output_type": "stream",
     "text": [
      "Determinant of matrix A_2: 0.00\n"
     ]
    }
   ],
   "source": [
    "A_2= np.array([\n",
    "        [1, 1, 1],\n",
    "        [0, 1, -3],\n",
    "        [2, 1, 5]\n",
    "    ], dtype=np.dtype(float))\n",
    "\n",
    "b_2 = np.array([2, 1, 0], dtype=np.dtype(float))\n",
    "\n",
    "d_2 = np.linalg.det(A_2)\n",
    "\n",
    "print(f\"Determinant of matrix A_2: {d_2:.2f}\")"
   ]
  },
  {
   "cell_type": "markdown",
   "id": "b887282e-f558-4503-aafd-34aee8dfd05d",
   "metadata": {},
   "source": [
    "It is equal to zero, thus the system cannot have one unique solution. It will have either infinitely many solutions or none. The consistency of it will depend on the free coefficients (right side coefficients). You can uncomment and run the code in the following cell to check that the `np.linalg.solve()` function will give an error due to singularity."
   ]
  },
  {
   "cell_type": "code",
   "execution_count": 42,
   "id": "77693a84-8b72-46db-8b89-cd8abd5262fe",
   "metadata": {
    "execution": {
     "iopub.execute_input": "2023-10-01T19:12:57.261460Z",
     "iopub.status.busy": "2023-10-01T19:12:57.261460Z",
     "iopub.status.idle": "2023-10-01T19:12:57.277721Z",
     "shell.execute_reply": "2023-10-01T19:12:57.276812Z",
     "shell.execute_reply.started": "2023-10-01T19:12:57.261460Z"
    }
   },
   "outputs": [],
   "source": [
    "# x_2 = np.linalg.solve(A_2, b_2)"
   ]
  },
  {
   "cell_type": "markdown",
   "id": "92ef3d21-e39b-4b3c-bdc5-664c8a3d15b7",
   "metadata": {},
   "source": [
    "You can check the system for consistency using ranks, but this is out of scope here (you can review this topic following the [link](https://www.onlinemath4all.com/solving-system-of-linear-equations-by-rank-method.html)). For now you can perform elementary operations to see that this particular system has no solutions:"
   ]
  },
  {
   "cell_type": "code",
   "execution_count": 43,
   "id": "8c645c1f-c9ac-42ad-b802-a9eddc905111",
   "metadata": {
    "execution": {
     "iopub.execute_input": "2023-10-01T19:13:40.068693Z",
     "iopub.status.busy": "2023-10-01T19:13:40.068693Z",
     "iopub.status.idle": "2023-10-01T19:13:40.086718Z",
     "shell.execute_reply": "2023-10-01T19:13:40.085609Z",
     "shell.execute_reply.started": "2023-10-01T19:13:40.068693Z"
    }
   },
   "outputs": [
    {
     "name": "stdout",
     "output_type": "stream",
     "text": [
      "[[ 1.  1.  1.  2.]\n",
      " [ 0.  1. -3.  1.]\n",
      " [ 2.  1.  5.  0.]]\n"
     ]
    }
   ],
   "source": [
    "A_2_system = np.hstack((A_2, b_2.reshape((3, 1))))\n",
    "print(A_2_system)"
   ]
  },
  {
   "cell_type": "code",
   "execution_count": 44,
   "id": "6c46cf8d-fc97-4b72-bbb6-34c87ca4b8eb",
   "metadata": {
    "execution": {
     "iopub.execute_input": "2023-10-01T19:13:40.389394Z",
     "iopub.status.busy": "2023-10-01T19:13:40.388435Z",
     "iopub.status.idle": "2023-10-01T19:13:40.407853Z",
     "shell.execute_reply": "2023-10-01T19:13:40.406622Z",
     "shell.execute_reply.started": "2023-10-01T19:13:40.389394Z"
    }
   },
   "outputs": [
    {
     "name": "stdout",
     "output_type": "stream",
     "text": [
      "[[ 1.  1.  1.  2.]\n",
      " [ 0.  1. -3.  1.]\n",
      " [ 0. -1.  3. -4.]]\n"
     ]
    }
   ],
   "source": [
    "# multiply row 0 by -2 and add it to the row 1\n",
    "A_2_ref = AddRows(A_2_system,0,2,-2)\n",
    "print(A_2_ref)"
   ]
  },
  {
   "cell_type": "code",
   "execution_count": 45,
   "id": "84dea7b5-c524-4495-accd-b0f8901952aa",
   "metadata": {
    "execution": {
     "iopub.execute_input": "2023-10-01T19:13:40.932690Z",
     "iopub.status.busy": "2023-10-01T19:13:40.932690Z",
     "iopub.status.idle": "2023-10-01T19:13:40.943892Z",
     "shell.execute_reply": "2023-10-01T19:13:40.943691Z",
     "shell.execute_reply.started": "2023-10-01T19:13:40.932690Z"
    }
   },
   "outputs": [
    {
     "name": "stdout",
     "output_type": "stream",
     "text": [
      "[[ 1.  1.  1.  2.]\n",
      " [ 0.  1. -3.  1.]\n",
      " [ 0.  0.  0. -3.]]\n"
     ]
    }
   ],
   "source": [
    "# add row 1 of the new matrix A_2_ref to the row 2\n",
    "A_2_ref = AddRows(A_2_ref,1,2,1)\n",
    "print(A_2_ref)"
   ]
  },
  {
   "cell_type": "markdown",
   "id": "c953a456-fc96-4a5c-a9e4-1fc110c93838",
   "metadata": {},
   "source": [
    "The last row will correspond to the equation $0=-3$ which has no solution. Thus the whole linear system $(2)$ has no solution."
   ]
  },
  {
   "cell_type": "markdown",
   "id": "5e54ef5a-f6e5-4278-bba5-c98150b9a2cd",
   "metadata": {},
   "source": [
    "## System of Linear Equations with Infinite Number of Solutions\n",
    "\n",
    "You can bring system $(2)$ to consistency by changing only the free coefficients:\n",
    "\n",
    "$$\\begin{cases} \n",
    "x_1+x_2+x_3=2, \\\\ x_2-3x_3=1, \\\\ 2x_1+x_2+5x_3=3. \\end{cases}\\tag{3}$$\n",
    "\n",
    "Define the new array of free coefficients:"
   ]
  },
  {
   "cell_type": "code",
   "execution_count": 47,
   "id": "bed0b78d-3c9a-4871-8603-fe400811df22",
   "metadata": {
    "execution": {
     "iopub.execute_input": "2023-10-01T19:15:31.868790Z",
     "iopub.status.busy": "2023-10-01T19:15:31.868790Z",
     "iopub.status.idle": "2023-10-01T19:15:31.875939Z",
     "shell.execute_reply": "2023-10-01T19:15:31.874933Z",
     "shell.execute_reply.started": "2023-10-01T19:15:31.868790Z"
    }
   },
   "outputs": [],
   "source": [
    "b_3 = np.array([2, 1, 3])"
   ]
  },
  {
   "cell_type": "markdown",
   "id": "467ecd18-6573-46ac-87c9-fe4aeac788c9",
   "metadata": {},
   "source": [
    "Prepare the new matrix, corresponding to the system $(3)$:"
   ]
  },
  {
   "cell_type": "code",
   "execution_count": 48,
   "id": "5c2a63d4-0022-43dc-a5be-1590221cd0e4",
   "metadata": {
    "execution": {
     "iopub.execute_input": "2023-10-01T19:15:32.525095Z",
     "iopub.status.busy": "2023-10-01T19:15:32.525095Z",
     "iopub.status.idle": "2023-10-01T19:15:32.536845Z",
     "shell.execute_reply": "2023-10-01T19:15:32.535971Z",
     "shell.execute_reply.started": "2023-10-01T19:15:32.525095Z"
    }
   },
   "outputs": [
    {
     "name": "stdout",
     "output_type": "stream",
     "text": [
      "[[ 1.  1.  1.  2.]\n",
      " [ 0.  1. -3.  1.]\n",
      " [ 2.  1.  5.  3.]]\n"
     ]
    }
   ],
   "source": [
    "A_3_system = np.hstack((A_2, b_3.reshape((3, 1))))\n",
    "print(A_3_system)"
   ]
  },
  {
   "cell_type": "code",
   "execution_count": 49,
   "id": "af839a53-416f-4f32-85af-4d52108555fd",
   "metadata": {
    "execution": {
     "iopub.execute_input": "2023-10-01T19:15:32.978057Z",
     "iopub.status.busy": "2023-10-01T19:15:32.977298Z",
     "iopub.status.idle": "2023-10-01T19:15:32.999012Z",
     "shell.execute_reply": "2023-10-01T19:15:32.998131Z",
     "shell.execute_reply.started": "2023-10-01T19:15:32.978057Z"
    }
   },
   "outputs": [
    {
     "name": "stdout",
     "output_type": "stream",
     "text": [
      "[[ 1.  1.  1.  2.]\n",
      " [ 0.  1. -3.  1.]\n",
      " [ 0. -1.  3. -1.]]\n"
     ]
    }
   ],
   "source": [
    "# multiply row 0 of the new matrix A_3_system by -2 and add it to the row 2\n",
    "A_3_ref = AddRows(A_3_system,0,2,-2)\n",
    "print(A_3_ref)"
   ]
  },
  {
   "cell_type": "code",
   "execution_count": 50,
   "id": "7c397d93-899f-4171-9753-c95d48581169",
   "metadata": {
    "execution": {
     "iopub.execute_input": "2023-10-01T19:15:33.441158Z",
     "iopub.status.busy": "2023-10-01T19:15:33.441158Z",
     "iopub.status.idle": "2023-10-01T19:15:33.447865Z",
     "shell.execute_reply": "2023-10-01T19:15:33.446242Z",
     "shell.execute_reply.started": "2023-10-01T19:15:33.441158Z"
    }
   },
   "outputs": [
    {
     "name": "stdout",
     "output_type": "stream",
     "text": [
      "[[ 1.  1.  1.  2.]\n",
      " [ 0.  1. -3.  1.]\n",
      " [ 0.  0.  0.  0.]]\n"
     ]
    }
   ],
   "source": [
    "# add row 1 of the new matrix A_3_ref to the row 2\n",
    "A_3_ref = AddRows(A_3_ref,1,2,1)\n",
    "print(A_3_ref)"
   ]
  },
  {
   "cell_type": "markdown",
   "id": "c0c7f49b-7033-4276-8c0b-eafd503a7cc9",
   "metadata": {},
   "source": [
    "Thus from the corresponding linear system\n",
    "\n",
    "$$\\begin{cases} \n",
    "x_1+x_2+x_3=2, \\\\ x_2-3x_3=1, \\\\ 0=0, \\end{cases}\\tag{4}$$\n",
    "\n",
    "you can find that $x_2=1+3x_3$, substitute it into the first equation and find $x_1$. Thus the solutions of the linear system $(3)$ are:\n",
    "\n",
    "$$\\begin{cases} \n",
    "x_1=1-4x_3, \\\\ x_2=1+3x_3, \\end{cases}\\tag{5}$$\n",
    "\n",
    "where $x_3$ is any real number."
   ]
  },
  {
   "cell_type": "code",
   "execution_count": null,
   "id": "4404f819-f438-4a95-ab96-8530072d673b",
   "metadata": {},
   "outputs": [],
   "source": []
  },
  {
   "cell_type": "markdown",
   "id": "f883a47d-944a-4b47-a2fa-8034e40c5f4b",
   "metadata": {},
   "source": [
    "## System of Linear Equations and Corresponding `NumPy` Arrays\n",
    "\n",
    "Matrices can be used to solve systems of equations. But first, you need to represent the system using matrices. Given the following system of linear equations:\n",
    "\n",
    "$$\\begin{cases} \n",
    "2x_1-x_2+x_3+x_4=6, \\\\ x_1+2x_2-x_3-x_4=3, \\\\ -x_1+2x_2+2x_3+2x_4=14, \\\\ x_1-x_2+2x_3+x_4=8, \\end{cases}\\tag{1}$$\n",
    "\n",
    "you will construct matrix $A$, where each row represents one equation in the system and each column represents a variable $x_1$, $x_2$, $x_3$, $x_4$. The free coefficients from the right sides of the equations you will put into vector $b$."
   ]
  },
  {
   "cell_type": "markdown",
   "id": "98100a1a-acf7-43f8-b16a-ad9828b4970e",
   "metadata": {},
   "source": [
    "### Exercise 1\n",
    "\n",
    "Construct matrix $A$ and vector $b$ corresponding to the system of linear equations $(1)$."
   ]
  },
  {
   "cell_type": "code",
   "execution_count": 51,
   "id": "db6caade-5110-4067-a2a0-b2edef741da3",
   "metadata": {
    "execution": {
     "iopub.execute_input": "2023-10-01T19:17:35.968878Z",
     "iopub.status.busy": "2023-10-01T19:17:35.968378Z",
     "iopub.status.idle": "2023-10-01T19:17:35.981232Z",
     "shell.execute_reply": "2023-10-01T19:17:35.979732Z",
     "shell.execute_reply.started": "2023-10-01T19:17:35.968878Z"
    }
   },
   "outputs": [],
   "source": [
    "### START CODE HERE ###\n",
    "A = np.array([     \n",
    "        [2, -1, 1, 1],\n",
    "        [1, 2, -1, -1],\n",
    "        [-1, 2, 2, 2],\n",
    "        [1, -1, 2, 1]    \n",
    "    ], dtype=np.dtype(float)) \n",
    "b = np.array([6, 3, 14, 8], dtype=np.dtype(float))\n",
    "\n",
    "### END CODE HERE ###"
   ]
  },
  {
   "cell_type": "code",
   "execution_count": null,
   "id": "f6932ed1-eb20-41bb-9507-532fd07e4535",
   "metadata": {},
   "outputs": [],
   "source": []
  },
  {
   "cell_type": "markdown",
   "id": "9db58ffd-c209-4848-8ed0-71fbada22d98",
   "metadata": {},
   "source": [
    "### Exercise 2\n",
    "\n",
    "Find the determinant $d$ of matrix A and the solution vector $x$ for the system of linear equations $(1)$."
   ]
  },
  {
   "cell_type": "code",
   "execution_count": 54,
   "id": "64244c8c-e3fa-4877-a8e7-ac4ddcd53fdb",
   "metadata": {
    "execution": {
     "iopub.execute_input": "2023-10-01T19:23:40.490728Z",
     "iopub.status.busy": "2023-10-01T19:23:40.490728Z",
     "iopub.status.idle": "2023-10-01T19:23:40.502718Z",
     "shell.execute_reply": "2023-10-01T19:23:40.502718Z",
     "shell.execute_reply.started": "2023-10-01T19:23:40.490728Z"
    }
   },
   "outputs": [
    {
     "name": "stdout",
     "output_type": "stream",
     "text": [
      "Determinant of matrix A: -17.00\n",
      "Solution vector: [2. 3. 4. 1.]\n"
     ]
    }
   ],
   "source": [
    "### START CODE HERE ###\n",
    "# determinant of matrix A\n",
    "d = np.linalg.det(A)\n",
    "\n",
    "# solution of the system of linear equations \n",
    "# with the corresponding coefficients matrix A and free coefficients b\n",
    "x = np.linalg.solve(A, b)\n",
    "### END CODE HERE ###\n",
    "\n",
    "print(f\"Determinant of matrix A: {d:.2f}\")\n",
    "\n",
    "print(f\"Solution vector: {x}\")"
   ]
  },
  {
   "cell_type": "markdown",
   "id": "5c4b50a6-9147-469e-aaf5-fcd1082104c6",
   "metadata": {},
   "source": [
    "## Elementary Operations and Row Reduction\n",
    "\n",
    "Even though the contemporary packages allow to find the solution with one line of the code, performing required algebraic operations manually helps to build foundations which are necessary for deep understanding of the machine learning algorithms. \n",
    "\n",
    "Here you will solve the system of linear equations algebraically using row reduction. It involves combination of the equations using elementary operations, eliminaring as many variables as possible for each equation. There are three valid operations which can be performed to bring the system of equations to equivalent one (with the same solutions):\n",
    "\n",
    "- Multiply any row by non-zero number\n",
    "- Add two rows and exchange one of the original rows with the result of the addition\n",
    "- Swap rows"
   ]
  },
  {
   "cell_type": "markdown",
   "id": "4041cf16-bd2c-467f-9ad0-2211b8afc799",
   "metadata": {},
   "source": [
    "### Exercise 3\n",
    "\n",
    "Set up three functions corresponding to the discussed above elementary operations."
   ]
  },
  {
   "cell_type": "code",
   "execution_count": 55,
   "id": "4c242fdc-b146-4026-9d71-b5cf04a94e10",
   "metadata": {
    "execution": {
     "iopub.execute_input": "2023-10-01T19:25:17.440025Z",
     "iopub.status.busy": "2023-10-01T19:25:17.440025Z",
     "iopub.status.idle": "2023-10-01T19:25:17.454979Z",
     "shell.execute_reply": "2023-10-01T19:25:17.454064Z",
     "shell.execute_reply.started": "2023-10-01T19:25:17.440025Z"
    }
   },
   "outputs": [],
   "source": [
    "### START CODE HERE ###\n",
    "def MultiplyRow(M, row_num, row_num_multiple):\n",
    "    # .copy() function is required here to keep the original matrix without any changes\n",
    "    M_new = M.copy()     \n",
    "    # exchange row_num of the matrix M_new with its multiple by row_num_multiple\n",
    "    # Note: for simplicity, you can drop check if  row_num_multiple has non-zero value, which makes the operation valid\n",
    "    M_new[row_num] = M_new[row_num] * row_num_multiple\n",
    "    return M_new\n",
    "    \n",
    "def AddRows(M, row_num_1, row_num_2, row_num_1_multiple):\n",
    "    M_new = M.copy()     \n",
    "    # multiply row_num_1 by row_num_1_multiple and add it to the row_num_2, \n",
    "    # exchanging row_num_2 of the matrix M_new with the result\n",
    "    M_new[row_num_2] = M_new[row_num_1] * row_num_1_multiple + M_new[row_num_2]\n",
    "    return M_new\n",
    "\n",
    "def SwapRows(M, row_num_1, row_num_2):\n",
    "    M_new = M.copy()     \n",
    "    # exchange row_num_1 and row_num_2 of the matrix M_new\n",
    "    M_new[[row_num_1, row_num_2]] = M_new[[row_num_2, row_num_1]]\n",
    "    return M_new\n",
    "### END CODE HERE ###"
   ]
  },
  {
   "cell_type": "code",
   "execution_count": null,
   "id": "38f244fb-ec9c-41e5-8f75-700e99cc8798",
   "metadata": {},
   "outputs": [],
   "source": []
  },
  {
   "cell_type": "code",
   "execution_count": 56,
   "id": "1230f014-686a-48a4-9e9b-8fbc446e7ce0",
   "metadata": {
    "execution": {
     "iopub.execute_input": "2023-10-01T19:25:33.800646Z",
     "iopub.status.busy": "2023-10-01T19:25:33.799910Z",
     "iopub.status.idle": "2023-10-01T19:25:33.811458Z",
     "shell.execute_reply": "2023-10-01T19:25:33.810594Z",
     "shell.execute_reply.started": "2023-10-01T19:25:33.800646Z"
    }
   },
   "outputs": [
    {
     "name": "stdout",
     "output_type": "stream",
     "text": [
      "Original matrix:\n",
      "[[ 1. -2.  3. -4.]\n",
      " [-5.  6. -7.  8.]\n",
      " [-4.  3. -2.  1.]\n",
      " [ 8. -7.  6. -5.]]\n",
      "\n",
      "Original matrix after its third row is multiplied by -2:\n",
      "[[ 1. -2.  3. -4.]\n",
      " [-5.  6. -7.  8.]\n",
      " [ 8. -6.  4. -2.]\n",
      " [ 8. -7.  6. -5.]]\n",
      "\n",
      "Original matrix after exchange of the third row with the sum of itself and first row multiplied by 4:\n",
      "[[  1.  -2.   3.  -4.]\n",
      " [ -5.   6.  -7.   8.]\n",
      " [  0.  -5.  10. -15.]\n",
      " [  8.  -7.   6.  -5.]]\n",
      "\n",
      "Original matrix after exchange of its first and third rows:\n",
      "[[-4.  3. -2.  1.]\n",
      " [-5.  6. -7.  8.]\n",
      " [ 1. -2.  3. -4.]\n",
      " [ 8. -7.  6. -5.]]\n"
     ]
    }
   ],
   "source": [
    "A_test = np.array([\n",
    "        [1, -2, 3, -4],\n",
    "        [-5, 6, -7, 8],\n",
    "        [-4, 3, -2, 1], \n",
    "        [8, -7, 6, -5]\n",
    "    ], dtype=np.dtype(float))\n",
    "print(\"Original matrix:\")\n",
    "print(A_test)\n",
    "\n",
    "print(\"\\nOriginal matrix after its third row is multiplied by -2:\")\n",
    "print(MultiplyRow(A_test,2,-2))\n",
    "\n",
    "print(\"\\nOriginal matrix after exchange of the third row with the sum of itself and first row multiplied by 4:\")\n",
    "print(AddRows(A_test,0,2,4))\n",
    "\n",
    "print(\"\\nOriginal matrix after exchange of its first and third rows:\")\n",
    "print(SwapRows(A_test,0,2))"
   ]
  },
  {
   "cell_type": "markdown",
   "id": "70258c72-efab-48cc-827b-e700ab17226f",
   "metadata": {},
   "source": [
    "### Exercise 4\n",
    "\n",
    "Apply elementary operations to the defined above matrix A, performing row reduction according to the given instructions.\n",
    "\n",
    "*Note:* Feel free to add a return statement between the different matrix operations in the code to check on your results while you are writing the code (commenting off the rest of the function). This way you can see, whether your matrix operations are performed correctly line by line (don't forget to remove the return statement afterwards!)."
   ]
  },
  {
   "cell_type": "code",
   "execution_count": 57,
   "id": "57c3e283-f754-41a6-8347-451f3850d3d1",
   "metadata": {
    "execution": {
     "iopub.execute_input": "2023-10-01T19:26:14.129112Z",
     "iopub.status.busy": "2023-10-01T19:26:14.129112Z",
     "iopub.status.idle": "2023-10-01T19:26:14.146247Z",
     "shell.execute_reply": "2023-10-01T19:26:14.146247Z",
     "shell.execute_reply.started": "2023-10-01T19:26:14.129112Z"
    }
   },
   "outputs": [
    {
     "name": "stdout",
     "output_type": "stream",
     "text": [
      "[[ 1.  2. -1. -1.  3.]\n",
      " [ 0.  1.  4.  3. 22.]\n",
      " [ 0.  0.  1.  3.  7.]\n",
      " [-0. -0. -0.  1.  1.]]\n"
     ]
    }
   ],
   "source": [
    "def augmented_to_ref(A, b):    \n",
    "    ### START CODE HERE ###\n",
    "    # stack horizontally matrix A and vector b, which needs to be reshaped as a vector (4, 1)\n",
    "    A_system = np.hstack((A, b.reshape((4, 1))))\n",
    "    \n",
    "    # swap row 0 and row 1 of matrix A_system (remember that indexing in NumPy array starts from 0)\n",
    "    A_ref = SwapRows(A_system, 0, 1)\n",
    "    \n",
    "    # multiply row 0 of the new matrix A_ref by -2 and add it to the row 1\n",
    "    A_ref = AddRows(A_ref, 0, 1, -2)\n",
    "    \n",
    "    # add row 0 of the new matrix A_ref to the row 2, replacing row 2\n",
    "    A_ref = AddRows(A_ref, 0, 2, 1)\n",
    "    \n",
    "    # multiply row 0 of the new matrix A_ref by -1 and add it to the row 3\n",
    "    A_ref = AddRows(A_ref, 0, 3, -1)\n",
    "    \n",
    "    # add row 2 of the new matrix A_ref to the row 3, replacing row 3\n",
    "    A_ref = AddRows(A_ref, 2, 3, 1)\n",
    "    \n",
    "    # swap row 1 and 3 of the new matrix A_ref\n",
    "    A_ref = SwapRows(A_ref, 1, 3)\n",
    "    \n",
    "    # add row 2 of the new matrix A_ref to the row 3, replacing row 3\n",
    "    A_ref = AddRows(A_ref, 2, 3, 1)\n",
    "    \n",
    "    # multiply row 1 of the new matrix A_ref by -4 and add it to the row 2\n",
    "    A_ref = AddRows(A_ref, 1, 2, -4)\n",
    "    \n",
    "    # add row 1 of the new matrix A_ref to the row 3, replacing row 3\n",
    "    A_ref = AddRows(A_ref, 1, 3, 1)\n",
    "    \n",
    "    # multiply row 3 of the new matrix A_ref by 2 and add it to the row 2\n",
    "    A_ref = AddRows(A_ref, 3, 2, 2)\n",
    "    \n",
    "    # multiply row 2 of the new matrix A_ref by -8 and add it to the row 3\n",
    "    A_ref = AddRows(A_ref, 2, 3, -8)\n",
    "    \n",
    "    # multiply row 3 of the new matrix A_ref by -1/17\n",
    "    A_ref = MultiplyRow(A_ref, 3, -1/17)\n",
    "    ### END CODE HERE ###\n",
    "    \n",
    "    return A_ref\n",
    "\n",
    "A_ref = augmented_to_ref(A, b)\n",
    "\n",
    "print(A_ref)"
   ]
  },
  {
   "cell_type": "markdown",
   "id": "fd610d98-8147-4e98-8be8-53fc61d959a7",
   "metadata": {},
   "source": [
    "### Exercise 5\n",
    "\n",
    "From the last line of the reduced matrix `A_ref` find $x_4$. Then you can calculate each of the $x_3$, $x_2$ and $x_1$ taking the elements of the matrix `A_ref[i,j]` and solving the linear equations one by one."
   ]
  },
  {
   "cell_type": "code",
   "execution_count": 58,
   "id": "26dc18b7-c993-448a-adb8-50c3431720ab",
   "metadata": {
    "execution": {
     "iopub.execute_input": "2023-10-01T19:26:41.877489Z",
     "iopub.status.busy": "2023-10-01T19:26:41.876500Z",
     "iopub.status.idle": "2023-10-01T19:26:41.886047Z",
     "shell.execute_reply": "2023-10-01T19:26:41.885546Z",
     "shell.execute_reply.started": "2023-10-01T19:26:41.877489Z"
    }
   },
   "outputs": [
    {
     "name": "stdout",
     "output_type": "stream",
     "text": [
      "2.0 3.0 4.0 1\n"
     ]
    }
   ],
   "source": [
    "### START CODE HERE ###\n",
    "\n",
    "# find the value of x_4 from the last line of the reduced matrix A_ref\n",
    "x_4 = 1\n",
    "\n",
    "# find the value of x_3 from the previous row of the matrix. Use value of x_4.\n",
    "x_3 = A_ref[2, 4] - A_ref[2, 3] * x_4\n",
    "\n",
    "# find the value of x_2 from the second row of the matrix. Use values of x_3 and x_4\n",
    "x_2 = A_ref[1, 4] - A_ref[1, 3] * x_4 - A_ref[1, 2] * x_3\n",
    "\n",
    "# find the value of x_1 from the first row of the matrix. Use values of x_2, x_3 and x_4\n",
    "x_1 = A_ref[0, 4] - A_ref[0, 3] * x_4 - A_ref[0, 2] * x_3 - A_ref[0, 1] * x_2\n",
    "### END CODE HERE ###\n",
    "\n",
    "print(x_1, x_2, x_3, x_4)"
   ]
  },
  {
   "cell_type": "markdown",
   "id": "dc352375-2fa0-4140-8a49-874619e52ea2",
   "metadata": {},
   "source": [
    "### Exercise 6\n",
    "\n",
    "Using the same elementary operations as above you can reduce the matrix further to diagonal form, from which you can see the solutions easily."
   ]
  },
  {
   "cell_type": "code",
   "execution_count": 59,
   "id": "98807a65-a762-49cf-a047-0193860ff154",
   "metadata": {
    "execution": {
     "iopub.execute_input": "2023-10-01T19:27:44.700303Z",
     "iopub.status.busy": "2023-10-01T19:27:44.699865Z",
     "iopub.status.idle": "2023-10-01T19:27:44.716522Z",
     "shell.execute_reply": "2023-10-01T19:27:44.715420Z",
     "shell.execute_reply.started": "2023-10-01T19:27:44.700303Z"
    }
   },
   "outputs": [
    {
     "name": "stdout",
     "output_type": "stream",
     "text": [
      "[[ 1.  0.  0.  0.  2.]\n",
      " [ 0.  1.  0.  0.  3.]\n",
      " [ 0.  0.  1.  0.  4.]\n",
      " [-0. -0. -0.  1.  1.]]\n"
     ]
    }
   ],
   "source": [
    "def ref_to_diagonal(A_ref):    \n",
    "    ### START CODE HERE ###\n",
    "    # multiply row 3 of the matrix A_ref by -3 and add it to the row 2\n",
    "    A_diag = AddRows(A_ref, 3, 2, -3)\n",
    "    \n",
    "    # multiply row 3 of the new matrix A_diag by -3 and add it to the row 1\n",
    "    A_diag = AddRows(A_diag, 3, 1, -3)\n",
    "    \n",
    "    # add row 3 of the new matrix A_diag to the row 0, replacing row 0\n",
    "    A_diag = AddRows(A_diag, 3, 0, 1)\n",
    "    \n",
    "    # multiply row 2 of the new matrix A_diag by -4 and add it to the row 1\n",
    "    A_diag = AddRows(A_diag, 2, 1, -4)\n",
    "    \n",
    "    # add row 2 of the new matrix A_diag to the row 0, replacing row 0\n",
    "    A_diag = AddRows(A_diag, 2, 0, 1)\n",
    "    \n",
    "    # multiply row 1 of the new matrix A_diag by -2 and add it to the row 0\n",
    "    A_diag = AddRows(A_diag, 1, 0, -2)\n",
    "    ### END CODE HERE ###\n",
    "    \n",
    "    return A_diag\n",
    "    \n",
    "A_diag = ref_to_diagonal(A_ref)\n",
    "\n",
    "print(A_diag)"
   ]
  },
  {
   "cell_type": "markdown",
   "id": "797c8328-1ddc-465c-89c4-f68d18d1ce98",
   "metadata": {},
   "source": [
    "# Vector Operations"
   ]
  },
  {
   "cell_type": "markdown",
   "id": "faa48f57-57ed-43d2-aaac-95c8b9ad70f5",
   "metadata": {},
   "source": [
    "## Scalar Multiplication and Sum of Vectors"
   ]
  },
  {
   "cell_type": "markdown",
   "id": "41226cf3-c59f-4ae8-9bc5-352ff00f380c",
   "metadata": {},
   "source": [
    "### 1.1 - Visualization of a Vector $v\\in\\mathbb{R}^2$\n",
    "\n",
    "You already have seen in the videos and labs, that vectors can be visualized as arrows, and it is easy to do it for a $v\\in\\mathbb{R}^2$, e.g.\n",
    "$v=\\begin{bmatrix}\n",
    "          1 & 3\n",
    "\\end{bmatrix}^T$\n",
    "\n",
    "The following code will show the visualization."
   ]
  },
  {
   "cell_type": "code",
   "execution_count": 60,
   "id": "5250a86e-9d04-41d4-b847-e92587642fe4",
   "metadata": {
    "execution": {
     "iopub.execute_input": "2023-10-01T19:33:06.683341Z",
     "iopub.status.busy": "2023-10-01T19:33:06.683341Z",
     "iopub.status.idle": "2023-10-01T19:33:07.060499Z",
     "shell.execute_reply": "2023-10-01T19:33:07.059000Z",
     "shell.execute_reply.started": "2023-10-01T19:33:06.683341Z"
    }
   },
   "outputs": [
    {
     "data": {
      "image/png": "[encoded data removed]",
      "text/plain": [
       "<Figure size 1000x1000 with 1 Axes>"
      ]
     },
     "metadata": {},
     "output_type": "display_data"
    }
   ],
   "source": [
    "import matplotlib.pyplot as plt\n",
    "\n",
    "def plot_vectors(list_v, list_label, list_color):\n",
    "    _, ax = plt.subplots(figsize=(10, 10))\n",
    "    ax.tick_params(axis='x', labelsize=14)\n",
    "    ax.tick_params(axis='y', labelsize=14)\n",
    "    ax.set_xticks(np.arange(-10, 10))\n",
    "    ax.set_yticks(np.arange(-10, 10))\n",
    "    \n",
    "    \n",
    "    plt.axis([-10, 10, -10, 10])\n",
    "    for i, v in enumerate(list_v):\n",
    "        sgn = 0.4 * np.array([[1] if i==0 else [i] for i in np.sign(v)])\n",
    "        plt.quiver(v[0], v[1], color=list_color[i], angles='xy', scale_units='xy', scale=1)\n",
    "        ax.text(v[0]-0.2+sgn[0], v[1]-0.2+sgn[1], list_label[i], fontsize=14, color=list_color[i])\n",
    "\n",
    "    plt.grid()\n",
    "    plt.gca().set_aspect(\"equal\")\n",
    "    plt.show()\n",
    "\n",
    "v = np.array([[1],[3]])\n",
    "# Arguments: list of vectors as NumPy arrays, labels, colors.\n",
    "plot_vectors([v], [f\"$v$\"], [\"black\"])"
   ]
  },
  {
   "cell_type": "markdown",
   "id": "987a93df-8e44-4f38-8056-e4469c450940",
   "metadata": {},
   "source": [
    "The vector is defined by its **norm (length, magnitude)** and **direction**, not its actual position. But for clarity and convenience vectors are often plotted starting in the origin (in $\\mathbb{R}^2$ it is a point $(0,0)$) ."
   ]
  },
  {
   "cell_type": "markdown",
   "id": "06765a72-d868-463e-98cf-4e980188ab41",
   "metadata": {},
   "source": [
    "### Scalar Multiplication\n",
    "\n",
    "**Scalar multiplication** of a vector $v=\\begin{bmatrix}\n",
    "          v_1 & v_2 & \\ldots & v_n \n",
    "\\end{bmatrix}^T\\in\\mathbb{R}^n$ by a scalar $k$ is a vector $kv=\\begin{bmatrix}\n",
    "          kv_1 & kv_2 & \\ldots & kv_n \n",
    "\\end{bmatrix}^T$ (element by element multiplication). If $k>0$, then $kv$ is a vector pointing in the same direction as $v$ and it is $k$ times as long as $v$. If $k=0$, then $kv$ is a zero vector. If $k<0$, vector $kv$ will be pointing in the opposite direction. In Python you can perform this operation with a `*` operator. Check out the example below:"
   ]
  },
  {
   "cell_type": "code",
   "execution_count": 61,
   "id": "6db79cca-4071-45b9-8eb0-61ce9d87e071",
   "metadata": {
    "execution": {
     "iopub.execute_input": "2023-10-01T19:33:51.753076Z",
     "iopub.status.busy": "2023-10-01T19:33:51.752621Z",
     "iopub.status.idle": "2023-10-01T19:33:52.033739Z",
     "shell.execute_reply": "2023-10-01T19:33:52.032455Z",
     "shell.execute_reply.started": "2023-10-01T19:33:51.753076Z"
    }
   },
   "outputs": [
    {
     "data": {
      "image/png": "[encoded data removed]",
      "text/plain": [
       "<Figure size 1000x1000 with 1 Axes>"
      ]
     },
     "metadata": {},
     "output_type": "display_data"
    }
   ],
   "source": [
    "plot_vectors([v, 2*v, -2*v], [f\"$v$\", f\"$2v$\", f\"$-2v$\"], [\"black\", \"green\", \"blue\"])"
   ]
  },
  {
   "cell_type": "markdown",
   "id": "d9aef180-2773-4acb-bb92-5457ce3e9c14",
   "metadata": {},
   "source": [
    "### Sum of Vectors\n",
    "\n",
    "**Sum of vectors (vector addition)** can be performed by adding the corresponding components of the vectors: if $v=\\begin{bmatrix}\n",
    "          v_1 & v_2 & \\ldots & v_n \n",
    "\\end{bmatrix}^T\\in\\mathbb{R}^n$ and  \n",
    "$w=\\begin{bmatrix}\n",
    "          w_1 & w_2 & \\ldots & w_n \n",
    "\\end{bmatrix}^T\\in\\mathbb{R}^n$, then $v + w=\\begin{bmatrix}\n",
    "          v_1 + w_1 & v_2 + w_2 & \\ldots & v_n + w_n \n",
    "\\end{bmatrix}^T\\in\\mathbb{R}^n$. The so-called **parallelogram law** gives the rule for vector addition. For two vectors $u$ and $v$ represented by the adjacent sides (both in magnitude and direction) of a parallelogram drawn from a point, the vector sum $u+v$ is is represented by the diagonal of the parallelogram drawn from the same point:\n",
    "\n",
    "<img src = \"sum_of_vectors.png\" width=\"230\" align=\"middle\"/>\n",
    "\n",
    "In Python you can either use `+` operator or `NumPy` function `np.add()`. In the following code you can uncomment the line to check that the result will be the same:"
   ]
  },
  {
   "cell_type": "code",
   "execution_count": 62,
   "id": "5c9aa93e-2e2b-41d2-a2e4-918d337d913f",
   "metadata": {
    "execution": {
     "iopub.execute_input": "2023-10-01T19:38:01.743098Z",
     "iopub.status.busy": "2023-10-01T19:38:01.742091Z",
     "iopub.status.idle": "2023-10-01T19:38:01.995308Z",
     "shell.execute_reply": "2023-10-01T19:38:01.995142Z",
     "shell.execute_reply.started": "2023-10-01T19:38:01.743098Z"
    }
   },
   "outputs": [
    {
     "data": {
      "image/png": "[encoded data removed]",
      "text/plain": [
       "<Figure size 1000x1000 with 1 Axes>"
      ]
     },
     "metadata": {},
     "output_type": "display_data"
    }
   ],
   "source": [
    "v = np.array([[1],[3]])\n",
    "w = np.array([[4],[-1]])\n",
    "\n",
    "plot_vectors([v, w, v + w], [f\"$v$\", f\"$w$\", f\"$v + w$\"], [\"black\", \"black\", \"red\"])\n",
    "# plot_vectors([v, w, np.add(v, w)], [f\"$v$\", f\"$w$\", f\"$v + w$\"], [\"black\", \"black\", \"red\"])"
   ]
  },
  {
   "cell_type": "markdown",
   "id": "a0ea4d8c-7c2a-4939-b178-813ab682388f",
   "metadata": {},
   "source": [
    "### Norm of a Vector\n",
    "\n",
    "The norm of a vector $v$ is denoted as $\\lvert v\\rvert$. It is a nonnegative number that describes the extent of the vector in space (its length). The norm of a vector can be found using `NumPy` function `np.linalg.norm()`:"
   ]
  },
  {
   "cell_type": "code",
   "execution_count": 63,
   "id": "d5dc15f6-b597-4063-93b3-2c9ef85ffb70",
   "metadata": {
    "execution": {
     "iopub.execute_input": "2023-10-01T19:38:50.985772Z",
     "iopub.status.busy": "2023-10-01T19:38:50.984772Z",
     "iopub.status.idle": "2023-10-01T19:38:50.993664Z",
     "shell.execute_reply": "2023-10-01T19:38:50.993485Z",
     "shell.execute_reply.started": "2023-10-01T19:38:50.984772Z"
    }
   },
   "outputs": [
    {
     "name": "stdout",
     "output_type": "stream",
     "text": [
      "Norm of a vector v is 3.1622776601683795\n"
     ]
    }
   ],
   "source": [
    "print(\"Norm of a vector v is\", np.linalg.norm(v))"
   ]
  },
  {
   "cell_type": "markdown",
   "id": "d5bae759-de0c-4428-9ab2-11c819800d02",
   "metadata": {
    "execution": {
     "iopub.execute_input": "2023-10-01T19:39:40.984110Z",
     "iopub.status.busy": "2023-10-01T19:39:40.983102Z",
     "iopub.status.idle": "2023-10-01T19:39:41.002208Z",
     "shell.execute_reply": "2023-10-01T19:39:41.000700Z",
     "shell.execute_reply.started": "2023-10-01T19:39:40.984110Z"
    }
   },
   "source": [
    "### 2.1 - Algebraic Definition of the Dot Product\n",
    "\n",
    "The **dot product** (or **scalar product**) is an algebraic operation that takes two vectors $x=\\begin{bmatrix}\n",
    "          x_1 & x_2 & \\ldots & x_n \n",
    "\\end{bmatrix}^T\\in\\mathbb{R}^n$ and  \n",
    "$y=\\begin{bmatrix}\n",
    "          y_1 & y_2 & \\ldots & y_n \n",
    "\\end{bmatrix}^T\\in\\mathbb{R}^n$ and returns a single scalar. The dot product can be represented with a dot operator $x\\cdot y$ and defined as:\n",
    "\n",
    "$$x\\cdot y = \\sum_{i=1}^{n} x_iy_i = x_1y_1+x_2y_2+\\ldots+x_ny_n \\tag{1}$$"
   ]
  },
  {
   "cell_type": "markdown",
   "id": "96a34a47-bf91-4261-bd7f-f6e03e53a19e",
   "metadata": {},
   "source": [
    "### Dot Product using Python\n",
    "\n",
    "The simplest way to calculate dot product in Python is to take the sum of element by element multiplications. You can define the vectors $x$ and $y$ by listing their coordinates:"
   ]
  },
  {
   "cell_type": "code",
   "execution_count": 65,
   "id": "1339c8ad-3aeb-47f5-bdda-3f36444c2400",
   "metadata": {
    "execution": {
     "iopub.execute_input": "2023-10-01T19:40:39.791429Z",
     "iopub.status.busy": "2023-10-01T19:40:39.790428Z",
     "iopub.status.idle": "2023-10-01T19:40:39.802066Z",
     "shell.execute_reply": "2023-10-01T19:40:39.800303Z",
     "shell.execute_reply.started": "2023-10-01T19:40:39.790428Z"
    }
   },
   "outputs": [],
   "source": [
    "x = [1, -2, -5]\n",
    "y = [4, 3, -1]"
   ]
  },
  {
   "cell_type": "markdown",
   "id": "15344342-cf56-43af-b9db-f0d766d2496c",
   "metadata": {},
   "source": [
    "Next, let’s define a function `dot(x,y)` for the dot product calculation:"
   ]
  },
  {
   "cell_type": "code",
   "execution_count": 66,
   "id": "2a37fe7d-4d5a-49de-bf1e-fe9ea3c967c0",
   "metadata": {
    "execution": {
     "iopub.execute_input": "2023-10-01T19:40:40.189815Z",
     "iopub.status.busy": "2023-10-01T19:40:40.189815Z",
     "iopub.status.idle": "2023-10-01T19:40:40.202877Z",
     "shell.execute_reply": "2023-10-01T19:40:40.202877Z",
     "shell.execute_reply.started": "2023-10-01T19:40:40.189815Z"
    }
   },
   "outputs": [],
   "source": [
    "def dot(x, y):\n",
    "    s=0\n",
    "    for xi, yi in zip(x, y):\n",
    "        s += xi * yi\n",
    "    return s"
   ]
  },
  {
   "cell_type": "markdown",
   "id": "75aaaae4-44f6-4129-a617-e2186e679dbc",
   "metadata": {},
   "source": [
    "For the sake of simplicity, let’s assume that the vectors passed to the above function are always of the same size, so that you don’t need to perform additional checks.\n",
    "\n",
    "Now everything is ready to perform the dot product calculation calling the function `dot(x,y)`:"
   ]
  },
  {
   "cell_type": "code",
   "execution_count": 67,
   "id": "35e13922-4dcb-4af8-87eb-97517d40fd33",
   "metadata": {
    "execution": {
     "iopub.execute_input": "2023-10-01T19:40:58.604834Z",
     "iopub.status.busy": "2023-10-01T19:40:58.604378Z",
     "iopub.status.idle": "2023-10-01T19:40:58.619955Z",
     "shell.execute_reply": "2023-10-01T19:40:58.619798Z",
     "shell.execute_reply.started": "2023-10-01T19:40:58.604834Z"
    }
   },
   "outputs": [
    {
     "name": "stdout",
     "output_type": "stream",
     "text": [
      "The dot product of x and y is 3\n"
     ]
    }
   ],
   "source": [
    "print(\"The dot product of x and y is\", dot(x, y))"
   ]
  },
  {
   "cell_type": "markdown",
   "id": "58f060bd-b821-4e21-857f-ffcec31706fe",
   "metadata": {
    "execution": {
     "iopub.execute_input": "2023-10-01T19:40:58.815402Z",
     "iopub.status.busy": "2023-10-01T19:40:58.815402Z",
     "iopub.status.idle": "2023-10-01T19:40:58.836829Z",
     "shell.execute_reply": "2023-10-01T19:40:58.835831Z",
     "shell.execute_reply.started": "2023-10-01T19:40:58.815402Z"
    }
   },
   "source": [
    "Dot product is very a commonly used operator, so `NumPy` linear algebra package provides quick way to calculate it using function `np.dot()`:"
   ]
  },
  {
   "cell_type": "code",
   "execution_count": 69,
   "id": "6135f93c-06a7-4609-8606-a2fee60e69fc",
   "metadata": {
    "execution": {
     "iopub.execute_input": "2023-10-01T19:41:28.962436Z",
     "iopub.status.busy": "2023-10-01T19:41:28.961348Z",
     "iopub.status.idle": "2023-10-01T19:41:28.972888Z",
     "shell.execute_reply": "2023-10-01T19:41:28.972888Z",
     "shell.execute_reply.started": "2023-10-01T19:41:28.962436Z"
    }
   },
   "outputs": [
    {
     "name": "stdout",
     "output_type": "stream",
     "text": [
      "np.dot(x,y) function returns dot product of x and y: 3\n"
     ]
    }
   ],
   "source": [
    "print(\"np.dot(x,y) function returns dot product of x and y:\", np.dot(x, y)) "
   ]
  },
  {
   "cell_type": "markdown",
   "id": "398da31d-1e73-4597-81a8-42226ec8049d",
   "metadata": {},
   "source": [
    "Note that you did not have to define vectors $x$ and $y$ as `NumPy` arrays, the function worked even with the lists. But there are alternative functions in Python, such as explicit operator `@` for the dot product, which can be applied only to the `NumPy` arrays. You can run the following cell to check that."
   ]
  },
  {
   "cell_type": "code",
   "execution_count": 70,
   "id": "34c77b28-adeb-408b-94af-6e4e763b321d",
   "metadata": {
    "execution": {
     "iopub.execute_input": "2023-10-01T19:42:30.114301Z",
     "iopub.status.busy": "2023-10-01T19:42:30.113300Z",
     "iopub.status.idle": "2023-10-01T19:42:30.121114Z",
     "shell.execute_reply": "2023-10-01T19:42:30.120114Z",
     "shell.execute_reply.started": "2023-10-01T19:42:30.114301Z"
    }
   },
   "outputs": [
    {
     "name": "stdout",
     "output_type": "stream",
     "text": [
      "This line output is a dot product of x and y:  3\n",
      "\n",
      "This line output is an error:\n",
      "unsupported operand type(s) for @: 'list' and 'list'\n"
     ]
    }
   ],
   "source": [
    "print(\"This line output is a dot product of x and y: \", np.array(x) @ np.array(y))\n",
    "\n",
    "print(\"\\nThis line output is an error:\")\n",
    "try:\n",
    "    print(x @ y)\n",
    "except TypeError as err:\n",
    "    print(err)"
   ]
  },
  {
   "cell_type": "markdown",
   "id": "a331c104-d8ae-4f4c-bb1b-30db9b245d0e",
   "metadata": {},
   "source": [
    "As both `np.dot()` and `@` operators are commonly used, it is recommended to define vectors as `NumPy` arrays to avoid errors. Let's redefine vectors $x$ and $y$ as `NumPy` arrays to be safe:"
   ]
  },
  {
   "cell_type": "code",
   "execution_count": 71,
   "id": "ffe42fe1-6ce6-43d0-b5ba-3e6f1408ecad",
   "metadata": {
    "execution": {
     "iopub.execute_input": "2023-10-01T19:42:50.440629Z",
     "iopub.status.busy": "2023-10-01T19:42:50.440629Z",
     "iopub.status.idle": "2023-10-01T19:42:50.459474Z",
     "shell.execute_reply": "2023-10-01T19:42:50.459474Z",
     "shell.execute_reply.started": "2023-10-01T19:42:50.440629Z"
    }
   },
   "outputs": [],
   "source": [
    "x = np.array(x)\n",
    "y = np.array(y)"
   ]
  },
  {
   "cell_type": "markdown",
   "id": "45f6e2fa-7735-4dfe-a628-1ebdca00708f",
   "metadata": {},
   "source": [
    "### Speed of Calculations in Vectorized Form\n",
    "\n",
    "Dot product operations in Machine Learning applications are applied to the large vectors with hundreds or thousands of coordinates (called **high dimensional vectors**). Training models based on large datasets often takes hours and days even on powerful machines. Speed of calculations is crucial for the training and deployment of your models. \n",
    "\n",
    "It is important to understand the difference in the speed of calculations using vectorized and the loop forms of the vectors and functions. In the loop form operations are performed one by one, while in the vectorized form they can be performed in parallel. In the section above you defined loop version of the dot product calculation (function `dot()`), while `np.dot()` and `@` are the functions representing vectorized form.\n",
    "\n",
    "Let's perform a simple experiment to compare their speed. Define new vectors $a$ and $b$ of the same size $1,000,000$:"
   ]
  },
  {
   "cell_type": "code",
   "execution_count": 72,
   "id": "ac60a665-f6f2-4319-a370-704adeb2dbe1",
   "metadata": {
    "execution": {
     "iopub.execute_input": "2023-10-01T19:43:46.929331Z",
     "iopub.status.busy": "2023-10-01T19:43:46.928653Z",
     "iopub.status.idle": "2023-10-01T19:43:46.955831Z",
     "shell.execute_reply": "2023-10-01T19:43:46.955332Z",
     "shell.execute_reply.started": "2023-10-01T19:43:46.929331Z"
    }
   },
   "outputs": [],
   "source": [
    "a = np.random.rand(1000000)\n",
    "b = np.random.rand(1000000)"
   ]
  },
  {
   "cell_type": "markdown",
   "id": "33b14b62-f863-422e-b4cc-977d7378af0d",
   "metadata": {},
   "source": [
    "Use `time.time()` function to evaluate amount of time (in seconds) required to calculate dot product using the function `dot(x,y)` which you defined above: "
   ]
  },
  {
   "cell_type": "code",
   "execution_count": 73,
   "id": "2596e442-b48a-478d-8b5d-6d2340b3e0f8",
   "metadata": {
    "execution": {
     "iopub.execute_input": "2023-10-01T19:44:58.469150Z",
     "iopub.status.busy": "2023-10-01T19:44:58.468611Z",
     "iopub.status.idle": "2023-10-01T19:44:58.640724Z",
     "shell.execute_reply": "2023-10-01T19:44:58.640223Z",
     "shell.execute_reply.started": "2023-10-01T19:44:58.469150Z"
    }
   },
   "outputs": [
    {
     "name": "stdout",
     "output_type": "stream",
     "text": [
      "Dot product:  249990.74389689654\n",
      "Time for the loop version:159.6214771270752 ms\n"
     ]
    }
   ],
   "source": [
    "import time\n",
    "\n",
    "tic = time.time()\n",
    "c = dot(a,b)\n",
    "toc = time.time()\n",
    "print(\"Dot product: \", c)\n",
    "print (\"Time for the loop version:\" + str(1000*(toc-tic)) + \" ms\")"
   ]
  },
  {
   "cell_type": "markdown",
   "id": "31a741b1-04eb-412f-83c1-2fc050060cf7",
   "metadata": {},
   "source": [
    "Now compare it with the speed of the vectorized versions:"
   ]
  },
  {
   "cell_type": "code",
   "execution_count": 74,
   "id": "4ee0a9e3-3381-4aa3-8a6c-90ac10db363f",
   "metadata": {
    "execution": {
     "iopub.execute_input": "2023-10-01T19:45:18.079223Z",
     "iopub.status.busy": "2023-10-01T19:45:18.079223Z",
     "iopub.status.idle": "2023-10-01T19:45:18.091099Z",
     "shell.execute_reply": "2023-10-01T19:45:18.090599Z",
     "shell.execute_reply.started": "2023-10-01T19:45:18.079223Z"
    }
   },
   "outputs": [
    {
     "name": "stdout",
     "output_type": "stream",
     "text": [
      "Dot product:  249990.7438968947\n",
      "Time for the vectorized version, np.dot() function: 1.4646053314208984 ms\n"
     ]
    }
   ],
   "source": [
    "tic = time.time()\n",
    "c = np.dot(a,b)\n",
    "toc = time.time()\n",
    "print(\"Dot product: \", c)\n",
    "print (\"Time for the vectorized version, np.dot() function: \" + str(1000*(toc-tic)) + \" ms\")"
   ]
  },
  {
   "cell_type": "code",
   "execution_count": 75,
   "id": "afcc78af-ff28-4415-bbce-33137b051097",
   "metadata": {
    "execution": {
     "iopub.execute_input": "2023-10-01T19:45:29.324843Z",
     "iopub.status.busy": "2023-10-01T19:45:29.323843Z",
     "iopub.status.idle": "2023-10-01T19:45:29.330994Z",
     "shell.execute_reply": "2023-10-01T19:45:29.330904Z",
     "shell.execute_reply.started": "2023-10-01T19:45:29.324843Z"
    }
   },
   "outputs": [
    {
     "name": "stdout",
     "output_type": "stream",
     "text": [
      "Dot product:  249990.7438968947\n",
      "Time for the vectorized version, @ function: 2.0051002502441406 ms\n"
     ]
    }
   ],
   "source": [
    "tic = time.time()\n",
    "c = a @ b\n",
    "toc = time.time()\n",
    "print(\"Dot product: \", c)\n",
    "print (\"Time for the vectorized version, @ function: \" + str(1000*(toc-tic)) + \" ms\")"
   ]
  },
  {
   "cell_type": "markdown",
   "id": "9ccc3bec-5d62-46f6-a9db-dd4b0a7f00cb",
   "metadata": {},
   "source": [
    "You can see that vectorization is extremely beneficial in terms of the speed of calculations!"
   ]
  },
  {
   "cell_type": "markdown",
   "id": "7b954d4d-4f8d-4ded-b94c-70e0b5a629ba",
   "metadata": {},
   "source": [
    "### Geometric Definition of the Dot Product\n",
    "\n",
    "In [Euclidean space](https://en.wikipedia.org/wiki/Euclidean_space), a Euclidean vector has both magnitude and direction. The dot product of two vectors $x$ and $y$ is defined by:\n",
    "\n",
    "$$x\\cdot y = \\lvert x\\rvert \\lvert y\\rvert \\cos(\\theta),\\tag{2}$$\n",
    "\n",
    "where $\\theta$ is the angle between the two vectors:\n",
    "\n",
    "<img src = \"dot_product_geometric.png\" width=\"230\" align=\"middle\"/>\n",
    "\n",
    "This provides an easy way to test the orthogonality between vectors. If $x$ and $y$ are orthogonal (the angle between vectors is $90^{\\circ}$), then since $\\cos(90^{\\circ})=0$, it implies that **the dot product of any two orthogonal vectors must be $0$**. Let's test it, taking two vectors $i$ and $j$ we know are orthogonal:"
   ]
  },
  {
   "cell_type": "code",
   "execution_count": 76,
   "id": "b2dc3755-0f2a-4ab5-bd04-bf9ae1fdfde6",
   "metadata": {
    "execution": {
     "iopub.execute_input": "2023-10-01T19:47:26.851220Z",
     "iopub.status.busy": "2023-10-01T19:47:26.851220Z",
     "iopub.status.idle": "2023-10-01T19:47:26.866498Z",
     "shell.execute_reply": "2023-10-01T19:47:26.865998Z",
     "shell.execute_reply.started": "2023-10-01T19:47:26.851220Z"
    }
   },
   "outputs": [
    {
     "name": "stdout",
     "output_type": "stream",
     "text": [
      "The dot product of i and j is 0\n"
     ]
    }
   ],
   "source": [
    "i = np.array([1, 0, 0])\n",
    "j = np.array([0, 1, 0])\n",
    "print(\"The dot product of i and j is\", dot(i, j))"
   ]
  },
  {
   "cell_type": "markdown",
   "id": "c2bd0d7a-a325-44a0-ad6b-76e7d4254a2c",
   "metadata": {},
   "source": [
    "### Application of the Dot Product: Vector Similarity\n",
    "\n",
    "Geometric definition of a dot product is used in one of the applications - to evaluate **vector similarity**. In Natural Language Processing (NLP) words or phrases from vocabulary are mapped to a corresponding vector of real numbers. Similarity between two vectors can be defined as a cosine of the angle between them. When they point in the same direction, their similarity is 1 and it decreases with the increase of the angle. \n",
    "\n",
    "Then equation $(2)$ can be rearranged to evaluate cosine of the angle between vectors:\n",
    "\n",
    "$\\cos(\\theta)=\\frac{x \\cdot y}{\\lvert x\\rvert \\lvert y\\rvert}.\\tag{3}$\n",
    "\n",
    "Zero value corresponds to the zero similarity between vectors (and words corresponding to those vectors). Largest value is when vectors point in the same direction, lowest value is when vectors point in the opposite directions.\n",
    "\n",
    "This example of vector similarity is given to link the material with the Machine Learning applications. There will be no actual implementation of it in this Course. Some examples of implementation can be found in the Natual Language Processing Specialization.\n",
    "\n",
    "Well done, you have finished this lab!"
   ]
  },
  {
   "cell_type": "code",
   "execution_count": null,
   "id": "4074ad66-433f-4e2b-b4c4-05a1d2c6db8e",
   "metadata": {},
   "outputs": [],
   "source": []
  },
  {
   "cell_type": "markdown",
   "id": "6da32163-9b2f-4be7-8bec-597add20f5f5",
   "metadata": {},
   "source": [
    "# Matrix Multiplication"
   ]
  },
  {
   "cell_type": "markdown",
   "id": "1b68b440-342f-47a9-aaef-94a276453643",
   "metadata": {},
   "source": [
    "## Definition of Matrix Multiplication\n",
    "\n",
    "If $A$ is an $m \\times n$ matrix and $B$ is an $n \\times p$ matrix, the matrix product $C = AB$ (denoted without multiplication signs or dots) is defined to be the $m \\times p$ matrix such that \n",
    "$c_{ij}=a_{i1}b_{1j}+a_{i2}b_{2j}+\\ldots+a_{in}b_{nj}=\\sum_{k=1}^{n} a_{ik}b_{kj}, \\tag{4}$\n",
    "\n",
    "where $a_{ik}$ are the elements of matrix $A$, $b_{kj}$ are the elements of matrix $B$, and $i = 1, \\ldots, m$, $k=1, \\ldots, n$, $j = 1, \\ldots, p$. In other words, $c_{ij}$ is the dot product of the $i$-th row of $A$ and the $j$-th column of $B$."
   ]
  },
  {
   "cell_type": "markdown",
   "id": "2566bd36-7eee-4c75-9972-8448a9ccde99",
   "metadata": {},
   "source": [
    "## Matrix Multiplication using Python\n",
    "\n",
    "Like with the dot product, there are a few ways to perform matrix multiplication in Python. As discussed in the previous lab, the calculations are more efficient in the vectorized form. Let's discuss the most commonly used functions in the vectorized form. First, define two matrices:"
   ]
  },
  {
   "cell_type": "code",
   "execution_count": 101,
   "id": "a1e07c42-ef6b-4e43-b84f-afe7fac0cf5f",
   "metadata": {
    "execution": {
     "iopub.execute_input": "2023-10-01T20:39:49.156042Z",
     "iopub.status.busy": "2023-10-01T20:39:49.155041Z",
     "iopub.status.idle": "2023-10-01T20:39:49.175658Z",
     "shell.execute_reply": "2023-10-01T20:39:49.174647Z",
     "shell.execute_reply.started": "2023-10-01T20:39:49.156042Z"
    }
   },
   "outputs": [
    {
     "name": "stdout",
     "output_type": "stream",
     "text": [
      "Matrix A (3 by 3):\n",
      " [[4 9 9]\n",
      " [9 1 6]\n",
      " [9 2 3]]\n",
      "Matrix B (3 by 2):\n",
      " [[2 2]\n",
      " [5 7]\n",
      " [4 4]]\n"
     ]
    }
   ],
   "source": [
    "A = np.array([[4, 9, 9], [9, 1, 6], [9, 2, 3]])\n",
    "print(\"Matrix A (3 by 3):\\n\", A)\n",
    "\n",
    "B = np.array([[2, 2], [5, 7], [4, 4]])\n",
    "print(\"Matrix B (3 by 2):\\n\", B)"
   ]
  },
  {
   "cell_type": "markdown",
   "id": "bd2539e8-e9ca-4c95-bf26-6f1d57f1f7fc",
   "metadata": {},
   "source": [
    "You can multiply matrices $A$ and $B$ using `NumPy` package function `np.matmul()`:"
   ]
  },
  {
   "cell_type": "code",
   "execution_count": 102,
   "id": "85cde922-de95-4329-8b77-c9affcf4d7ac",
   "metadata": {
    "execution": {
     "iopub.execute_input": "2023-10-01T20:40:13.203684Z",
     "iopub.status.busy": "2023-10-01T20:40:13.202417Z",
     "iopub.status.idle": "2023-10-01T20:40:13.226102Z",
     "shell.execute_reply": "2023-10-01T20:40:13.225487Z",
     "shell.execute_reply.started": "2023-10-01T20:40:13.203684Z"
    }
   },
   "outputs": [
    {
     "data": {
      "text/plain": [
       "array([[ 89, 107],\n",
       "       [ 47,  49],\n",
       "       [ 40,  44]])"
      ]
     },
     "execution_count": 102,
     "metadata": {},
     "output_type": "execute_result"
    }
   ],
   "source": [
    "np.matmul(A, B)"
   ]
  },
  {
   "cell_type": "markdown",
   "id": "a9488890-5218-4be5-9bd9-c47db83d5ef3",
   "metadata": {},
   "source": [
    "Which will output $3 \\times 2$ matrix as a `np.array`. Python operator `@` will also work here giving the same result:"
   ]
  },
  {
   "cell_type": "code",
   "execution_count": 103,
   "id": "edac3562-1456-4b7d-a7bd-c46bbd3cdd92",
   "metadata": {
    "execution": {
     "iopub.execute_input": "2023-10-01T20:41:13.604208Z",
     "iopub.status.busy": "2023-10-01T20:41:13.603207Z",
     "iopub.status.idle": "2023-10-01T20:41:13.616239Z",
     "shell.execute_reply": "2023-10-01T20:41:13.616239Z",
     "shell.execute_reply.started": "2023-10-01T20:41:13.604208Z"
    }
   },
   "outputs": [
    {
     "data": {
      "text/plain": [
       "array([[ 89, 107],\n",
       "       [ 47,  49],\n",
       "       [ 40,  44]])"
      ]
     },
     "execution_count": 103,
     "metadata": {},
     "output_type": "execute_result"
    }
   ],
   "source": [
    "A @ B"
   ]
  },
  {
   "cell_type": "markdown",
   "id": "4a79af63-f44a-49cb-95ed-66da5ad7725d",
   "metadata": {},
   "source": [
    "## Matrix Convention and Broadcasting\n",
    "\n",
    "Mathematically, matrix multiplication is defined only if number of the columns of matrix $A$ is equal to the number of the rows of matrix $B$ (you can check again the definition in the secition [1](#1) and see that otherwise the dot products between rows and columns will not be defined). \n",
    "\n",
    "Thus, in the example above ([2](#2)), changing the order of matrices when performing the multiplication $BA$ will not work as the above rule does not hold anymore. You can check it by running the cells below - both of them will give errors."
   ]
  },
  {
   "cell_type": "code",
   "execution_count": 104,
   "id": "bd0d435a-d346-423f-a3c3-88f0a9ffba39",
   "metadata": {
    "execution": {
     "iopub.execute_input": "2023-10-01T20:41:50.352659Z",
     "iopub.status.busy": "2023-10-01T20:41:50.352659Z",
     "iopub.status.idle": "2023-10-01T20:41:50.366599Z",
     "shell.execute_reply": "2023-10-01T20:41:50.365015Z",
     "shell.execute_reply.started": "2023-10-01T20:41:50.352659Z"
    }
   },
   "outputs": [
    {
     "name": "stdout",
     "output_type": "stream",
     "text": [
      "matmul: Input operand 1 has a mismatch in its core dimension 0, with gufunc signature (n?,k),(k,m?)->(n?,m?) (size 3 is different from 2)\n"
     ]
    }
   ],
   "source": [
    "try:\n",
    "    np.matmul(B, A)\n",
    "except ValueError as err:\n",
    "    print(err)"
   ]
  },
  {
   "cell_type": "code",
   "execution_count": 105,
   "id": "d1c92c8a-3470-43dc-b4e4-747599cff568",
   "metadata": {
    "execution": {
     "iopub.execute_input": "2023-10-01T20:42:05.393902Z",
     "iopub.status.busy": "2023-10-01T20:42:05.393902Z",
     "iopub.status.idle": "2023-10-01T20:42:05.398969Z",
     "shell.execute_reply": "2023-10-01T20:42:05.398470Z",
     "shell.execute_reply.started": "2023-10-01T20:42:05.393902Z"
    }
   },
   "outputs": [
    {
     "name": "stdout",
     "output_type": "stream",
     "text": [
      "matmul: Input operand 1 has a mismatch in its core dimension 0, with gufunc signature (n?,k),(k,m?)->(n?,m?) (size 3 is different from 2)\n"
     ]
    }
   ],
   "source": [
    "try:\n",
    "    B @ A\n",
    "except ValueError as err:\n",
    "    print(err)"
   ]
  },
  {
   "cell_type": "markdown",
   "id": "1c841a6d-e84f-467b-884a-104ffe7754e0",
   "metadata": {},
   "source": [
    "So when using matrix multiplication you will need to be very careful about the dimensions - the number of the columns in the first matrix should match the number of the rows in the second matrix. This is very important for your future understanding of Neural Networks and how they work. \n",
    "\n",
    "However, for multiplying of the vectors, `NumPy` has a shortcut. You can define two vectors $x$ and $y$ of the same size (which one can understand as two $3 \\times 1$ matrices). If you check the shape of the vector $x$, you can see that :"
   ]
  },
  {
   "cell_type": "code",
   "execution_count": 106,
   "id": "660f4455-d6ec-4cd7-9307-40ce2e7df6ff",
   "metadata": {
    "execution": {
     "iopub.execute_input": "2023-10-01T20:42:49.319513Z",
     "iopub.status.busy": "2023-10-01T20:42:49.318947Z",
     "iopub.status.idle": "2023-10-01T20:42:49.338600Z",
     "shell.execute_reply": "2023-10-01T20:42:49.338600Z",
     "shell.execute_reply.started": "2023-10-01T20:42:49.319513Z"
    }
   },
   "outputs": [
    {
     "name": "stdout",
     "output_type": "stream",
     "text": [
      "Shape of vector x: (3,)\n",
      "Number of dimensions of vector x: 1\n",
      "Shape of vector x, reshaped to a matrix: (3, 1)\n",
      "Number of dimensions of vector x, reshaped to a matrix: 2\n"
     ]
    }
   ],
   "source": [
    "x = np.array([1, -2, -5])\n",
    "y = np.array([4, 3, -1])\n",
    "\n",
    "print(\"Shape of vector x:\", x.shape)\n",
    "print(\"Number of dimensions of vector x:\", x.ndim)\n",
    "print(\"Shape of vector x, reshaped to a matrix:\", x.reshape((3, 1)).shape)\n",
    "print(\"Number of dimensions of vector x, reshaped to a matrix:\", x.reshape((3, 1)).ndim)"
   ]
  },
  {
   "cell_type": "markdown",
   "id": "98cba716-75e2-4a4c-bd44-427778f344e9",
   "metadata": {},
   "source": [
    "Following the matrix convention, multiplication of matrices $3 \\times 1$ and $3 \\times 1$ is not defined. For matrix multiplication you would expect an error in the following cell, but let's check the output:"
   ]
  },
  {
   "cell_type": "code",
   "execution_count": 107,
   "id": "5d47b786-2053-4415-a308-f67a9c1ffea1",
   "metadata": {
    "execution": {
     "iopub.execute_input": "2023-10-01T20:43:18.928896Z",
     "iopub.status.busy": "2023-10-01T20:43:18.928896Z",
     "iopub.status.idle": "2023-10-01T20:43:18.937007Z",
     "shell.execute_reply": "2023-10-01T20:43:18.937007Z",
     "shell.execute_reply.started": "2023-10-01T20:43:18.928896Z"
    }
   },
   "outputs": [
    {
     "data": {
      "text/plain": [
       "3"
      ]
     },
     "execution_count": 107,
     "metadata": {},
     "output_type": "execute_result"
    }
   ],
   "source": [
    "np.matmul(x,y)"
   ]
  },
  {
   "cell_type": "markdown",
   "id": "142d36f9-b8aa-47a2-bdb7-1c3ee7d55994",
   "metadata": {},
   "source": [
    "You can see that there is no error and that the result is actually a dot product $x \\cdot y\\,$! So, vector $x$ was automatically transposed into the vector $1 \\times 3$ and matrix multiplication $x^Ty$ was calculated. While this is very convenient, you need to keep in mind such functionality in Python and pay attention to not use it in a wrong way. The following cell will return an error:"
   ]
  },
  {
   "cell_type": "code",
   "execution_count": 108,
   "id": "655df09d-cc49-4c4c-b85c-9dd7609d8aa6",
   "metadata": {
    "execution": {
     "iopub.execute_input": "2023-10-01T20:43:43.569256Z",
     "iopub.status.busy": "2023-10-01T20:43:43.569256Z",
     "iopub.status.idle": "2023-10-01T20:43:43.583009Z",
     "shell.execute_reply": "2023-10-01T20:43:43.582803Z",
     "shell.execute_reply.started": "2023-10-01T20:43:43.569256Z"
    }
   },
   "outputs": [
    {
     "name": "stdout",
     "output_type": "stream",
     "text": [
      "matmul: Input operand 1 has a mismatch in its core dimension 0, with gufunc signature (n?,k),(k,m?)->(n?,m?) (size 3 is different from 1)\n"
     ]
    }
   ],
   "source": [
    "try:\n",
    "    np.matmul(x.reshape((3, 1)), y.reshape((3, 1)))\n",
    "except ValueError as err:\n",
    "    print(err)"
   ]
  },
  {
   "cell_type": "markdown",
   "id": "356c1c8c-22e2-4509-9580-bbf97a7b4bca",
   "metadata": {},
   "source": [
    "You might have a question in you mind: does `np.dot()` function also work for matrix multiplication? Let's try it:"
   ]
  },
  {
   "cell_type": "code",
   "execution_count": 109,
   "id": "3b30ccf6-2751-482d-9bcf-d7580ddfc9a5",
   "metadata": {
    "execution": {
     "iopub.execute_input": "2023-10-01T20:44:12.521107Z",
     "iopub.status.busy": "2023-10-01T20:44:12.521107Z",
     "iopub.status.idle": "2023-10-01T20:44:12.533316Z",
     "shell.execute_reply": "2023-10-01T20:44:12.533082Z",
     "shell.execute_reply.started": "2023-10-01T20:44:12.521107Z"
    }
   },
   "outputs": [
    {
     "data": {
      "text/plain": [
       "array([[ 89, 107],\n",
       "       [ 47,  49],\n",
       "       [ 40,  44]])"
      ]
     },
     "execution_count": 109,
     "metadata": {},
     "output_type": "execute_result"
    }
   ],
   "source": [
    "np.dot(A, B)"
   ]
  },
  {
   "cell_type": "markdown",
   "id": "ef388412-eb20-4b3c-b475-531748a23355",
   "metadata": {},
   "source": [
    "Yes, it works! What actually happens is what is called **broadcasting** in Python: `NumPy` broadcasts this dot product operation to all rows and all columns, you get the resultant product matrix. Broadcasting also works in other cases, for example:"
   ]
  },
  {
   "cell_type": "code",
   "execution_count": 110,
   "id": "5ea19507-9f68-4d27-91b3-5d0c0d294151",
   "metadata": {
    "execution": {
     "iopub.execute_input": "2023-10-01T20:44:33.913395Z",
     "iopub.status.busy": "2023-10-01T20:44:33.912383Z",
     "iopub.status.idle": "2023-10-01T20:44:33.921655Z",
     "shell.execute_reply": "2023-10-01T20:44:33.921655Z",
     "shell.execute_reply.started": "2023-10-01T20:44:33.913395Z"
    }
   },
   "outputs": [
    {
     "data": {
      "text/plain": [
       "array([[ 2,  7,  7],\n",
       "       [ 7, -1,  4],\n",
       "       [ 7,  0,  1]])"
      ]
     },
     "execution_count": 110,
     "metadata": {},
     "output_type": "execute_result"
    }
   ],
   "source": [
    "A - 2"
   ]
  },
  {
   "cell_type": "markdown",
   "id": "3402a4f9-8874-4d65-b544-d55c9f9adc74",
   "metadata": {},
   "source": [
    "Mathematically, subtraction of the $3 \\times 3$ matrix $A$ and a scalar is not defined, but Python broadcasts the scalar, creating a $3 \\times 3$ `np.array` and performing subtraction element by element. A practical example of matrix multiplication can be seen in a linear regression model. You will implement it in this week's assignment!"
   ]
  },
  {
   "cell_type": "code",
   "execution_count": null,
   "id": "8fae8d77-2cbc-4056-812d-98f080274e9d",
   "metadata": {},
   "outputs": [],
   "source": []
  },
  {
   "cell_type": "code",
   "execution_count": null,
   "id": "5ab8a559-3971-4219-8581-a0339a2a64c9",
   "metadata": {},
   "outputs": [],
   "source": []
  },
  {
   "cell_type": "markdown",
   "id": "37dbe4ff-8229-4444-a072-990251436411",
   "metadata": {},
   "source": [
    "# Linear Transformations"
   ]
  },
  {
   "cell_type": "markdown",
   "id": "9f95fa79-2ffb-4fa3-a4f4-fdfb46ad15e3",
   "metadata": {},
   "source": [
    "**Packages**\n",
    "\n",
    "Run the following cell to load the package you'll need."
   ]
  },
  {
   "cell_type": "code",
   "execution_count": 77,
   "id": "9bc2fd0d-6220-4544-b37f-ea7c7cf512be",
   "metadata": {
    "execution": {
     "iopub.execute_input": "2023-10-01T19:51:11.514399Z",
     "iopub.status.busy": "2023-10-01T19:51:11.514399Z",
     "iopub.status.idle": "2023-10-01T19:51:11.719530Z",
     "shell.execute_reply": "2023-10-01T19:51:11.718530Z",
     "shell.execute_reply.started": "2023-10-01T19:51:11.514399Z"
    }
   },
   "outputs": [],
   "source": [
    "import numpy as np\n",
    "# OpenCV library for image transformations.\n",
    "import cv2"
   ]
  },
  {
   "cell_type": "markdown",
   "id": "0272010b-81f4-47ce-8278-c63a52f9b431",
   "metadata": {},
   "source": [
    "## Transformations\n",
    "\n",
    "A **transformation** is a function from one vector space to another that respects the underlying (linear) structure of each vector space. Referring to a specific transformation, you can use a symbol, such as $T$. Specifying the spaces containing the input and output vectors, e.g. $\\mathbb{R}^2$ and $\\mathbb{R}^3$, you can write $T: \\mathbb{R}^2 \\rightarrow \\mathbb{R}^3$. Transforming vector $v \\in \\mathbb{R}^2$ into the vector $w\\in\\mathbb{R}^3$ by the transformation $T$, you can use the notation $T(v)=w$ and read it as \"*T of v equals to w*\" or \"*vector w is an **image** of vector v with the transformation T*\".\n",
    "\n",
    "The following Python function corresponds to the transformation $T: \\mathbb{R}^2 \\rightarrow \\mathbb{R}^3$ with the following symbolic formula:\n",
    "\n",
    "$$T\\begin{pmatrix}\n",
    "          \\begin{bmatrix}\n",
    "           v_1 \\\\           \n",
    "           v_2\n",
    "          \\end{bmatrix}\\end{pmatrix}=\n",
    "          \\begin{bmatrix}\n",
    "           3v_1 \\\\\n",
    "           0 \\\\\n",
    "           -2v_2\n",
    "          \\end{bmatrix}\n",
    "          \\tag{1}\n",
    "          $$"
   ]
  },
  {
   "cell_type": "code",
   "execution_count": 78,
   "id": "4044d0a1-5a2d-4975-a026-904618130db2",
   "metadata": {
    "execution": {
     "iopub.execute_input": "2023-10-01T19:52:55.851462Z",
     "iopub.status.busy": "2023-10-01T19:52:55.850448Z",
     "iopub.status.idle": "2023-10-01T19:52:55.870470Z",
     "shell.execute_reply": "2023-10-01T19:52:55.869988Z",
     "shell.execute_reply.started": "2023-10-01T19:52:55.851462Z"
    }
   },
   "outputs": [
    {
     "name": "stdout",
     "output_type": "stream",
     "text": [
      "Original vector:\n",
      " [[3]\n",
      " [5]] \n",
      "\n",
      " Result of the transformation:\n",
      " [[  9.]\n",
      " [  0.]\n",
      " [-10.]]\n"
     ]
    }
   ],
   "source": [
    "def T(v):\n",
    "    w = np.zeros((3,1))\n",
    "    w[0,0] = 3*v[0,0]\n",
    "    w[2,0] = -2*v[1,0]\n",
    "    \n",
    "    return w\n",
    "\n",
    "v = np.array([[3], [5]])\n",
    "w = T(v)\n",
    "\n",
    "print(\"Original vector:\\n\", v, \"\\n\\n Result of the transformation:\\n\", w)"
   ]
  },
  {
   "cell_type": "markdown",
   "id": "455edfe3-3f54-4a5f-9b3c-7322de7d82c3",
   "metadata": {},
   "source": [
    "\n",
    "## Linear Transformations\n",
    "\n",
    "A transformation $T$ is said to be **linear** if the following two properties are true for any scalar $k$, and any input vectors $u$ and $v$:\n",
    "\n",
    "1. $T(kv)=kT(v)$,\n",
    "2. $T(u+v)=T(u)+T(v)$.\n",
    "\n",
    "In the example above $T$ is a linear transformation:\n",
    "\n",
    "$$T (kv) =\n",
    "          T \\begin{pmatrix}\\begin{bmatrix}\n",
    "          kv_1 \\\\\n",
    "          kv_2\n",
    "          \\end{bmatrix}\\end{pmatrix} = \n",
    "          \\begin{bmatrix}\n",
    "           3kv_1 \\\\\n",
    "           0 \\\\\n",
    "           -2kv_2\n",
    "          \\end{bmatrix} =\n",
    "          k\\begin{bmatrix}\n",
    "           3v_1 \\\\\n",
    "           0 \\\\\n",
    "           -2v_2\n",
    "          \\end{bmatrix} = \n",
    "          kT(v),\\tag{2}$$\n",
    "          \n",
    "$$T (u+v) =\n",
    "          T \\begin{pmatrix}\\begin{bmatrix}\n",
    "          u_1 + v_1 \\\\\n",
    "          u_2 + v_2\n",
    "          \\end{bmatrix}\\end{pmatrix} = \n",
    "          \\begin{bmatrix}\n",
    "           3(u_1+v_1) \\\\\n",
    "           0 \\\\\n",
    "           -2(u_2+v_2)\n",
    "          \\end{bmatrix} = \n",
    "          \\begin{bmatrix}\n",
    "           3u_1 \\\\\n",
    "           0 \\\\\n",
    "           -2u_2\n",
    "          \\end{bmatrix} +\n",
    "          \\begin{bmatrix}\n",
    "           3v_1 \\\\\n",
    "           0 \\\\\n",
    "           -2v_2\n",
    "          \\end{bmatrix} = \n",
    "          T(u)+T(v).\\tag{3}$$"
   ]
  },
  {
   "cell_type": "markdown",
   "id": "5e32fcac-551d-44f9-97ed-1aba7d2cc093",
   "metadata": {},
   "source": [
    "You can change the values of $k$ or vectors $u$ and $v$ in the cell below, to check that this is true for some specific values."
   ]
  },
  {
   "cell_type": "code",
   "execution_count": 79,
   "id": "6a43767f-8f81-4f36-ac6e-8bb87d1b4806",
   "metadata": {
    "execution": {
     "iopub.execute_input": "2023-10-01T19:55:00.533004Z",
     "iopub.status.busy": "2023-10-01T19:55:00.532502Z",
     "iopub.status.idle": "2023-10-01T19:55:00.553114Z",
     "shell.execute_reply": "2023-10-01T19:55:00.552614Z",
     "shell.execute_reply.started": "2023-10-01T19:55:00.533004Z"
    }
   },
   "outputs": [
    {
     "name": "stdout",
     "output_type": "stream",
     "text": [
      "T(k*v):\n",
      " [[ 42.]\n",
      " [  0.]\n",
      " [-56.]] \n",
      " k*T(v):\n",
      " [[ 42.]\n",
      " [  0.]\n",
      " [-56.]] \n",
      "\n",
      "\n",
      "T(u+v):\n",
      " [[ 9.]\n",
      " [ 0.]\n",
      " [-4.]] \n",
      " T(u)+T(v):\n",
      " [[ 9.]\n",
      " [ 0.]\n",
      " [-4.]]\n"
     ]
    }
   ],
   "source": [
    "u = np.array([[1], [-2]])\n",
    "v = np.array([[2], [4]])\n",
    "\n",
    "k = 7\n",
    "\n",
    "print(\"T(k*v):\\n\", T(k*v), \"\\n k*T(v):\\n\", k*T(v), \"\\n\\n\")\n",
    "print(\"T(u+v):\\n\", T(u+v), \"\\n T(u)+T(v):\\n\", T(u)+T(v))"
   ]
  },
  {
   "cell_type": "markdown",
   "id": "259f38a7-6f19-460c-b7cb-964063289149",
   "metadata": {},
   "source": [
    "Some examples of linear transformations are rotations, reflections, scaling (dilations), etc. In this lab you will explore a few of them."
   ]
  },
  {
   "cell_type": "markdown",
   "id": "7dec7950-174e-424e-8711-99453fea0b26",
   "metadata": {},
   "source": [
    "## Transformations Defined as a Matrix Multiplication\n",
    "\n",
    "Let $L: \\mathbb{R}^m \\rightarrow \\mathbb{R}^n$ be defined by a matrix $A$, where $L(v)=Av$, multiplication of the matrix $A$ ($n\\times m$) and vector $v$ ($m\\times 1$) resulting in the vector $w$ ($n\\times 1$).\n",
    "\n",
    "Now try to guess, what should be the elements of matrix $A$, corresponding to the transformation $L: \\mathbb{R}^2 \\rightarrow \\mathbb{R}^3$:\n",
    "\n",
    "$$L\\begin{pmatrix}\n",
    "          \\begin{bmatrix}\n",
    "           v_1 \\\\           \n",
    "           v_2\n",
    "          \\end{bmatrix}\\end{pmatrix}=\n",
    "          \\begin{bmatrix}\n",
    "           3v_1 \\\\\n",
    "           0 \\\\\n",
    "           -2v_2\n",
    "          \\end{bmatrix}=\n",
    "          \\begin{bmatrix}\n",
    "           ? & ? \\\\\n",
    "           ? & ? \\\\\n",
    "           ? & ?\n",
    "          \\end{bmatrix}\n",
    "          \\begin{bmatrix}\n",
    "           v_1 \\\\\n",
    "           v_2\n",
    "          \\end{bmatrix}\n",
    "          \\tag{4}\n",
    "          $$\n",
    "\n",
    "To do that, write the transformation $L$ as $Av$ and then perform matrix multiplication:\n",
    "    $$L\\begin{pmatrix}\n",
    "          \\begin{bmatrix}\n",
    "           v_1 \\\\           \n",
    "           v_2\n",
    "          \\end{bmatrix}\\end{pmatrix}=\n",
    "          A\\begin{bmatrix}\n",
    "           v_1 \\\\           \n",
    "           v_2\n",
    "          \\end{bmatrix}=\n",
    "          \\begin{bmatrix}\n",
    "           a_{1,1} & a_{1,2} \\\\\n",
    "           a_{2,1} & a_{2,2} \\\\\n",
    "           a_{3,1} & a_{3,2}\n",
    "          \\end{bmatrix}\n",
    "          \\begin{bmatrix}\n",
    "           v_1 \\\\           \n",
    "           v_2\n",
    "          \\end{bmatrix}=\n",
    "          \\begin{bmatrix}\n",
    "           a_{1,1}v_1+a_{1,2}v_2 \\\\\n",
    "           a_{2,1}v_1+a_{2,2}v_2 \\\\\n",
    "           a_{3,1}v_1+a_{3,2}v_2 \\\\\n",
    "          \\end{bmatrix}=\n",
    "          \\begin{bmatrix}\n",
    "           3v_1 \\\\\n",
    "           0 \\\\\n",
    "           -2v_2\n",
    "          \\end{bmatrix}\\tag{5}\n",
    "          $$\n",
    "          \n",
    "Can you see now what should be the values of the elements $a_{i,j}$ of matrix $A$ to make the equalities $(5)$ correct? Find out the answer in the following code cell:"
   ]
  },
  {
   "cell_type": "code",
   "execution_count": 80,
   "id": "0c26fea7-4888-45d5-98d9-3d6cd2f96920",
   "metadata": {
    "execution": {
     "iopub.execute_input": "2023-10-01T19:56:34.792962Z",
     "iopub.status.busy": "2023-10-01T19:56:34.791962Z",
     "iopub.status.idle": "2023-10-01T19:56:34.804182Z",
     "shell.execute_reply": "2023-10-01T19:56:34.802652Z",
     "shell.execute_reply.started": "2023-10-01T19:56:34.792962Z"
    }
   },
   "outputs": [
    {
     "name": "stdout",
     "output_type": "stream",
     "text": [
      "Transformation matrix:\n",
      " [[ 3  0]\n",
      " [ 0  0]\n",
      " [ 0 -2]] \n",
      "\n",
      "Original vector:\n",
      " [[3]\n",
      " [5]] \n",
      "\n",
      " Result of the transformation:\n",
      " [[  9]\n",
      " [  0]\n",
      " [-10]]\n"
     ]
    }
   ],
   "source": [
    "def L(v):\n",
    "    A = np.array([[3,0], [0,0], [0,-2]])\n",
    "    print(\"Transformation matrix:\\n\", A, \"\\n\")\n",
    "    w = A @ v\n",
    "    \n",
    "    return w\n",
    "\n",
    "v = np.array([[3], [5]])\n",
    "w = L(v)\n",
    "\n",
    "print(\"Original vector:\\n\", v, \"\\n\\n Result of the transformation:\\n\", w)"
   ]
  },
  {
   "cell_type": "markdown",
   "id": "0d6dce9a-1b16-4caf-bea5-9ad1fcdfbf81",
   "metadata": {},
   "source": [
    "Every linear transformation can be carried out by matrix multiplication. And vice versa, carrying out matrix multiplication, it is natural to consider the linear transformation that it represents. It means you can associate the matrix with the linear transformation in some way. This is a key connection between linear transformations and matrix algebra."
   ]
  },
  {
   "cell_type": "markdown",
   "id": "06b0586a-eca4-4686-80e8-97c1bddddcec",
   "metadata": {},
   "source": [
    "\n",
    "## Standard Transformations in a Plane\n",
    "\n",
    "As discussed above in section [3](#3), a linear transformation $L: \\mathbb{R}^2 \\rightarrow \\mathbb{R}^2$ can be represented as a multiplication of a $2 \\times 2$ matrix and a coordinate vector $v\\in\\mathbb{R}^2.$ Note that so far you have been using some random vector $v\\in\\mathbb{R}^2.$ (e.g. $v=\\begin{bmatrix}3 \\\\ 5\\end{bmatrix}$). To have a better intuition of what the transformation is really doing in the $\\mathbb{R}^2$ space, it is wise to choose vector $v$ in a less random way. \n",
    "\n",
    "A good choice would be vectors of a standard basis $e_1=\\begin{bmatrix}1 \\\\ 0\\end{bmatrix}$ and $e_2=\\begin{bmatrix}0 \\\\ 1\\end{bmatrix}$. Let's apply linear transformation $L$ to each of the vectors $e_1$ and $e_2$: $L(e_1)=Ae_1$ and $L(e_2)=Ae_2$. If you put vectors $\\{e_1, e_2\\}$ into columns of a matrix and perform matrix multiplication\n",
    "\n",
    "$$A\\begin{bmatrix}e_1 & e_2\\end{bmatrix}=\\begin{bmatrix}Ae_1 & Ae_2\\end{bmatrix}=\\begin{bmatrix}L(e_1) & L(e_2)\\end{bmatrix},\\tag{3}$$\n",
    "\n",
    "you can note that $\\begin{bmatrix}e_1 & e_2\\end{bmatrix}=\\begin{bmatrix}1 & 0 \\\\ 0 & 1\\end{bmatrix}$ (identity matrix). Thus, $A\\begin{bmatrix}e_1 & e_2\\end{bmatrix} = AI=A$, and\n",
    "\n",
    "$$A=\\begin{bmatrix}L(e_1) & L(e_2)\\end{bmatrix}.\\tag{4}$$\n",
    "\n",
    "This is a matrix with the columns that are the images of the vectors of the standard basis. \n",
    "\n",
    "This choice of vectors \\{$e_1, e_2$\\} provides opportinuty for the visual representation of the linear transformation $L$ (you will see the examples below)."
   ]
  },
  {
   "cell_type": "markdown",
   "id": "ae4ed495-33ad-481e-8dbe-331062328a21",
   "metadata": {},
   "source": [
    "### Example 1: Horizontal Scaling (Dilation)"
   ]
  },
  {
   "cell_type": "markdown",
   "id": "e57a949f-7ab3-4056-bf01-4fbe938d615c",
   "metadata": {},
   "source": [
    "Horizontal scaling (factor $2$ in this example) can be defined considering transformation of a vector $e_1=\\begin{bmatrix}1 \\\\ 0\\end{bmatrix}$ into a vector $\\begin{bmatrix}2 \\\\ 0\\end{bmatrix}$ and leaving vector $e_2=\\begin{bmatrix}0 \\\\ 1\\end{bmatrix}$ without any changes. The following function `T_hscaling()` corresponds to the horizontal scaling (factor $2$) of a vector. The second function `transform_vectors()` applies defined transformation to a set of vectors (here two vectors)."
   ]
  },
  {
   "cell_type": "code",
   "execution_count": 83,
   "id": "eb1dfae3-a953-4f5b-b3c8-2803b8153ee2",
   "metadata": {
    "execution": {
     "iopub.execute_input": "2023-10-01T20:00:14.441958Z",
     "iopub.status.busy": "2023-10-01T20:00:14.440944Z",
     "iopub.status.idle": "2023-10-01T20:00:14.461056Z",
     "shell.execute_reply": "2023-10-01T20:00:14.461056Z",
     "shell.execute_reply.started": "2023-10-01T20:00:14.441958Z"
    }
   },
   "outputs": [
    {
     "name": "stdout",
     "output_type": "stream",
     "text": [
      "Original vectors:\n",
      " e1= \n",
      " [[1]\n",
      " [0]] \n",
      " e2=\n",
      " [[0]\n",
      " [1]] \n",
      "\n",
      " Result of the transformation (matrix form):\n",
      " [[2 0]\n",
      " [0 1]]\n"
     ]
    }
   ],
   "source": [
    "def T_hscaling(v):\n",
    "    A = np.array([[2,0], [0,1]])\n",
    "    w = A @ v\n",
    "    \n",
    "    return w\n",
    "    \n",
    "    \n",
    "def transform_vectors(T, v1, v2):\n",
    "    V = np.hstack((v1.reshape(2,1), v2.reshape(2,1)))\n",
    "    W = T(V)\n",
    "    \n",
    "    return W\n",
    "    \n",
    "e1 = np.array([[1], [0]])\n",
    "e2 = np.array([[0], [1]])\n",
    "\n",
    "transformation_result_hscaling = transform_vectors(T_hscaling, e1, e2)\n",
    "\n",
    "print(\"Original vectors:\\n e1= \\n\", e1, \"\\n e2=\\n\", e2, \n",
    "      \"\\n\\n Result of the transformation (matrix form):\\n\", transformation_result_hscaling)"
   ]
  },
  {
   "cell_type": "markdown",
   "id": "adcda9fa-c745-4ac3-ada2-d092d11caf0f",
   "metadata": {},
   "source": [
    "You can get a visual understanding of the transformation, producing a plot which displays input vectors, and their transformations. Do not worry if the code in the following cell will not be clear - at this stage this is not important code to understand."
   ]
  },
  {
   "cell_type": "code",
   "execution_count": 123,
   "id": "88d15450-810f-4454-9eee-9715aebf4bed",
   "metadata": {
    "execution": {
     "iopub.execute_input": "2023-10-01T20:53:25.513439Z",
     "iopub.status.busy": "2023-10-01T20:53:25.512477Z",
     "iopub.status.idle": "2023-10-01T20:53:25.670583Z",
     "shell.execute_reply": "2023-10-01T20:53:25.669583Z",
     "shell.execute_reply.started": "2023-10-01T20:53:25.513439Z"
    }
   },
   "outputs": [
    {
     "data": {
      "image/png": "[encoded data removed]",
      "text/plain": [
       "<Figure size 700x700 with 1 Axes>"
      ]
     },
     "metadata": {},
     "output_type": "display_data"
    }
   ],
   "source": [
    "import matplotlib.pyplot as plt\n",
    "\n",
    "def plot_transformation(T, e1, e2):\n",
    "    color_original = \"#129cab\"\n",
    "    color_transformed = \"#cc8933\"\n",
    "    \n",
    "    _, ax = plt.subplots(figsize=(7, 7))\n",
    "    ax.tick_params(axis='x', labelsize=14)\n",
    "    ax.tick_params(axis='y', labelsize=14)\n",
    "    ax.set_xticks(np.arange(-5, 5))\n",
    "    ax.set_yticks(np.arange(-5, 5))\n",
    "    \n",
    "    plt.axis([-5, 5, -5, 5])\n",
    "    plt.quiver([0, 0],[0, 0], [e1[0], e2[0]], [e1[1], e2[1]], color=color_original, angles='xy', scale_units='xy', scale=1)\n",
    "    plt.plot([[0], e2[0], e1[0], e1[0]], \n",
    "             [[0], e2[1], e2[1], e1[1]], \n",
    "             color=color_original\n",
    "            )\n",
    "    e1_sgn = 0.4 * np.array([[1] if [i]==0 else [i] for i in np.sign(e1)])\n",
    "    ax.text(e1[0]-0.2+e1_sgn[0], e1[1]-0.2+e1_sgn[1], f'$e_1$', fontsize=14, color=color_original)\n",
    "    e2_sgn = 0.4 * np.array([[1] if [i]==0 else [i] for i in np.sign(e2)])\n",
    "    ax.text(e2[0]-0.2+e2_sgn[0], e2[1]-0.2+e2_sgn[1], f'$e_2$', fontsize=14, color=color_original)\n",
    "    \n",
    "    e1_transformed = T(e1)\n",
    "    e2_transformed = T(e2)\n",
    "    \n",
    "    plt.quiver([0, 0],[0, 0], [e1_transformed[0], e2_transformed[0]], [e1_transformed[1], e2_transformed[1]], \n",
    "               color=color_transformed, angles='xy', scale_units='xy', scale=1)\n",
    "    plt.plot([[0],e2_transformed[0], e1_transformed[0]+e2_transformed[0], e1_transformed[0]], \n",
    "             [[0],e2_transformed[1], e1_transformed[1]+e2_transformed[1], e1_transformed[1]], \n",
    "             color=color_transformed)\n",
    "    e1_transformed_sgn = 0.4 * np.array([[1] if [i]==0 else [i] for i in np.sign(e1_transformed)])\n",
    "    ax.text(e1_transformed[0]-0.2+e1_transformed_sgn[0], e1_transformed[1]-e1_transformed_sgn[1], \n",
    "            f'$T(e_1)$', fontsize=14, color=color_transformed)\n",
    "    e2_transformed_sgn = 0.4 * np.array([[1] if [i]==0 else [i] for i in np.sign(e2_transformed)])\n",
    "    ax.text(e2_transformed[0]-0.2+e2_transformed_sgn[0], e2_transformed[1]-e2_transformed_sgn[1], \n",
    "            f'$T(e_2)$', fontsize=14, color=color_transformed)\n",
    "    \n",
    "    plt.gca().set_aspect(\"equal\")\n",
    "    plt.show()\n",
    "    \n",
    "plot_transformation(T_hscaling, e1, e2)"
   ]
  },
  {
   "cell_type": "markdown",
   "id": "e3fe48e0-ce2a-4bb5-a20a-9e4500c58264",
   "metadata": {},
   "source": [
    "You can observe that the polygon has been stretched in the horizontal direction as a result of the transformation."
   ]
  },
  {
   "cell_type": "markdown",
   "id": "48a41843-b59b-416a-becd-43b409b14f66",
   "metadata": {},
   "source": [
    "### Example 2: Reflection about y-axis (the vertical axis)"
   ]
  },
  {
   "cell_type": "markdown",
   "id": "97847df7-5609-4214-8996-ddaa1d2ee68a",
   "metadata": {},
   "source": [
    "Function `T_reflection_yaxis()` defined below corresponds to the reflection about y-axis:"
   ]
  },
  {
   "cell_type": "code",
   "execution_count": 124,
   "id": "674b5a5a-1e94-49ac-be94-b79b61f0ffb6",
   "metadata": {
    "execution": {
     "iopub.execute_input": "2023-10-01T20:55:55.832967Z",
     "iopub.status.busy": "2023-10-01T20:55:55.831925Z",
     "iopub.status.idle": "2023-10-01T20:55:55.850819Z",
     "shell.execute_reply": "2023-10-01T20:55:55.850106Z",
     "shell.execute_reply.started": "2023-10-01T20:55:55.832967Z"
    }
   },
   "outputs": [
    {
     "name": "stdout",
     "output_type": "stream",
     "text": [
      "Original vectors:\n",
      " e1= \n",
      " [[1]\n",
      " [0]] \n",
      " e2=\n",
      " [[0]\n",
      " [1]] \n",
      "\n",
      " Result of the transformation (matrix form):\n",
      " [[-1  0]\n",
      " [ 0  1]]\n"
     ]
    }
   ],
   "source": [
    "def T_reflection_yaxis(v):\n",
    "    A = np.array([[-1,0], [0,1]])\n",
    "    w = A @ v\n",
    "    \n",
    "    return w\n",
    "    \n",
    "e1 = np.array([[1], [0]])\n",
    "e2 = np.array([[0], [1]])\n",
    "\n",
    "transformation_result_reflection_yaxis = transform_vectors(T_reflection_yaxis, e1, e2)\n",
    "\n",
    "print(\"Original vectors:\\n e1= \\n\", e1,\"\\n e2=\\n\", e2, \n",
    "      \"\\n\\n Result of the transformation (matrix form):\\n\", transformation_result_reflection_yaxis)"
   ]
  },
  {
   "cell_type": "markdown",
   "id": "989ee44e-ead3-4d8b-95dd-55616a4d29d4",
   "metadata": {},
   "source": [
    "You can visualize this transformation:"
   ]
  },
  {
   "cell_type": "code",
   "execution_count": 125,
   "id": "e18785ac-d051-4743-899a-458751272cd9",
   "metadata": {
    "execution": {
     "iopub.execute_input": "2023-10-01T20:56:23.472014Z",
     "iopub.status.busy": "2023-10-01T20:56:23.471014Z",
     "iopub.status.idle": "2023-10-01T20:56:23.621807Z",
     "shell.execute_reply": "2023-10-01T20:56:23.621306Z",
     "shell.execute_reply.started": "2023-10-01T20:56:23.472014Z"
    }
   },
   "outputs": [
    {
     "data": {
      "image/png": "[encoded data removed]",
      "text/plain": [
       "<Figure size 700x700 with 1 Axes>"
      ]
     },
     "metadata": {},
     "output_type": "display_data"
    }
   ],
   "source": [
    "plot_transformation(T_reflection_yaxis, e1, e2)"
   ]
  },
  {
   "cell_type": "markdown",
   "id": "e8795032-005a-4040-8323-abceef16e34e",
   "metadata": {},
   "source": [
    "There are many more standard linear transformations to explore. But now you have the required tools to apply them and visualize the results."
   ]
  },
  {
   "cell_type": "markdown",
   "id": "fc480034-6fe6-481d-a808-61bb0f511816",
   "metadata": {},
   "source": [
    "## Application of Linear Transformations: Computer Graphics"
   ]
  },
  {
   "cell_type": "markdown",
   "id": "5b9a4a72-8439-469b-9ed4-3ae4c77647f3",
   "metadata": {},
   "source": [
    "A large number of basic geometric shapes is used in computer graphics. Such shapes (e.g. triangles, quadrilaterals) are defined by their vertexes (corners). Linear transformations are often used to generate complex shapes from the basic ones, though scaling, reflection, rotation, shearing etc. It provides opportunity to manipulate those shapes efficiently. \n",
    "\n",
    "The software responsible for rendering of a graphics, has to process the coordinates of millions of vertexes. The use of matrix multiplication to manipulate coordinates helps to merge multiple transformations together, just applying matrix multiplication one by one in a sequence. And another advantage is that the dedicated hardware, such as Graphics Processing Units (GPUs), is designed specifically to handle these calculations in large numbers with high speed.\n",
    "\n",
    "So, matrix multiplication and linear transformations give you a super power, especially on scale!\n",
    "\n",
    "Here is an example where linear transformations could have helped to reduce the amount of work preparing the image:\n",
    "\n",
    "\n",
    "<img src = \"barnsley_fern.png\" width=\"200\" align=\"center\"/>\n",
    "\n",
    "\n",
    "All of the subleafs are similar and can be prepared as just linear transformations of one original leaf.\n",
    "\n",
    "Let's see a simple example of two transformations applied to a leaf image. For the image transformations you can use an `OpenCV` library. First, upload and show the image:"
   ]
  },
  {
   "cell_type": "markdown",
   "id": "2785d1ab-76f0-4530-93ce-e47e4c61f7ff",
   "metadata": {},
   "source": [
    "<img src = \"leaf_original.png\" width=\"200\" align=\"center\"/>"
   ]
  },
  {
   "cell_type": "code",
   "execution_count": 126,
   "id": "2492b849-5fe8-42f5-aee9-25d72fd4a963",
   "metadata": {
    "execution": {
     "iopub.execute_input": "2023-10-01T20:57:44.707267Z",
     "iopub.status.busy": "2023-10-01T20:57:44.707267Z",
     "iopub.status.idle": "2023-10-01T20:57:45.220683Z",
     "shell.execute_reply": "2023-10-01T20:57:45.219738Z",
     "shell.execute_reply.started": "2023-10-01T20:57:44.707267Z"
    }
   },
   "outputs": [
    {
     "data": {
      "text/plain": [
       "<matplotlib.image.AxesImage at 0x1a473f466d0>"
      ]
     },
     "execution_count": 126,
     "metadata": {},
     "output_type": "execute_result"
    },
    {
     "data": {
      "image/png": "[encoded data removed]",
      "text/plain": [
       "<Figure size 640x480 with 1 Axes>"
      ]
     },
     "metadata": {},
     "output_type": "display_data"
    }
   ],
   "source": [
    "img = cv2.imread('leaf_original.png', 0)\n",
    "plt.imshow(img)"
   ]
  },
  {
   "cell_type": "markdown",
   "id": "da508a13-f896-4e36-b8f4-c58a7b81924f",
   "metadata": {
    "execution": {
     "iopub.execute_input": "2023-10-01T20:59:17.142071Z",
     "iopub.status.busy": "2023-10-01T20:59:17.142071Z",
     "iopub.status.idle": "2023-10-01T20:59:17.163338Z",
     "shell.execute_reply": "2023-10-01T20:59:17.162406Z",
     "shell.execute_reply.started": "2023-10-01T20:59:17.142071Z"
    }
   },
   "source": [
    "Of course, this is just a very simple leaf image (not a real example in preparation of the proper art work), but it will help you to get the idea how a few transformations can be applied in a row. Try to rotate the image 90 degrees clockwise and then apply a shear transformation, which can be visualized as:\n",
    "\n",
    "<img src = \"shear_transformation.png\" width=\"400\" align=\"center\"/>\n",
    "\n",
    "Rotate the image:"
   ]
  },
  {
   "cell_type": "code",
   "execution_count": 128,
   "id": "07f6165c-e0ce-4105-9e6d-3a74be7ab114",
   "metadata": {
    "execution": {
     "iopub.execute_input": "2023-10-01T20:59:44.511527Z",
     "iopub.status.busy": "2023-10-01T20:59:44.511527Z",
     "iopub.status.idle": "2023-10-01T20:59:44.959247Z",
     "shell.execute_reply": "2023-10-01T20:59:44.957874Z",
     "shell.execute_reply.started": "2023-10-01T20:59:44.511527Z"
    }
   },
   "outputs": [
    {
     "data": {
      "text/plain": [
       "<matplotlib.image.AxesImage at 0x1a470e42790>"
      ]
     },
     "execution_count": 128,
     "metadata": {},
     "output_type": "execute_result"
    },
    {
     "data": {
      "image/png": "[encoded data removed]",
      "text/plain": [
       "<Figure size 640x480 with 1 Axes>"
      ]
     },
     "metadata": {},
     "output_type": "display_data"
    }
   ],
   "source": [
    "image_rotated = cv2.rotate(img, cv2.ROTATE_90_CLOCKWISE)\n",
    "\n",
    "plt.imshow(image_rotated)"
   ]
  },
  {
   "cell_type": "markdown",
   "id": "59b9afb1-01b1-4ba5-8d33-bbfd5747dd37",
   "metadata": {},
   "source": [
    "Applying the shear you will get the following output:"
   ]
  },
  {
   "cell_type": "code",
   "execution_count": 129,
   "id": "a5083ec4-a913-452b-b9d8-ce9cf5c0a481",
   "metadata": {
    "execution": {
     "iopub.execute_input": "2023-10-01T21:00:29.299380Z",
     "iopub.status.busy": "2023-10-01T21:00:29.297643Z",
     "iopub.status.idle": "2023-10-01T21:00:29.801574Z",
     "shell.execute_reply": "2023-10-01T21:00:29.798973Z",
     "shell.execute_reply.started": "2023-10-01T21:00:29.299380Z"
    }
   },
   "outputs": [
    {
     "data": {
      "text/plain": [
       "<matplotlib.image.AxesImage at 0x1a474b2ce80>"
      ]
     },
     "execution_count": 129,
     "metadata": {},
     "output_type": "execute_result"
    },
    {
     "data": {
      "image/png": "[encoded data removed]",
      "text/plain": [
       "<Figure size 640x480 with 1 Axes>"
      ]
     },
     "metadata": {},
     "output_type": "display_data"
    }
   ],
   "source": [
    "rows,cols = image_rotated.shape\n",
    "# 3 by 3 matrix as it is required for the OpenCV library, don't worry about the details of it for now.\n",
    "M = np.float32([[1, 0.5, 0], [0, 1, 0], [0, 0, 1]])\n",
    "image_rotated_sheared = cv2.warpPerspective(image_rotated, M, (int(cols), int(rows)))\n",
    "plt.imshow(image_rotated_sheared)"
   ]
  },
  {
   "cell_type": "markdown",
   "id": "6cc8a069-1eb2-4394-81e4-50ceffd2ade2",
   "metadata": {},
   "source": [
    "What if you will apply those two transformations in the opposite order? Do you think the result will be the same? Run the following code to check that:"
   ]
  },
  {
   "cell_type": "code",
   "execution_count": 130,
   "id": "bf0e3867-712a-420a-90e5-f1fe501cda3f",
   "metadata": {
    "execution": {
     "iopub.execute_input": "2023-10-01T21:00:51.275595Z",
     "iopub.status.busy": "2023-10-01T21:00:51.275595Z",
     "iopub.status.idle": "2023-10-01T21:00:51.622965Z",
     "shell.execute_reply": "2023-10-01T21:00:51.622465Z",
     "shell.execute_reply.started": "2023-10-01T21:00:51.275595Z"
    }
   },
   "outputs": [
    {
     "data": {
      "text/plain": [
       "<matplotlib.image.AxesImage at 0x1a474b406a0>"
      ]
     },
     "execution_count": 130,
     "metadata": {},
     "output_type": "execute_result"
    },
    {
     "data": {
      "image/png": "[encoded data removed]",
      "text/plain": [
       "<Figure size 640x480 with 1 Axes>"
      ]
     },
     "metadata": {},
     "output_type": "display_data"
    }
   ],
   "source": [
    "image_sheared = cv2.warpPerspective(img, M, (int(cols), int(rows)))\n",
    "image_sheared_rotated = cv2.rotate(image_sheared, cv2.ROTATE_90_CLOCKWISE)\n",
    "plt.imshow(image_sheared_rotated)"
   ]
  },
  {
   "cell_type": "markdown",
   "id": "ede4d110-610b-4be1-a9d7-7155c919d042",
   "metadata": {},
   "source": [
    "Comparing last two images, you can clearly see that the outputs are different. This is because linear transformation can be defined as a matrix multiplication. Then, applying two transformations in a row, e.g. with matrices $A$ and $B$, you perform multiplications $B(Av)=(BA)v$, where $v$ is a vector. And remember, that generally you cannot change the order in the matrix multiplication (most of the time $BA\\neq AB$). Let's check that! Define two matrices, corresponding to the rotation and shear transformations:"
   ]
  },
  {
   "cell_type": "code",
   "execution_count": 131,
   "id": "ced0ccbe-fedf-4a85-bcfc-a4447a588dc8",
   "metadata": {
    "execution": {
     "iopub.execute_input": "2023-10-01T21:01:29.472740Z",
     "iopub.status.busy": "2023-10-01T21:01:29.472740Z",
     "iopub.status.idle": "2023-10-01T21:01:29.484274Z",
     "shell.execute_reply": "2023-10-01T21:01:29.483274Z",
     "shell.execute_reply.started": "2023-10-01T21:01:29.472740Z"
    }
   },
   "outputs": [
    {
     "name": "stdout",
     "output_type": "stream",
     "text": [
      "90 degrees clockwise rotation matrix:\n",
      " [[ 0  1]\n",
      " [-1  0]]\n",
      "Matrix for the shear along x-axis:\n",
      " [[1.  0.5]\n",
      " [0.  1. ]]\n"
     ]
    }
   ],
   "source": [
    "M_rotation_90_clockwise = np.array([[0, 1], [-1, 0]])\n",
    "M_shear_x = np.array([[1, 0.5], [0, 1]])\n",
    "\n",
    "print(\"90 degrees clockwise rotation matrix:\\n\", M_rotation_90_clockwise)\n",
    "print(\"Matrix for the shear along x-axis:\\n\", M_shear_x)"
   ]
  },
  {
   "cell_type": "markdown",
   "id": "34571743-d46d-4bcd-8e79-d0feeca81281",
   "metadata": {},
   "source": [
    "Now check that the results of their multiplications `M_rotation_90_clockwise @ M_shear_x` and `M_shear_x @ M_rotation_90_clockwise` are different:"
   ]
  },
  {
   "cell_type": "code",
   "execution_count": 132,
   "id": "b73bfe81-0454-48a2-85c4-25fc95921e06",
   "metadata": {
    "execution": {
     "iopub.execute_input": "2023-10-01T21:01:50.064527Z",
     "iopub.status.busy": "2023-10-01T21:01:50.064527Z",
     "iopub.status.idle": "2023-10-01T21:01:50.075685Z",
     "shell.execute_reply": "2023-10-01T21:01:50.075535Z",
     "shell.execute_reply.started": "2023-10-01T21:01:50.064527Z"
    }
   },
   "outputs": [
    {
     "name": "stdout",
     "output_type": "stream",
     "text": [
      "M_rotation_90_clockwise by M_shear_x:\n",
      " [[ 0.   1. ]\n",
      " [-1.  -0.5]]\n",
      "M_shear_x by M_rotation_90_clockwise:\n",
      " [[-0.5  1. ]\n",
      " [-1.   0. ]]\n"
     ]
    }
   ],
   "source": [
    "print(\"M_rotation_90_clockwise by M_shear_x:\\n\", M_rotation_90_clockwise @ M_shear_x)\n",
    "print(\"M_shear_x by M_rotation_90_clockwise:\\n\", M_shear_x @ M_rotation_90_clockwise)"
   ]
  },
  {
   "cell_type": "markdown",
   "id": "2b3225da-312d-4616-99d1-51707cc736cd",
   "metadata": {},
   "source": [
    "This simple example shows that you need to be aware of the mathematical objects and their properties in the applications."
   ]
  },
  {
   "cell_type": "code",
   "execution_count": null,
   "id": "314984da-0aa2-4719-a805-7ed47642cb3f",
   "metadata": {},
   "outputs": [],
   "source": []
  },
  {
   "cell_type": "code",
   "execution_count": 137,
   "id": "9e63eb29-1a82-4a61-8319-b1326474e2f4",
   "metadata": {
    "execution": {
     "iopub.execute_input": "2023-10-01T21:12:39.407237Z",
     "iopub.status.busy": "2023-10-01T21:12:39.406737Z",
     "iopub.status.idle": "2023-10-01T21:12:39.434357Z",
     "shell.execute_reply": "2023-10-01T21:12:39.433117Z",
     "shell.execute_reply.started": "2023-10-01T21:12:39.407237Z"
    }
   },
   "outputs": [],
   "source": [
    "import numpy as np\n",
    "import matplotlib.pyplot as plt\n",
    "# A function to create a dataset.\n",
    "from sklearn.datasets import make_regression\n",
    "# A library for data manipulation and analysis.\n",
    "import pandas as pd\n",
    "# Some functions defined specifically for this notebook.\n",
    "import w3_tools\n",
    "\n",
    "# Output of plotting commands is displayed inline within the Jupyter notebook.\n",
    "%matplotlib inline \n",
    "\n",
    "# Set a seed so that the results are consistent.\n",
    "np.random.seed(3) "
   ]
  },
  {
   "cell_type": "code",
   "execution_count": 138,
   "id": "81fbc639-874c-4ac0-a83c-f59124f272ca",
   "metadata": {
    "execution": {
     "iopub.execute_input": "2023-10-01T21:13:30.378826Z",
     "iopub.status.busy": "2023-10-01T21:13:30.378826Z",
     "iopub.status.idle": "2023-10-01T21:13:30.388411Z",
     "shell.execute_reply": "2023-10-01T21:13:30.387231Z",
     "shell.execute_reply.started": "2023-10-01T21:13:30.378826Z"
    }
   },
   "outputs": [],
   "source": [
    "#-------- w3_tools --------\n",
    "\n",
    "import numpy as np\n",
    "\n",
    "def backward_propagation(A, X, Y):\n",
    "    \"\"\"\n",
    "    Implements the backward propagation, calculating gradients\n",
    "    \n",
    "    Arguments:\n",
    "    parameters -- python dictionary containing our parameters \n",
    "    A -- the output of the neural network of shape (1, number of examples)\n",
    "    X -- input data of shape (n_x, number of examples)\n",
    "    Y -- \"true\" labels vector of shape (n_y, number of examples)\n",
    "    \n",
    "    Returns:\n",
    "    grads -- python dictionary containing gradients with respect to different parameters\n",
    "    \"\"\"\n",
    "    m = X.shape[1]\n",
    "    \n",
    "    # Backward propagation: calculate dW, db.\n",
    "    dZ = A - Y\n",
    "    dW = 1/m * np.matmul(dZ, X.T)\n",
    "    db = 1/m * np.sum(dZ, axis = 1, keepdims = True)\n",
    "    \n",
    "    grads = {\"dW\": dW,\n",
    "             \"db\": db}\n",
    "    \n",
    "    return grads\n",
    "\n",
    "def update_parameters(parameters, grads, learning_rate = 1.2):\n",
    "    \"\"\"\n",
    "    Updates parameters using the gradient descent update rule\n",
    "    \n",
    "    Arguments:\n",
    "    parameters -- python dictionary containing parameters \n",
    "    grads -- python dictionary containing gradients \n",
    "    \n",
    "    Returns:\n",
    "    parameters -- python dictionary containing updated parameters \n",
    "    \"\"\"\n",
    "    # Retrieve each parameter from the dictionary \"parameters\".\n",
    "    W = parameters[\"W\"]\n",
    "    b = parameters[\"b\"]\n",
    "    \n",
    "    # Retrieve each gradient from the dictionary \"grads\".\n",
    "    dW = grads[\"dW\"]\n",
    "    db = grads[\"db\"]\n",
    "    \n",
    "    # Update rule for each parameter.\n",
    "    W = W - learning_rate * dW\n",
    "    b = b - learning_rate * db\n",
    "    \n",
    "    parameters = {\"W\": W,\n",
    "                  \"b\": b}\n",
    "    \n",
    "    return parameters\n",
    "\n",
    "def train_nn(parameters, A, X, Y):\n",
    "    # Backpropagation. Inputs: \"A, X, Y\". Outputs: \"grads\".\n",
    "    grads = backward_propagation(A, X, Y)\n",
    "    \n",
    "    # Gradient descent parameter update. Inputs: \"parameters, grads\". Outputs: \"parameters\".\n",
    "    parameters = update_parameters(parameters, grads)\n",
    "    \n",
    "    return parameters\n"
   ]
  },
  {
   "cell_type": "markdown",
   "id": "f90028c9-041c-4100-bf1b-7229df6be233",
   "metadata": {},
   "source": [
    "# Simple Linear Regression\n",
    "\n",
    "**Linear regression** is a linear approach for modelling the relationship between a scalar response (**dependent variable**) and one or more explanatory variables (**independent variables**). The case of one independent variable is called **simple linear regression**; for more than one, it is called **multiple linear regression**. "
   ]
  },
  {
   "cell_type": "markdown",
   "id": "38d17237-ae39-40a3-aa36-31cf2bee4316",
   "metadata": {},
   "source": [
    "\n",
    "### Simple Linear Regression Model\n",
    "\n",
    "Simple linear regression model can be written as\n",
    "\n",
    "$$\\hat{y} = wx + b,\\tag{1}$$\n",
    "\n",
    "where $\\hat{y}$ is a prediction of dependent variable $y$ based on independent variable $x$ using a line equation with the slope $w$ and intercept $b$. \n",
    "\n",
    "Given a set of training data points $(x_1, y_1)$, ..., $(x_m, y_m)$, the aim is to find the \"best\" fitting line - such parameters $w$ and $b$ that the differences between original values $y_i$ and predicted values $\\hat{y}_i = wx_i + b$ are minimum.\n",
    "\n",
    "You can use a simple neural network model to do that. Vector algebra will be used in the core of the model!"
   ]
  },
  {
   "cell_type": "markdown",
   "id": "43c84721-289f-4b13-a2cd-57456870e08f",
   "metadata": {},
   "source": [
    "\n",
    "### Neural Network Model with a Single Perceptron and One Input Node\n",
    "\n",
    "The simplest neural network model has only one **perceptron**. It takes some inputs and calculates the output value.\n",
    "\n",
    "The perceptron components are shown in the following scheme:\n",
    "\n",
    "<img src=\"nn_model_linear_regression_simple.png\" style=\"width:400px;\">\n",
    "\n",
    "The smallest construction block of neural networks is called a **node**. Some nodes store numbers from the input and others store the calculated values. **Input nodes** (here there is only one input node $x$) contain the input to the network which consists of your data. These nodes are set as an **input layer** of the network.\n",
    "\n",
    "**Weight** ($w$) and **bias** ($b$) are the parameters which will get updated when you will **train** the model. They are initialized to some random value or set to 0 and updated as the training progresses. The bias is analogous to a weight independent of any input node. It makes the model more flexible.\n",
    "\n",
    "The perceptron output calculation is straightforward: first compute the product of $x$ and weight $w$ and the add the bias:\n",
    "\n",
    "$$z = w x + b\\tag{2}$$\n",
    "\n",
    "The **output layer** of the single perceptron has only one node $\\hat{y} = z$.\n",
    "\n",
    "Putting it all together, mathematically the single perceptron neural network model can be expressed as:\n",
    "\n",
    "\\begin{align}\n",
    "z^{(i)} &=  w x^{(i)} + b,\\\\\n",
    "\\hat{y}^{(i)} &= z^{(i)},\n",
    "\\tag{3}\\end{align}\n",
    "\n",
    "where $x^{(i)}$ represents the $i$-th training example and $\\hat{y}^{(i)}$ will be the prediction based on that example, $i = 1, \\dots, m$.\n",
    "\n",
    "If you have $m$ training examples, vector operations will give you a chance to perform the calculations simultaniously for all of them! Organise all training examples as a vector $X$ of size ($1 \\times m$). Then perform scalar multiplication of $X$ ($1 \\times m$) by a scalar $w$, adding $b$, which will be broadcasted to the vector of size ($1 \\times m$):\n",
    "\n",
    "\\begin{align}\n",
    "Z &=  w X + b,\\\\\n",
    "\\hat{Y} &= Z,\n",
    "\\tag{4}\\end{align}\n",
    "\n",
    "This significantly speeds up the calculations for the larger training sets! This set of calculations is called **forward propagation**."
   ]
  },
  {
   "cell_type": "markdown",
   "id": "832ac7a4-4705-4cb5-bd28-49c9ec232e81",
   "metadata": {},
   "source": [
    "Now, you can compare the resulting vector of the predictions $\\hat{Y}$ ($1 \\times m$) with the original vector of data $Y$. This can be done with the so called **cost function** that measures how close your vector of predictions to the training data. It evaluates how well the parameters $w$ and $b$ work to solve the problem. There are many different cost functions available depending on the nature of your problem. For your simple neural network you can calculate it as:\n",
    "\n",
    "$$\\mathcal{L}\\left(w, b\\right)  = \\frac{1}{2m}\\sum_{i=1}^{m} \\left(\\hat{y}^{(i)} - y^{(i)}\\right)^2.\\tag{5}$$\n",
    "\n",
    "The aim is to minimize the cost function during the training, which will minimize the differences between original values $y_i$ and predicted values $\\hat{y}_i$ (division by $2m$ is taken just for scaling purposes).\n",
    "\n",
    "When your weights were just initialized with some random values, and no training was done yet, you can't expect good results.\n",
    "\n",
    "The next step is to adjust the weights and bias, in order to minimize the cost function. This process is called **backward propagation** and is done iteratively: you update the parameters with a small change and repeat the process.\n",
    "\n",
    "*Note*: Backward propagation is not covered in this Course - it will be discussed in the next Course of this Specialization.\n",
    "\n",
    "The general **methodology** to build a neural network is to:\n",
    "1. Define the neural network structure ( # of input units,  # of hidden units, etc). \n",
    "2. Initialize the model's parameters\n",
    "3. Loop:\n",
    "    - Implement forward propagation (calculate the perceptron output),\n",
    "    - Implement backward propagation (to get the required corrections for the parameters),\n",
    "    - Update parameters.\n",
    "4. Make predictions.\n",
    "\n",
    "You often build helper functions to compute steps 1-3 and then merge them into one function you call `nn_model()`. Once you've built `nn_model()` and learnt the right parameters, you can make predictions on new data."
   ]
  },
  {
   "cell_type": "markdown",
   "id": "e05609c0-23d6-4668-b174-27497e84e65e",
   "metadata": {},
   "source": [
    "### Dataset\n",
    "\n",
    "First, let's get the dataset you will work on. The following code will create $m=30$ data points $(x_1, y_1)$, ..., $(x_m, y_m)$ and save them in `NumPy` arrays `X` and `Y` of a shape $(1 \\times m)$."
   ]
  },
  {
   "cell_type": "code",
   "execution_count": 139,
   "id": "9e45fbb7-aa93-41b1-860a-a7c8efa958f4",
   "metadata": {
    "execution": {
     "iopub.execute_input": "2023-10-01T21:17:14.881745Z",
     "iopub.status.busy": "2023-10-01T21:17:14.881745Z",
     "iopub.status.idle": "2023-10-01T21:17:14.902951Z",
     "shell.execute_reply": "2023-10-01T21:17:14.901495Z",
     "shell.execute_reply.started": "2023-10-01T21:17:14.881745Z"
    }
   },
   "outputs": [
    {
     "name": "stdout",
     "output_type": "stream",
     "text": [
      "Training dataset X:\n",
      "[[ 0.3190391  -1.07296862  0.86540763 -0.17242821  1.14472371  0.50249434\n",
      "  -2.3015387  -0.68372786 -0.38405435 -0.87785842 -2.06014071 -1.10061918\n",
      "  -1.09989127  1.13376944  1.74481176 -0.12289023 -0.93576943  1.62434536\n",
      "   1.46210794  0.90159072 -0.7612069   0.53035547 -0.52817175 -0.26788808\n",
      "   0.58281521  0.04221375  0.90085595 -0.24937038 -0.61175641 -0.3224172 ]]\n",
      "Training dataset Y\n",
      "[[ -3.01854669 -65.65047675  26.96755728   8.70562603  57.94332628\n",
      "   -0.69293498 -78.66594473 -12.73881492 -13.26721663 -24.80488085\n",
      "  -74.24484385 -39.99533724 -22.70174437  73.46766345  55.7257405\n",
      "   23.80417646 -13.45481508  25.57952246  75.91238321  50.91155323\n",
      "  -43.7191551   -1.7025559  -16.44931235 -33.54041234  20.4505961\n",
      "   18.35949302  37.69029586  -1.04801683  -4.47915933 -20.89431647]]\n"
     ]
    }
   ],
   "source": [
    "m = 30\n",
    "\n",
    "X, Y = make_regression(n_samples=m, n_features=1, noise=20, random_state=1)\n",
    "\n",
    "X = X.reshape((1, m))\n",
    "Y = Y.reshape((1, m))\n",
    "\n",
    "print('Training dataset X:')\n",
    "print(X)\n",
    "print('Training dataset Y')\n",
    "print(Y)"
   ]
  },
  {
   "cell_type": "markdown",
   "id": "a4b29a11-de26-4819-b276-16368dc9895a",
   "metadata": {},
   "source": [
    "Plot the dataset:"
   ]
  },
  {
   "cell_type": "code",
   "execution_count": 140,
   "id": "c83b60ba-2b49-41cf-8312-714127f648f4",
   "metadata": {
    "execution": {
     "iopub.execute_input": "2023-10-01T21:17:37.241174Z",
     "iopub.status.busy": "2023-10-01T21:17:37.241174Z",
     "iopub.status.idle": "2023-10-01T21:17:37.438289Z",
     "shell.execute_reply": "2023-10-01T21:17:37.438289Z",
     "shell.execute_reply.started": "2023-10-01T21:17:37.241174Z"
    }
   },
   "outputs": [
    {
     "data": {
      "text/plain": [
       "Text(0, 0.5, '$y$')"
      ]
     },
     "execution_count": 140,
     "metadata": {},
     "output_type": "execute_result"
    },
    {
     "data": {
      "image/png": "[encoded data removed]",
      "text/plain": [
       "<Figure size 640x480 with 1 Axes>"
      ]
     },
     "metadata": {},
     "output_type": "display_data"
    }
   ],
   "source": [
    "plt.scatter(X,  Y, c=\"black\")\n",
    "\n",
    "plt.xlabel(\"$x$\")\n",
    "plt.ylabel(\"$y$\")"
   ]
  },
  {
   "cell_type": "code",
   "execution_count": null,
   "id": "f7e32853-4b4f-41ef-af6e-f96fef80d4f3",
   "metadata": {},
   "outputs": [],
   "source": []
  },
  {
   "cell_type": "markdown",
   "id": "7b940d1f-3267-4ee0-9e4c-a3faeb26619d",
   "metadata": {},
   "source": [
    "### Exercise 1\n",
    "\n",
    "What is the `shape` of the variables `X` and `Y`? In addition, how many training examples do you have?"
   ]
  },
  {
   "cell_type": "code",
   "execution_count": 141,
   "id": "d0c6a1b8-9aa1-4bf3-85f2-cebbe4969676",
   "metadata": {
    "execution": {
     "iopub.execute_input": "2023-10-01T21:18:53.059719Z",
     "iopub.status.busy": "2023-10-01T21:18:53.059719Z",
     "iopub.status.idle": "2023-10-01T21:18:53.068771Z",
     "shell.execute_reply": "2023-10-01T21:18:53.068271Z",
     "shell.execute_reply.started": "2023-10-01T21:18:53.059719Z"
    }
   },
   "outputs": [
    {
     "name": "stdout",
     "output_type": "stream",
     "text": [
      "The shape of X: (1, 30)\n",
      "The shape of Y: (1, 30)\n",
      "I have m = 30 training examples!\n"
     ]
    }
   ],
   "source": [
    "### START CODE HERE ### (~ 3 lines of code)\n",
    "# Shape of variable X.\n",
    "shape_X = X.shape\n",
    "# Shape of variable Y.\n",
    "shape_Y = Y.shape\n",
    "# Training set size.\n",
    "m = X.size\n",
    "### END CODE HERE ###\n",
    "\n",
    "print ('The shape of X: ' + str(shape_X))\n",
    "print ('The shape of Y: ' + str(shape_Y))\n",
    "print ('I have m = %d training examples!' % (m))"
   ]
  },
  {
   "cell_type": "markdown",
   "id": "744e74bd-99f2-4051-82c8-c4297bf594e5",
   "metadata": {},
   "source": [
    "## Implementation of the Neural Network Model for Linear Regression\n",
    "\n",
    "Let's setup the neural network in a way which will allow to extend this simple case of a model to more complicated structures later."
   ]
  },
  {
   "cell_type": "markdown",
   "id": "e9bf4622-ae06-4dfb-8df7-106038d92077",
   "metadata": {},
   "source": [
    "### Defining the Neural Network Structure"
   ]
  },
  {
   "cell_type": "markdown",
   "id": "dbca757d-2795-486a-90b3-79c80b4f4df5",
   "metadata": {},
   "source": [
    "### Exercise 2\n",
    "\n",
    "Define two variables:\n",
    "- `n_x`: the size of the input layer\n",
    "- `n_y`: the size of the output layer"
   ]
  },
  {
   "cell_type": "code",
   "execution_count": 142,
   "id": "18eaa547-cff6-4254-8ba1-0a21ac14f5a4",
   "metadata": {
    "execution": {
     "iopub.execute_input": "2023-10-01T21:20:15.506716Z",
     "iopub.status.busy": "2023-10-01T21:20:15.506342Z",
     "iopub.status.idle": "2023-10-01T21:20:15.514235Z",
     "shell.execute_reply": "2023-10-01T21:20:15.512712Z",
     "shell.execute_reply.started": "2023-10-01T21:20:15.506716Z"
    }
   },
   "outputs": [],
   "source": [
    "# GRADED FUNCTION: layer_sizes\n",
    "\n",
    "def layer_sizes(X, Y):\n",
    "    \"\"\"\n",
    "    Arguments:\n",
    "    X -- input dataset of shape (input size, number of examples)\n",
    "    Y -- labels of shape (output size, number of examples)\n",
    "    \n",
    "    Returns:\n",
    "    n_x -- the size of the input layer\n",
    "    n_y -- the size of the output layer\n",
    "    \"\"\"\n",
    "    ### START CODE HERE ### (~ 2 lines of code)\n",
    "    # Size of input layer.\n",
    "    n_x = X.shape[0]\n",
    "    # Size of output layer.\n",
    "    n_y = Y.shape[0]\n",
    "    ### END CODE HERE ###\n",
    "    return (n_x, n_y)"
   ]
  },
  {
   "cell_type": "code",
   "execution_count": 143,
   "id": "de90f3b9-0da3-45cd-a6ae-01d4459f577c",
   "metadata": {
    "execution": {
     "iopub.execute_input": "2023-10-01T21:20:25.270697Z",
     "iopub.status.busy": "2023-10-01T21:20:25.270697Z",
     "iopub.status.idle": "2023-10-01T21:20:25.281091Z",
     "shell.execute_reply": "2023-10-01T21:20:25.281091Z",
     "shell.execute_reply.started": "2023-10-01T21:20:25.270697Z"
    }
   },
   "outputs": [
    {
     "name": "stdout",
     "output_type": "stream",
     "text": [
      "The size of the input layer is: n_x = 1\n",
      "The size of the output layer is: n_y = 1\n"
     ]
    }
   ],
   "source": [
    "(n_x, n_y) = layer_sizes(X, Y)\n",
    "print(\"The size of the input layer is: n_x = \" + str(n_x))\n",
    "print(\"The size of the output layer is: n_y = \" + str(n_y))"
   ]
  },
  {
   "cell_type": "code",
   "execution_count": null,
   "id": "3c59745d-ce56-4c0e-925e-206692fcc116",
   "metadata": {},
   "outputs": [],
   "source": []
  },
  {
   "cell_type": "markdown",
   "id": "78bcee26-6367-4be8-bbfe-a8ad511457a7",
   "metadata": {},
   "source": [
    "### Initialize the Model's Parameters"
   ]
  },
  {
   "cell_type": "markdown",
   "id": "290679e0-eb3f-4922-a52d-ea33efb39621",
   "metadata": {},
   "source": [
    "### Exercise 3\n",
    "\n",
    "Implement the function `initialize_parameters()`.\n",
    "\n",
    "**Instructions**:\n",
    "- Make sure your parameters' sizes are right. Refer to the neural network figure above if needed.\n",
    "- You will initialize the weights matrix with random values. \n",
    "    - Use: `np.random.randn(a,b) * 0.01` to randomly initialize a matrix of shape (a,b).\n",
    "- You will initialize the bias vector as zeros. \n",
    "    - Use: `np.zeros((a,b))` to initialize a matrix of shape (a,b) with zeros."
   ]
  },
  {
   "cell_type": "code",
   "execution_count": 144,
   "id": "75146e80-ef71-4860-b294-842f67f931c7",
   "metadata": {
    "execution": {
     "iopub.execute_input": "2023-10-01T21:21:45.884113Z",
     "iopub.status.busy": "2023-10-01T21:21:45.883050Z",
     "iopub.status.idle": "2023-10-01T21:21:45.900913Z",
     "shell.execute_reply": "2023-10-01T21:21:45.899859Z",
     "shell.execute_reply.started": "2023-10-01T21:21:45.884049Z"
    }
   },
   "outputs": [],
   "source": [
    "# GRADED FUNCTION: initialize_parameters\n",
    "\n",
    "def initialize_parameters(n_x, n_y):\n",
    "    \"\"\"\n",
    "    Returns:\n",
    "    params -- python dictionary containing your parameters:\n",
    "                    W -- weight matrix of shape (n_y, n_x)\n",
    "                    b -- bias value set as a vector of shape (n_y, 1)\n",
    "    \"\"\"\n",
    "    \n",
    "    ### START CODE HERE ### (~ 2 lines of code)\n",
    "    W = np.random.randn(n_y, n_x) * 0.01\n",
    "    b = np.zeros((n_y, 1))\n",
    "    ### END CODE HERE ###\n",
    "    \n",
    "    assert (W.shape == (n_y, n_x))\n",
    "    assert (b.shape == (n_y, 1))\n",
    "    \n",
    "    parameters = {\"W\": W,\n",
    "                  \"b\": b}\n",
    "    \n",
    "    return parameters"
   ]
  },
  {
   "cell_type": "code",
   "execution_count": 145,
   "id": "7098e3dc-183d-4d3c-abaf-ab1e7ba1609c",
   "metadata": {
    "execution": {
     "iopub.execute_input": "2023-10-01T21:22:02.878822Z",
     "iopub.status.busy": "2023-10-01T21:22:02.878822Z",
     "iopub.status.idle": "2023-10-01T21:22:02.891664Z",
     "shell.execute_reply": "2023-10-01T21:22:02.891485Z",
     "shell.execute_reply.started": "2023-10-01T21:22:02.878822Z"
    }
   },
   "outputs": [
    {
     "name": "stdout",
     "output_type": "stream",
     "text": [
      "W = [[0.01788628]]\n",
      "b = [[0.]]\n"
     ]
    }
   ],
   "source": [
    "parameters = initialize_parameters(n_x, n_y)\n",
    "print(\"W = \" + str(parameters[\"W\"]))\n",
    "print(\"b = \" + str(parameters[\"b\"]))"
   ]
  },
  {
   "cell_type": "markdown",
   "id": "0dcab09a-ed02-4602-adf3-de23383e016d",
   "metadata": {},
   "source": [
    "##### __Expected Output__ \n",
    "Note: the elements of the array W maybe be different due to random initialization. You can try to restart the kernel to get the same values.\n",
    "\n",
    "```Python\n",
    "W = [[0.01788628]]\n",
    "b = [[0.]]\n",
    "```"
   ]
  },
  {
   "cell_type": "code",
   "execution_count": null,
   "id": "642d9619-5fc1-49e5-9779-b1613bbcff3a",
   "metadata": {},
   "outputs": [],
   "source": []
  },
  {
   "cell_type": "markdown",
   "id": "440729e9-c68b-4a14-9dfd-9c220f433472",
   "metadata": {},
   "source": [
    "### The Loop"
   ]
  },
  {
   "cell_type": "markdown",
   "id": "b98d9880-40b8-4c24-9368-b0e70ac4bce9",
   "metadata": {},
   "source": [
    "### Exercise 4\n",
    "\n",
    "Implement `forward_propagation()`.\n",
    "\n",
    "**Instructions**:\n",
    "- Look at the mathematical representation of your model $(4)$ in the section [1.2](#1.2):\n",
    "\\begin{align}\n",
    "Z &=  w X + b\\\\\n",
    "\\hat{Y} &= Z,\n",
    "\\end{align}\n",
    "- The steps you have to implement are:\n",
    "    1. Retrieve each parameter from the dictionary \"parameters\" (which is the output of `initialize_parameters()`) by using `parameters[\"..\"]`.\n",
    "    2. Implement Forward Propagation. Compute `Z` multiplying arrays `w`, `X` and adding vector `b`. Set the prediction array $A$ equal to $Z$.  "
   ]
  },
  {
   "cell_type": "code",
   "execution_count": 147,
   "id": "d55dafd4-113d-4323-b1d9-174fbbe75725",
   "metadata": {
    "execution": {
     "iopub.execute_input": "2023-10-01T21:23:57.391658Z",
     "iopub.status.busy": "2023-10-01T21:23:57.391658Z",
     "iopub.status.idle": "2023-10-01T21:23:57.396742Z",
     "shell.execute_reply": "2023-10-01T21:23:57.395740Z",
     "shell.execute_reply.started": "2023-10-01T21:23:57.391658Z"
    }
   },
   "outputs": [],
   "source": [
    "# GRADED FUNCTION: forward_propagation\n",
    "\n",
    "def forward_propagation(X, parameters):\n",
    "    \"\"\"\n",
    "    Argument:\n",
    "    X -- input data of size (n_x, m)\n",
    "    parameters -- python dictionary containing your parameters (output of initialization function)\n",
    "    \n",
    "    Returns:\n",
    "    Y_hat -- The output\n",
    "    \"\"\"\n",
    "    # Retrieve each parameter from the dictionary \"parameters\".\n",
    "    ### START CODE HERE ### (~ 2 lines of code)\n",
    "    W = parameters[\"W\"]\n",
    "    b = parameters[\"b\"]\n",
    "    ### END CODE HERE ###\n",
    "    \n",
    "    # Implement Forward Propagation to calculate Z.\n",
    "    ### START CODE HERE ### (~ 2 lines of code)\n",
    "    Z = np.dot(W, X) + b\n",
    "    Y_hat = Z\n",
    "    ### END CODE HERE ###\n",
    "    \n",
    "    assert(Y_hat.shape == (n_y, X.shape[1]))\n",
    "\n",
    "    return Y_hat"
   ]
  },
  {
   "cell_type": "code",
   "execution_count": 148,
   "id": "c3cd8e94-2137-4e87-9177-abb362743ac7",
   "metadata": {
    "execution": {
     "iopub.execute_input": "2023-10-01T21:24:06.747277Z",
     "iopub.status.busy": "2023-10-01T21:24:06.747277Z",
     "iopub.status.idle": "2023-10-01T21:24:06.763431Z",
     "shell.execute_reply": "2023-10-01T21:24:06.762432Z",
     "shell.execute_reply.started": "2023-10-01T21:24:06.747277Z"
    }
   },
   "outputs": [
    {
     "name": "stdout",
     "output_type": "stream",
     "text": [
      "[[ 0.00570642 -0.01919142  0.01547893 -0.0030841   0.02047485  0.00898776\n",
      "  -0.04116598 -0.01222935 -0.00686931 -0.01570163 -0.03684826 -0.01968599\n",
      "  -0.01967297  0.02027892  0.0312082  -0.00219805 -0.01673744  0.0290535\n",
      "   0.02615168  0.01612611 -0.01361516  0.00948609 -0.00944703 -0.00479152\n",
      "   0.0104244   0.00075505  0.01611297 -0.00446031 -0.01094205 -0.00576685]]\n"
     ]
    }
   ],
   "source": [
    "Y_hat = forward_propagation(X, parameters)\n",
    "\n",
    "print(Y_hat)"
   ]
  },
  {
   "cell_type": "markdown",
   "id": "4472fc03-b356-4cdb-8196-1459df3e58cc",
   "metadata": {},
   "source": [
    "##### __Expected Output__ \n",
    "Note: the elements of the array Y_hat maybe be different depending on the initial parameters. If you would like to get exactly the same output, try to restart the Kernel and rerun the notebook.\n",
    "\n",
    "```Python\n",
    "[[ 0.00570642 -0.01919142  0.01547893 -0.0030841   0.02047485  0.00898776\n",
    "  -0.04116598 -0.01222935 -0.00686931 -0.01570163 -0.03684826 -0.01968599\n",
    "  -0.01967297  0.02027892  0.0312082  -0.00219805 -0.01673744  0.0290535\n",
    "   0.02615168  0.01612611 -0.01361516  0.00948609 -0.00944703 -0.00479152\n",
    "   0.0104244   0.00075505  0.01611297 -0.00446031 -0.01094205 -0.00576685]]\n",
    "```"
   ]
  },
  {
   "cell_type": "code",
   "execution_count": null,
   "id": "d71d663f-d34d-4909-8c94-ae38798bf5d2",
   "metadata": {},
   "outputs": [],
   "source": [
    "w3_unittest.test_forward_propagation(forward_propagation)"
   ]
  },
  {
   "cell_type": "markdown",
   "id": "1456043e-6c83-4e88-84b6-4a3d124ddc69",
   "metadata": {},
   "source": [
    "Remember that your weights were just initialized with some random values, so the model has not been trained yet. \n",
    "\n",
    "Define a cost function $(5)$ which will be used to train the model:\n",
    "\n",
    "$$\\mathcal{L}\\left(w, b\\right)  = \\frac{1}{2m}\\sum_{i=1}^{m} \\left(\\hat{y}^{(i)} - y^{(i)}\\right)^2$$"
   ]
  },
  {
   "cell_type": "code",
   "execution_count": 149,
   "id": "2bfa8625-32f9-43f0-901a-b099441b4327",
   "metadata": {
    "execution": {
     "iopub.execute_input": "2023-10-01T21:25:01.942410Z",
     "iopub.status.busy": "2023-10-01T21:25:01.942410Z",
     "iopub.status.idle": "2023-10-01T21:25:01.957344Z",
     "shell.execute_reply": "2023-10-01T21:25:01.953547Z",
     "shell.execute_reply.started": "2023-10-01T21:25:01.942410Z"
    }
   },
   "outputs": [],
   "source": [
    "def compute_cost(Y_hat, Y):\n",
    "    \"\"\"\n",
    "    Computes the cost function as a sum of squares\n",
    "    \n",
    "    Arguments:\n",
    "    Y_hat -- The output of the neural network of shape (n_y, number of examples)\n",
    "    Y -- \"true\" labels vector of shape (n_y, number of examples)\n",
    "    \n",
    "    Returns:\n",
    "    cost -- sum of squares scaled by 1/(2*number of examples)\n",
    "    \n",
    "    \"\"\"\n",
    "    # Number of examples.\n",
    "    m = Y.shape[1]\n",
    "\n",
    "    # Compute the cost function.\n",
    "    cost = np.sum((Y_hat - Y)**2)/(2*m)\n",
    "    \n",
    "    return cost"
   ]
  },
  {
   "cell_type": "code",
   "execution_count": 150,
   "id": "9fdec747-8915-47f9-be82-64daa8fcaff6",
   "metadata": {
    "execution": {
     "iopub.execute_input": "2023-10-01T21:25:09.077656Z",
     "iopub.status.busy": "2023-10-01T21:25:09.077656Z",
     "iopub.status.idle": "2023-10-01T21:25:09.090264Z",
     "shell.execute_reply": "2023-10-01T21:25:09.090062Z",
     "shell.execute_reply.started": "2023-10-01T21:25:09.077656Z"
    }
   },
   "outputs": [
    {
     "name": "stdout",
     "output_type": "stream",
     "text": [
      "cost = 790.2189412622606\n"
     ]
    }
   ],
   "source": [
    "print(\"cost = \" + str(compute_cost(Y_hat, Y)))"
   ]
  },
  {
   "cell_type": "markdown",
   "id": "d2fac625-9a01-4107-a07f-e75330f1fb42",
   "metadata": {},
   "source": [
    "You want to minimize the cost value, bringing it as close as possible to $0$, making your vector of predictions as similar to the training data as possible.\n",
    "\n",
    "To achieve this, backward propagation needs to be performed. It is covered in details in the Course \"Calculus\" (Course 2 in the Specialization \"Mathematics for Machine Learning\"). For now you can use a function `train_nn()` from the uploaded toolbox to get the updated parameters in each step of the loop."
   ]
  },
  {
   "cell_type": "code",
   "execution_count": 151,
   "id": "a2ba6344-9810-4cbf-955d-2dfa9e5dff47",
   "metadata": {
    "execution": {
     "iopub.execute_input": "2023-10-01T21:25:51.182787Z",
     "iopub.status.busy": "2023-10-01T21:25:51.182787Z",
     "iopub.status.idle": "2023-10-01T21:25:51.189376Z",
     "shell.execute_reply": "2023-10-01T21:25:51.188377Z",
     "shell.execute_reply.started": "2023-10-01T21:25:51.182787Z"
    }
   },
   "outputs": [
    {
     "name": "stdout",
     "output_type": "stream",
     "text": [
      "W = [[43.63366703]]\n",
      "b = [[0.17926448]]\n"
     ]
    }
   ],
   "source": [
    "parameters = w3_tools.train_nn(parameters, Y_hat, X, Y)\n",
    "\n",
    "print(\"W = \" + str(parameters[\"W\"]))\n",
    "print(\"b = \" + str(parameters[\"b\"]))"
   ]
  },
  {
   "cell_type": "code",
   "execution_count": null,
   "id": "2bda637d-e627-4778-94b9-e1b5ae66b28c",
   "metadata": {},
   "outputs": [],
   "source": []
  },
  {
   "cell_type": "markdown",
   "id": "f1818618-612b-4cf9-b51a-9de833d97003",
   "metadata": {},
   "source": [
    "### Integrate parts 2.1, 2.2 and 2.3 in nn_model()"
   ]
  },
  {
   "cell_type": "markdown",
   "id": "6909089d-b6ee-442e-89f0-210f12890fbc",
   "metadata": {},
   "source": [
    "### Exercise 5\n",
    "\n",
    "Build your neural network model in `nn_model()`.\n",
    "\n",
    "**Instructions**: The neural network model has to use the previous functions in the right order."
   ]
  },
  {
   "cell_type": "code",
   "execution_count": 200,
   "id": "a00922d9-9b6a-404a-9bc3-c97e32ff3ccd",
   "metadata": {
    "execution": {
     "iopub.execute_input": "2023-10-01T22:21:58.352751Z",
     "iopub.status.busy": "2023-10-01T22:21:58.350911Z",
     "iopub.status.idle": "2023-10-01T22:21:58.369503Z",
     "shell.execute_reply": "2023-10-01T22:21:58.368501Z",
     "shell.execute_reply.started": "2023-10-01T22:21:58.352751Z"
    }
   },
   "outputs": [],
   "source": [
    "# GRADED FUNCTION: nn_model\n",
    "\n",
    "def nn_model(X, Y, num_iterations=10, print_cost=False):\n",
    "    \"\"\"\n",
    "    Arguments:\n",
    "    X -- dataset of shape (n_x, number of examples)\n",
    "    Y -- labels of shape (n_y, number of examples)\n",
    "    num_iterations -- number of iterations in the loop\n",
    "    print_cost -- if True, print the cost every iteration\n",
    "    \n",
    "    Returns:\n",
    "    parameters -- parameters learnt by the model. They can then be used to make predictions.\n",
    "    \"\"\"\n",
    "    \n",
    "    n_x = layer_sizes(X, Y)[0]\n",
    "    n_y = layer_sizes(X, Y)[1]\n",
    "    \n",
    "    # Initialize parameters\n",
    "    ### START CODE HERE ### (~ 1 line of code)\n",
    "    parameters = initialize_parameters(n_x, n_y)\n",
    "    ### END CODE HERE ###\n",
    "    \n",
    "    # Loop\n",
    "    for i in range(0, num_iterations):\n",
    "         \n",
    "        ### START CODE HERE ### (~ 2 lines of code)\n",
    "        # Forward propagation. Inputs: \"X, parameters\". Outputs: \"Y_hat\".\n",
    "        Y_hat = np.dot(parameters[\"W\"], X) + parameters[\"b\"]\n",
    "        \n",
    "        # Cost function. Inputs: \"Y_hat, Y\". Outputs: \"cost\".\n",
    "        cost = np.sum((Y_hat - Y)**2)/(2*Y.shape[1])\n",
    "        ### END CODE HERE ###\n",
    "        \n",
    "        \n",
    "        # Parameters update.\n",
    "        parameters = w3_tools.train_nn(parameters, Y_hat, X, Y) \n",
    "        \n",
    "        # Print the cost every iteration.\n",
    "        if print_cost:\n",
    "            print (\"Cost after iteration %i: %f\" %(i, cost))\n",
    "\n",
    "    return parameters"
   ]
  },
  {
   "cell_type": "code",
   "execution_count": 201,
   "id": "314256a4-3c38-4733-bbdb-ac965567e65d",
   "metadata": {
    "execution": {
     "iopub.execute_input": "2023-10-01T22:21:59.877194Z",
     "iopub.status.busy": "2023-10-01T22:21:59.876190Z",
     "iopub.status.idle": "2023-10-01T22:21:59.889421Z",
     "shell.execute_reply": "2023-10-01T22:21:59.888404Z",
     "shell.execute_reply.started": "2023-10-01T22:21:59.877194Z"
    }
   },
   "outputs": [
    {
     "name": "stdout",
     "output_type": "stream",
     "text": [
      "Cost after iteration 0: 790.885143\n",
      "Cost after iteration 1: 176.499254\n",
      "Cost after iteration 2: 143.770011\n",
      "Cost after iteration 3: 141.433427\n",
      "Cost after iteration 4: 141.248729\n",
      "Cost after iteration 5: 141.233727\n",
      "Cost after iteration 6: 141.232500\n",
      "Cost after iteration 7: 141.232400\n",
      "Cost after iteration 8: 141.232391\n",
      "Cost after iteration 9: 141.232391\n",
      "Cost after iteration 10: 141.232391\n",
      "Cost after iteration 11: 141.232391\n",
      "Cost after iteration 12: 141.232391\n",
      "Cost after iteration 13: 141.232391\n",
      "Cost after iteration 14: 141.232391\n",
      "W = [[35.71958208]]\n",
      "b = [[2.2893077]]\n"
     ]
    }
   ],
   "source": [
    "parameters = nn_model(X, Y, num_iterations=15, print_cost=True)\n",
    "print(\"W = \" + str(parameters[\"W\"]))\n",
    "print(\"b = \" + str(parameters[\"b\"]))\n",
    "\n",
    "W_simple = parameters[\"W\"]\n",
    "b_simple = parameters[\"b\"]"
   ]
  },
  {
   "cell_type": "code",
   "execution_count": null,
   "id": "0b0cc4f1-f2ec-4e7e-a0f9-2837d6b08b30",
   "metadata": {},
   "outputs": [],
   "source": []
  },
  {
   "cell_type": "markdown",
   "id": "2ddc0fb9-3af2-4f30-9376-4f69cf564fb5",
   "metadata": {},
   "source": [
    "##### __Expected Output__ \n",
    "Note: the actual values can be different!\n",
    "\n",
    "```Python\n",
    "Cost after iteration 0: 791.431703\n",
    "Cost after iteration 1: 176.530000\n",
    "Cost after iteration 2: 143.772255\n",
    "Cost after iteration 3: 141.433606\n",
    "Cost after iteration 4: 141.248744\n",
    "Cost after iteration 5: 141.233728\n",
    "Cost after iteration 6: 141.232500\n",
    "Cost after iteration 7: 141.232400\n",
    "Cost after iteration 8: 141.232391\n",
    "Cost after iteration 9: 141.232391\n",
    "Cost after iteration 10: 141.232391\n",
    "Cost after iteration 11: 141.232391\n",
    "Cost after iteration 12: 141.232391\n",
    "Cost after iteration 13: 141.232391\n",
    "Cost after iteration 14: 141.232391\n",
    "W = [[35.71958208]]\n",
    "b = [[2.2893077]]\n",
    "```"
   ]
  },
  {
   "cell_type": "code",
   "execution_count": 154,
   "id": "ae66dadf-8799-4096-bd3c-40762b700c92",
   "metadata": {
    "execution": {
     "iopub.execute_input": "2023-10-01T21:27:59.646447Z",
     "iopub.status.busy": "2023-10-01T21:27:59.645432Z",
     "iopub.status.idle": "2023-10-01T21:27:59.663824Z",
     "shell.execute_reply": "2023-10-01T21:27:59.663024Z",
     "shell.execute_reply.started": "2023-10-01T21:27:59.646447Z"
    }
   },
   "outputs": [],
   "source": [
    "# Note: \n",
    "# Actual values are not checked here in the unit tests (due to random initialization).\n",
    "# w3_unittest.test_nn_model(nn_model)"
   ]
  },
  {
   "cell_type": "markdown",
   "id": "c126d016-2bb1-4169-bf2b-0b6201d53086",
   "metadata": {},
   "source": [
    "You can see that after a few iterations the cost function does not change anymore (the model converges).\n",
    "\n",
    "*Note*: This is a very simple model. In reality the models do not converge that quickly.\n",
    "\n",
    "The final model parameters can be used for making predictions. Let's plot the linear regression line and some predictions. The regression line is red and the predicted points are blue."
   ]
  },
  {
   "cell_type": "code",
   "execution_count": 155,
   "id": "84f60aa3-084a-47ba-91aa-57aa6021a96e",
   "metadata": {
    "execution": {
     "iopub.execute_input": "2023-10-01T21:28:33.210220Z",
     "iopub.status.busy": "2023-10-01T21:28:33.210220Z",
     "iopub.status.idle": "2023-10-01T21:28:33.344979Z",
     "shell.execute_reply": "2023-10-01T21:28:33.343500Z",
     "shell.execute_reply.started": "2023-10-01T21:28:33.210220Z"
    }
   },
   "outputs": [
    {
     "data": {
      "image/png": "[encoded data removed]",
      "text/plain": [
       "<Figure size 640x480 with 1 Axes>"
      ]
     },
     "metadata": {},
     "output_type": "display_data"
    }
   ],
   "source": [
    "X_pred = np.array([-0.95, 0.2, 1.5])\n",
    "\n",
    "fig, ax = plt.subplots()\n",
    "plt.scatter(X, Y, color = \"black\")\n",
    "\n",
    "plt.xlabel(\"$x$\")\n",
    "plt.ylabel(\"$y$\")\n",
    "    \n",
    "X_line = np.arange(np.min(X[0,:]),np.max(X[0,:])*1.1, 0.1)\n",
    "ax.plot(X_line, W_simple[0,0] * X_line + b_simple[0,0], \"r\")\n",
    "ax.plot(X_pred, W_simple[0,0] * X_pred + b_simple[0,0], \"bo\")\n",
    "plt.plot()\n",
    "plt.show()"
   ]
  },
  {
   "cell_type": "markdown",
   "id": "ed4badfa-cf39-4a5a-a980-07b21e1d93db",
   "metadata": {},
   "source": [
    "Not bad for such a small neural network with just a single perceptron and one input node!"
   ]
  },
  {
   "cell_type": "markdown",
   "id": "46b55d4a-196e-44c9-9c2e-1e3433178937",
   "metadata": {},
   "source": [
    "## Multiple Linear Regression\n",
    "\n",
    "Models are not always as simple as the one above. In some cases your output is dependent on more than just one variable. Let's look at the case where the output depends on two input variables."
   ]
  },
  {
   "cell_type": "markdown",
   "id": "42656fd1-adb6-457c-b041-616366da0762",
   "metadata": {},
   "source": [
    "\n",
    "### Multipe Linear Regression Model\n",
    "\n",
    "Multiple linear regression model with two independent variables $x_1$, $x_2$ can be written as\n",
    "\n",
    "$$\\hat{y} = w_1x_1 + w_2x_2 + b = Wx + b,\\tag{6}$$\n",
    "\n",
    "where $Wx$ is the dot product of the input vector $x = \\begin{bmatrix} x_1 & x_2\\end{bmatrix}$ and parameters vector $W = \\begin{bmatrix} w_1 & w_2\\end{bmatrix}$, scalar parameter $b$ is the intercept. \n",
    "\n",
    "The goal is the same - find the \"best\" parameters $w_1$, $w_2$ and $b$ such the differences between original values $y_i$ and predicted values $\\hat{y}_i$ are minimum.\n",
    "\n",
    "You can use a slightly more complicated neural network model to do that. Now matrix multiplication will be in the core of the model!"
   ]
  },
  {
   "cell_type": "markdown",
   "id": "c91a2439-4abf-4e53-ac5b-420c2e9f20ab",
   "metadata": {},
   "source": [
    "\n",
    "### Neural Network Model with a Single Perceptron and Two Input Nodes\n",
    "\n",
    "Again, you will use only one perceptron, but with two input nodes shown in the following scheme:\n",
    "\n",
    "<img src=\"nn_model_linear_regression_multiple.png\" style=\"width:420px;\">\n",
    "\n",
    "The perceptron output calculation for every training example $x^{(i)} = \\begin{bmatrix} x_1^{(i)} & x_2^{(i)}\\end{bmatrix}$ can be written with dot product:\n",
    "\n",
    "$$z^{(i)} = w_1x_1^{(i)} + w_2x_2^{(i)} + b = Wx^{(i)} + b,\\tag{7}$$\n",
    "\n",
    "where weights are in the vector $W = \\begin{bmatrix} w_1 & w_2\\end{bmatrix}$ and bias $b$ is a scalar. The output layer will have the same single node $\\hat{y}^{(i)} = z^{(i)}$.\n",
    "\n",
    "Organise all training examples in a matrix $X$ of a shape ($2 \\times m$), putting $x_1^{(i)}$ and $x_2^{(i)}$ into columns. Then matrix multiplication of $W$ ($1 \\times 2$) and $X$ ($2 \\times m$) will give a ($1 \\times m$) vector\n",
    "\n",
    "$$WX = \n",
    "\\begin{bmatrix} w_1 & w_2\\end{bmatrix} \n",
    "\\begin{bmatrix} \n",
    "x_1^{(1)} & x_1^{(2)} & \\dots & x_1^{(m)} \\\\ \n",
    "x_2^{(1)} & x_2^{(2)} & \\dots & x_2^{(m)} \\\\ \\end{bmatrix}\n",
    "=\\begin{bmatrix} \n",
    "w_1x_1^{(1)} + w_2x_2^{(1)} & \n",
    "w_1x_1^{(2)} + w_2x_2^{(2)} & \\dots & \n",
    "w_1x_1^{(m)} + w_2x_2^{(m)}\\end{bmatrix}.$$\n",
    "\n",
    "And the model can be written as\n",
    "\n",
    "\\begin{align}\n",
    "Z &=  W X + b,\\\\\n",
    "\\hat{Y} &= Z,\n",
    "\\tag{8}\\end{align}\n",
    "\n",
    "where $b$ is broadcasted to the vector of a size ($1 \\times m$). These are the calculations to perform in the forward propagation step. Cost function will remain the same, and there will be no change in methodology and training (that will be discussed in the next Course)!"
   ]
  },
  {
   "cell_type": "markdown",
   "id": "d25b7cc1-f618-4b62-b0e9-b46f68c165a0",
   "metadata": {},
   "source": [
    "### Dataset\n",
    "\n",
    "Let's build a linear regression model for a Kaggle dataset [House Prices](https://www.kaggle.com/c/house-prices-advanced-regression-techniques), saved in a file `data/house_prices_train.csv`. You will use two fields - ground living area (`GrLivArea`, square feet) and rates of the overall quality of material and finish (`OverallQual`, 1-10) to predict sales price (`SalePrice`, dollars).\n",
    "\n",
    "To open the dataset you can use `pandas` function `read_csv`:"
   ]
  },
  {
   "cell_type": "code",
   "execution_count": 167,
   "id": "a5a448c4-abda-40c5-9baf-1205b9a6e0a5",
   "metadata": {
    "execution": {
     "iopub.execute_input": "2023-10-01T21:37:44.309266Z",
     "iopub.status.busy": "2023-10-01T21:37:44.308265Z",
     "iopub.status.idle": "2023-10-01T21:37:44.351523Z",
     "shell.execute_reply": "2023-10-01T21:37:44.350280Z",
     "shell.execute_reply.started": "2023-10-01T21:37:44.309266Z"
    }
   },
   "outputs": [
    {
     "data": {
      "text/html": [
       "<div>\n",
       "<style scoped>\n",
       "    .dataframe tbody tr th:only-of-type {\n",
       "        vertical-align: middle;\n",
       "    }\n",
       "\n",
       "    .dataframe tbody tr th {\n",
       "        vertical-align: top;\n",
       "    }\n",
       "\n",
       "    .dataframe thead th {\n",
       "        text-align: right;\n",
       "    }\n",
       "</style>\n",
       "<table border=\"1\" class=\"dataframe\">\n",
       "  <thead>\n",
       "    <tr style=\"text-align: right;\">\n",
       "      <th></th>\n",
       "      <th>Id</th>\n",
       "      <th>MSSubClass</th>\n",
       "      <th>MSZoning</th>\n",
       "      <th>LotFrontage</th>\n",
       "      <th>LotArea</th>\n",
       "      <th>Street</th>\n",
       "      <th>Alley</th>\n",
       "      <th>LotShape</th>\n",
       "      <th>LandContour</th>\n",
       "      <th>Utilities</th>\n",
       "      <th>...</th>\n",
       "      <th>PoolArea</th>\n",
       "      <th>PoolQC</th>\n",
       "      <th>Fence</th>\n",
       "      <th>MiscFeature</th>\n",
       "      <th>MiscVal</th>\n",
       "      <th>MoSold</th>\n",
       "      <th>YrSold</th>\n",
       "      <th>SaleType</th>\n",
       "      <th>SaleCondition</th>\n",
       "      <th>SalePrice</th>\n",
       "    </tr>\n",
       "  </thead>\n",
       "  <tbody>\n",
       "    <tr>\n",
       "      <th>0</th>\n",
       "      <td>1</td>\n",
       "      <td>60</td>\n",
       "      <td>RL</td>\n",
       "      <td>65.0</td>\n",
       "      <td>8450</td>\n",
       "      <td>Pave</td>\n",
       "      <td>NaN</td>\n",
       "      <td>Reg</td>\n",
       "      <td>Lvl</td>\n",
       "      <td>AllPub</td>\n",
       "      <td>...</td>\n",
       "      <td>0</td>\n",
       "      <td>NaN</td>\n",
       "      <td>NaN</td>\n",
       "      <td>NaN</td>\n",
       "      <td>0</td>\n",
       "      <td>2</td>\n",
       "      <td>2008</td>\n",
       "      <td>WD</td>\n",
       "      <td>Normal</td>\n",
       "      <td>208500</td>\n",
       "    </tr>\n",
       "    <tr>\n",
       "      <th>1</th>\n",
       "      <td>2</td>\n",
       "      <td>20</td>\n",
       "      <td>RL</td>\n",
       "      <td>80.0</td>\n",
       "      <td>9600</td>\n",
       "      <td>Pave</td>\n",
       "      <td>NaN</td>\n",
       "      <td>Reg</td>\n",
       "      <td>Lvl</td>\n",
       "      <td>AllPub</td>\n",
       "      <td>...</td>\n",
       "      <td>0</td>\n",
       "      <td>NaN</td>\n",
       "      <td>NaN</td>\n",
       "      <td>NaN</td>\n",
       "      <td>0</td>\n",
       "      <td>5</td>\n",
       "      <td>2007</td>\n",
       "      <td>WD</td>\n",
       "      <td>Normal</td>\n",
       "      <td>181500</td>\n",
       "    </tr>\n",
       "    <tr>\n",
       "      <th>2</th>\n",
       "      <td>3</td>\n",
       "      <td>60</td>\n",
       "      <td>RL</td>\n",
       "      <td>68.0</td>\n",
       "      <td>11250</td>\n",
       "      <td>Pave</td>\n",
       "      <td>NaN</td>\n",
       "      <td>IR1</td>\n",
       "      <td>Lvl</td>\n",
       "      <td>AllPub</td>\n",
       "      <td>...</td>\n",
       "      <td>0</td>\n",
       "      <td>NaN</td>\n",
       "      <td>NaN</td>\n",
       "      <td>NaN</td>\n",
       "      <td>0</td>\n",
       "      <td>9</td>\n",
       "      <td>2008</td>\n",
       "      <td>WD</td>\n",
       "      <td>Normal</td>\n",
       "      <td>223500</td>\n",
       "    </tr>\n",
       "    <tr>\n",
       "      <th>3</th>\n",
       "      <td>4</td>\n",
       "      <td>70</td>\n",
       "      <td>RL</td>\n",
       "      <td>60.0</td>\n",
       "      <td>9550</td>\n",
       "      <td>Pave</td>\n",
       "      <td>NaN</td>\n",
       "      <td>IR1</td>\n",
       "      <td>Lvl</td>\n",
       "      <td>AllPub</td>\n",
       "      <td>...</td>\n",
       "      <td>0</td>\n",
       "      <td>NaN</td>\n",
       "      <td>NaN</td>\n",
       "      <td>NaN</td>\n",
       "      <td>0</td>\n",
       "      <td>2</td>\n",
       "      <td>2006</td>\n",
       "      <td>WD</td>\n",
       "      <td>Abnorml</td>\n",
       "      <td>140000</td>\n",
       "    </tr>\n",
       "    <tr>\n",
       "      <th>4</th>\n",
       "      <td>5</td>\n",
       "      <td>60</td>\n",
       "      <td>RL</td>\n",
       "      <td>84.0</td>\n",
       "      <td>14260</td>\n",
       "      <td>Pave</td>\n",
       "      <td>NaN</td>\n",
       "      <td>IR1</td>\n",
       "      <td>Lvl</td>\n",
       "      <td>AllPub</td>\n",
       "      <td>...</td>\n",
       "      <td>0</td>\n",
       "      <td>NaN</td>\n",
       "      <td>NaN</td>\n",
       "      <td>NaN</td>\n",
       "      <td>0</td>\n",
       "      <td>12</td>\n",
       "      <td>2008</td>\n",
       "      <td>WD</td>\n",
       "      <td>Normal</td>\n",
       "      <td>250000</td>\n",
       "    </tr>\n",
       "  </tbody>\n",
       "</table>\n",
       "<p>5 rows × 81 columns</p>\n",
       "</div>"
      ],
      "text/plain": [
       "   Id  MSSubClass MSZoning  LotFrontage  LotArea Street Alley LotShape  \\\n",
       "0   1          60       RL         65.0     8450   Pave   NaN      Reg   \n",
       "1   2          20       RL         80.0     9600   Pave   NaN      Reg   \n",
       "2   3          60       RL         68.0    11250   Pave   NaN      IR1   \n",
       "3   4          70       RL         60.0     9550   Pave   NaN      IR1   \n",
       "4   5          60       RL         84.0    14260   Pave   NaN      IR1   \n",
       "\n",
       "  LandContour Utilities  ... PoolArea PoolQC Fence MiscFeature MiscVal MoSold  \\\n",
       "0         Lvl    AllPub  ...        0    NaN   NaN         NaN       0      2   \n",
       "1         Lvl    AllPub  ...        0    NaN   NaN         NaN       0      5   \n",
       "2         Lvl    AllPub  ...        0    NaN   NaN         NaN       0      9   \n",
       "3         Lvl    AllPub  ...        0    NaN   NaN         NaN       0      2   \n",
       "4         Lvl    AllPub  ...        0    NaN   NaN         NaN       0     12   \n",
       "\n",
       "  YrSold  SaleType  SaleCondition  SalePrice  \n",
       "0   2008        WD         Normal     208500  \n",
       "1   2007        WD         Normal     181500  \n",
       "2   2008        WD         Normal     223500  \n",
       "3   2006        WD        Abnorml     140000  \n",
       "4   2008        WD         Normal     250000  \n",
       "\n",
       "[5 rows x 81 columns]"
      ]
     },
     "execution_count": 167,
     "metadata": {},
     "output_type": "execute_result"
    }
   ],
   "source": [
    "df = pd.read_csv('data/house_prices_train.csv')\n",
    "df.head()"
   ]
  },
  {
   "cell_type": "markdown",
   "id": "bfa3b039-1f96-4211-bc3d-96491d2e37ac",
   "metadata": {},
   "source": [
    "The data is now saved in the variable `df` as a **DataFrame**, which is the most commonly used `pandas` object. It is a 2-dimensional labeled data structure with columns of potentially different types. You can think of it as a table or a spreadsheet. Full documentation can be found [here](https://pandas.pydata.org/).\n",
    "\n",
    "Select the required fields and save them in the variables `X_multi`, `Y_multi`:"
   ]
  },
  {
   "cell_type": "code",
   "execution_count": 168,
   "id": "80804528-ff72-4d7f-8f6b-3ff8c744b19c",
   "metadata": {
    "execution": {
     "iopub.execute_input": "2023-10-01T21:37:45.132916Z",
     "iopub.status.busy": "2023-10-01T21:37:45.131921Z",
     "iopub.status.idle": "2023-10-01T21:37:45.152352Z",
     "shell.execute_reply": "2023-10-01T21:37:45.151350Z",
     "shell.execute_reply.started": "2023-10-01T21:37:45.132916Z"
    }
   },
   "outputs": [],
   "source": [
    "X_multi = df[['GrLivArea', 'OverallQual']]\n",
    "Y_multi = df['SalePrice']"
   ]
  },
  {
   "cell_type": "markdown",
   "id": "51eba437-b6e9-4457-90bb-afd170123149",
   "metadata": {},
   "source": [
    "Have a look at the data:"
   ]
  },
  {
   "cell_type": "code",
   "execution_count": 169,
   "id": "f6665662-dfb6-4305-be62-6aee62883aee",
   "metadata": {
    "execution": {
     "iopub.execute_input": "2023-10-01T21:37:46.751653Z",
     "iopub.status.busy": "2023-10-01T21:37:46.751653Z",
     "iopub.status.idle": "2023-10-01T21:37:46.766316Z",
     "shell.execute_reply": "2023-10-01T21:37:46.763637Z",
     "shell.execute_reply.started": "2023-10-01T21:37:46.751653Z"
    }
   },
   "outputs": [
    {
     "name": "stdout",
     "output_type": "stream",
     "text": [
      "X_multi:\n",
      "      GrLivArea  OverallQual\n",
      "0          1710            7\n",
      "1          1262            6\n",
      "2          1786            7\n",
      "3          1717            7\n",
      "4          2198            8\n",
      "...         ...          ...\n",
      "1455       1647            6\n",
      "1456       2073            6\n",
      "1457       2340            7\n",
      "1458       1078            5\n",
      "1459       1256            5\n",
      "\n",
      "[1460 rows x 2 columns]\n",
      "\n",
      "Y_multi:\n",
      "0       208500\n",
      "1       181500\n",
      "2       223500\n",
      "3       140000\n",
      "4       250000\n",
      "         ...  \n",
      "1455    175000\n",
      "1456    210000\n",
      "1457    266500\n",
      "1458    142125\n",
      "1459    147500\n",
      "Name: SalePrice, Length: 1460, dtype: int64\n",
      "\n"
     ]
    }
   ],
   "source": [
    "print(f\"X_multi:\\n{X_multi}\\n\")\n",
    "print(f\"Y_multi:\\n{Y_multi}\\n\")"
   ]
  },
  {
   "cell_type": "markdown",
   "id": "d63888f5-ea64-4782-a78c-1edfafbe3712",
   "metadata": {},
   "source": [
    "All of the original arrays have different units. To make training of the neural network efficient, you need to bring them to the same units. A common approach to it is called **normalization**: substract the mean value of the array from each of the elements in the array and divide them by standard deviation (a statistical measure of the amount of dispersion of a set of values). If you are not familiar with mean and standard deviation, do not worry about this for now - this is covered in the third Course of Specialization.\n",
    "\n",
    "Normalization is implemented in the following code:"
   ]
  },
  {
   "cell_type": "code",
   "execution_count": 243,
   "id": "8ea4898c-d76b-4b19-8fb3-c4ff2d73ee28",
   "metadata": {
    "execution": {
     "iopub.execute_input": "2023-10-01T22:59:54.815088Z",
     "iopub.status.busy": "2023-10-01T22:59:54.815088Z",
     "iopub.status.idle": "2023-10-01T22:59:54.822816Z",
     "shell.execute_reply": "2023-10-01T22:59:54.822312Z",
     "shell.execute_reply.started": "2023-10-01T22:59:54.815088Z"
    }
   },
   "outputs": [],
   "source": [
    "X_multi_norm = (X_multi - np.mean(X_multi, axis=0))/np.std(X_multi, axis=0)\n",
    "Y_multi_norm = (Y_multi - np.mean(Y_multi, axis=0))/np.std(Y_multi, axis=0)"
   ]
  },
  {
   "cell_type": "markdown",
   "id": "9b1964f3-bb9e-41ba-b0f2-ef466b311272",
   "metadata": {},
   "source": [
    "Convert results to the `NumPy` arrays, transpose `X_multi_norm` to get an array of a shape ($2 \\times m$) and reshape `Y_multi_norm` to bring it to the shape ($1 \\times m$):"
   ]
  },
  {
   "cell_type": "code",
   "execution_count": 245,
   "id": "f1cf8a26-f249-4249-8f5b-bc1b50fa3fd3",
   "metadata": {
    "execution": {
     "iopub.execute_input": "2023-10-01T23:00:06.850765Z",
     "iopub.status.busy": "2023-10-01T23:00:06.849775Z",
     "iopub.status.idle": "2023-10-01T23:00:06.870022Z",
     "shell.execute_reply": "2023-10-01T23:00:06.868618Z",
     "shell.execute_reply.started": "2023-10-01T23:00:06.850765Z"
    }
   },
   "outputs": [
    {
     "name": "stdout",
     "output_type": "stream",
     "text": [
      "The shape of X: (2, 1460)\n",
      "The shape of Y: (1, 1460)\n",
      "I have m = 1460 training examples!\n"
     ]
    }
   ],
   "source": [
    "X_multi_norm = np.array(X_multi_norm).T\n",
    "Y_multi_norm = np.array(Y_multi_norm).reshape((1, len(Y_multi_norm)))\n",
    "\n",
    "print ('The shape of X: ' + str(X_multi_norm.shape))\n",
    "print ('The shape of Y: ' + str(Y_multi_norm.shape))\n",
    "print ('I have m = %d training examples!' % (X_multi_norm.shape[1]))"
   ]
  },
  {
   "cell_type": "markdown",
   "id": "74fe815d-10c2-4c3f-ac8e-43766e9307bc",
   "metadata": {},
   "source": [
    "### Performance of the Neural Network Model for Multiple Linear Regression\n",
    "\n",
    "The magic is that now you do not need to change anything in your neural network implementation! Go through the code in section [2](#2) and see that if you pass new datasets `X_multi_norm` and `Y_multi_norm`, the input layer size $n_x$ will get equal to $2$ and the rest of the implementation will remain exactly the same. That's the power of the neural networks (and matrix multiplication)!"
   ]
  },
  {
   "cell_type": "markdown",
   "id": "5e36499b-343c-4a95-b4a3-3c47751eb54b",
   "metadata": {},
   "source": [
    "### Exercise 6\n",
    "\n",
    "Run the constructed above neural network model `nn_model()` for `100` iterations, passing the training dataset saved in the arrays `X_multi_norm` and `Y_multi_norm`."
   ]
  },
  {
   "cell_type": "code",
   "execution_count": 239,
   "id": "cc93e66b-51cf-4f61-9989-85e8a0d47bf3",
   "metadata": {
    "execution": {
     "iopub.execute_input": "2023-10-01T22:53:25.440871Z",
     "iopub.status.busy": "2023-10-01T22:53:25.439881Z",
     "iopub.status.idle": "2023-10-01T22:53:25.451224Z",
     "shell.execute_reply": "2023-10-01T22:53:25.450218Z",
     "shell.execute_reply.started": "2023-10-01T22:53:25.440871Z"
    }
   },
   "outputs": [
    {
     "data": {
      "text/plain": [
       "array([[1.8070013 , 0.95415594, 1.95168042, ..., 3.00631508, 0.60388017,\n",
       "        0.94273391]])"
      ]
     },
     "execution_count": 239,
     "metadata": {},
     "output_type": "execute_result"
    }
   ],
   "source": [
    "X_multi_norm[[0]]"
   ]
  },
  {
   "cell_type": "code",
   "execution_count": 237,
   "id": "b8991786-2cf2-4702-b6da-39346ddab388",
   "metadata": {
    "execution": {
     "iopub.execute_input": "2023-10-01T22:51:19.543614Z",
     "iopub.status.busy": "2023-10-01T22:51:19.543305Z",
     "iopub.status.idle": "2023-10-01T22:51:19.550694Z",
     "shell.execute_reply": "2023-10-01T22:51:19.550694Z",
     "shell.execute_reply.started": "2023-10-01T22:51:19.543614Z"
    }
   },
   "outputs": [
    {
     "data": {
      "text/plain": [
       "array([[   1.8070013 ,    0.95415594,    1.95168042, ...,    3.00631508,\n",
       "           0.60388017,    0.94273391],\n",
       "       [-545.22174019, -545.94505554, -545.22174019, ..., -545.22174019,\n",
       "        -546.6683709 , -546.6683709 ]])"
      ]
     },
     "execution_count": 237,
     "metadata": {},
     "output_type": "execute_result"
    }
   ],
   "source": [
    "X_multi_norm"
   ]
  },
  {
   "cell_type": "code",
   "execution_count": 247,
   "id": "fb4f257a-e9cb-489f-976a-ec4a1b7a0715",
   "metadata": {
    "execution": {
     "iopub.execute_input": "2023-10-01T23:00:39.208431Z",
     "iopub.status.busy": "2023-10-01T23:00:39.208431Z",
     "iopub.status.idle": "2023-10-01T23:00:39.228681Z",
     "shell.execute_reply": "2023-10-01T23:00:39.228681Z",
     "shell.execute_reply.started": "2023-10-01T23:00:39.208431Z"
    }
   },
   "outputs": [
    {
     "name": "stdout",
     "output_type": "stream",
     "text": [
      "Cost after iteration 0: 0.495685\n",
      "Cost after iteration 1: 0.434471\n",
      "Cost after iteration 2: 0.384786\n",
      "Cost after iteration 3: 0.343807\n",
      "Cost after iteration 4: 0.309833\n",
      "Cost after iteration 5: 0.281621\n",
      "Cost after iteration 6: 0.258182\n",
      "Cost after iteration 7: 0.238705\n",
      "Cost after iteration 8: 0.222519\n",
      "Cost after iteration 9: 0.209068\n",
      "Cost after iteration 10: 0.197890\n",
      "Cost after iteration 11: 0.188600\n",
      "Cost after iteration 12: 0.180881\n",
      "Cost after iteration 13: 0.174465\n",
      "Cost after iteration 14: 0.169134\n",
      "Cost after iteration 15: 0.164704\n",
      "Cost after iteration 16: 0.161022\n",
      "Cost after iteration 17: 0.157962\n",
      "Cost after iteration 18: 0.155419\n",
      "Cost after iteration 19: 0.153306\n",
      "Cost after iteration 20: 0.151550\n",
      "Cost after iteration 21: 0.150091\n",
      "Cost after iteration 22: 0.148878\n",
      "Cost after iteration 23: 0.147870\n",
      "Cost after iteration 24: 0.147033\n",
      "Cost after iteration 25: 0.146337\n",
      "Cost after iteration 26: 0.145758\n",
      "Cost after iteration 27: 0.145277\n",
      "Cost after iteration 28: 0.144878\n",
      "Cost after iteration 29: 0.144546\n",
      "Cost after iteration 30: 0.144270\n",
      "Cost after iteration 31: 0.144041\n",
      "Cost after iteration 32: 0.143850\n",
      "Cost after iteration 33: 0.143692\n",
      "Cost after iteration 34: 0.143561\n",
      "Cost after iteration 35: 0.143451\n",
      "Cost after iteration 36: 0.143360\n",
      "Cost after iteration 37: 0.143285\n",
      "Cost after iteration 38: 0.143222\n",
      "Cost after iteration 39: 0.143170\n",
      "Cost after iteration 40: 0.143127\n",
      "Cost after iteration 41: 0.143091\n",
      "Cost after iteration 42: 0.143061\n",
      "Cost after iteration 43: 0.143036\n",
      "Cost after iteration 44: 0.143015\n",
      "Cost after iteration 45: 0.142998\n",
      "Cost after iteration 46: 0.142984\n",
      "Cost after iteration 47: 0.142972\n",
      "Cost after iteration 48: 0.142962\n",
      "Cost after iteration 49: 0.142954\n",
      "Cost after iteration 50: 0.142947\n",
      "Cost after iteration 51: 0.142941\n",
      "Cost after iteration 52: 0.142937\n",
      "Cost after iteration 53: 0.142933\n",
      "Cost after iteration 54: 0.142929\n",
      "Cost after iteration 55: 0.142927\n",
      "Cost after iteration 56: 0.142924\n",
      "Cost after iteration 57: 0.142923\n",
      "Cost after iteration 58: 0.142921\n",
      "Cost after iteration 59: 0.142920\n",
      "Cost after iteration 60: 0.142919\n",
      "Cost after iteration 61: 0.142918\n",
      "Cost after iteration 62: 0.142917\n",
      "Cost after iteration 63: 0.142916\n",
      "Cost after iteration 64: 0.142916\n",
      "Cost after iteration 65: 0.142915\n",
      "Cost after iteration 66: 0.142915\n",
      "Cost after iteration 67: 0.142915\n",
      "Cost after iteration 68: 0.142915\n",
      "Cost after iteration 69: 0.142914\n",
      "Cost after iteration 70: 0.142914\n",
      "Cost after iteration 71: 0.142914\n",
      "Cost after iteration 72: 0.142914\n",
      "Cost after iteration 73: 0.142914\n",
      "Cost after iteration 74: 0.142914\n",
      "Cost after iteration 75: 0.142914\n",
      "Cost after iteration 76: 0.142914\n",
      "Cost after iteration 77: 0.142914\n",
      "Cost after iteration 78: 0.142914\n",
      "Cost after iteration 79: 0.142914\n",
      "Cost after iteration 80: 0.142914\n",
      "Cost after iteration 81: 0.142913\n",
      "Cost after iteration 82: 0.142913\n",
      "Cost after iteration 83: 0.142913\n",
      "Cost after iteration 84: 0.142913\n",
      "Cost after iteration 85: 0.142913\n",
      "Cost after iteration 86: 0.142913\n",
      "Cost after iteration 87: 0.142913\n",
      "Cost after iteration 88: 0.142913\n",
      "Cost after iteration 89: 0.142913\n",
      "Cost after iteration 90: 0.142913\n",
      "Cost after iteration 91: 0.142913\n",
      "Cost after iteration 92: 0.142913\n",
      "Cost after iteration 93: 0.142913\n",
      "Cost after iteration 94: 0.142913\n",
      "Cost after iteration 95: 0.142913\n",
      "Cost after iteration 96: 0.142913\n",
      "Cost after iteration 97: 0.142913\n",
      "Cost after iteration 98: 0.142913\n",
      "Cost after iteration 99: 0.142913\n",
      "W = [[0.36946143 0.57181678]]\n",
      "b = [[1.284817e-16]]\n"
     ]
    }
   ],
   "source": [
    "### START CODE HERE ### (~ 1 line of code)\n",
    "parameters_multi = nn_model(X_multi_norm, Y_multi_norm, num_iterations=100, print_cost=True)\n",
    "### END CODE HERE ###\n",
    "\n",
    "print(\"W = \" + str(parameters_multi[\"W\"]))\n",
    "print(\"b = \" + str(parameters_multi[\"b\"]))\n",
    "\n",
    "W_multi = parameters_multi[\"W\"]\n",
    "b_multi = parameters_multi[\"b\"]"
   ]
  },
  {
   "cell_type": "markdown",
   "id": "46127fb2-9769-4074-8d49-3ead00916678",
   "metadata": {},
   "source": [
    "##### __Expected Output__ \n",
    "Note: the actual values can be different!\n",
    "\n",
    "```Python\n",
    "Cost after iteration 0: 0.489797\n",
    "Cost after iteration 1: 0.429192\n",
    "Cost after iteration 2: 0.380299\n",
    "Cost after iteration 3: 0.340051\n",
    "Cost after iteration 4: 0.306705\n",
    "Cost after iteration 5: 0.279020\n",
    "...\n",
    "Cost after iteration 95: 0.142913\n",
    "Cost after iteration 96: 0.142913\n",
    "Cost after iteration 97: 0.142913\n",
    "Cost after iteration 98: 0.142913\n",
    "Cost after iteration 99: 0.142913\n",
    "W = [[0.36946186 0.5718172 ]]\n",
    "b = [[1.35781797e-16]]\n",
    "```"
   ]
  },
  {
   "cell_type": "code",
   "execution_count": 173,
   "id": "5def2773-1710-4250-a3d6-ccbf8ef386e7",
   "metadata": {
    "execution": {
     "iopub.execute_input": "2023-10-01T21:37:50.693574Z",
     "iopub.status.busy": "2023-10-01T21:37:50.692573Z",
     "iopub.status.idle": "2023-10-01T21:37:50.703711Z",
     "shell.execute_reply": "2023-10-01T21:37:50.702820Z",
     "shell.execute_reply.started": "2023-10-01T21:37:50.693574Z"
    }
   },
   "outputs": [],
   "source": [
    "# Note: \n",
    "# Actual values are not checked here in the unit tests (due to random initialization).\n",
    "# w3_unittest.test_multi(nn_model, X_multi_norm, Y_multi_norm, parameters_multi)"
   ]
  },
  {
   "cell_type": "markdown",
   "id": "29d0f47c-7246-4fb6-b1e5-3fd856e3bb39",
   "metadata": {},
   "source": [
    "Remember, that the initial datasets were normalized. To make the predictions, you need to normalize the original, calculate predictions with the obtained linear regression coefficients and then **denormalize** the result (perform the reverse process of normalization):"
   ]
  },
  {
   "cell_type": "code",
   "execution_count": 181,
   "id": "b217c93a-6134-4788-8bec-f4fcd13cee7f",
   "metadata": {
    "execution": {
     "iopub.execute_input": "2023-10-01T22:09:06.867074Z",
     "iopub.status.busy": "2023-10-01T22:09:06.865426Z",
     "iopub.status.idle": "2023-10-01T22:09:06.879792Z",
     "shell.execute_reply": "2023-10-01T22:09:06.878791Z",
     "shell.execute_reply.started": "2023-10-01T22:09:06.867074Z"
    }
   },
   "outputs": [],
   "source": [
    "# X_pred_multi-np.array([[1],[1]])"
   ]
  },
  {
   "cell_type": "code",
   "execution_count": 248,
   "id": "d20d7637-4389-415a-a73d-cddb4a11f72d",
   "metadata": {
    "execution": {
     "iopub.execute_input": "2023-10-01T23:01:58.925269Z",
     "iopub.status.busy": "2023-10-01T23:01:58.924269Z",
     "iopub.status.idle": "2023-10-01T23:01:58.936899Z",
     "shell.execute_reply": "2023-10-01T23:01:58.936409Z",
     "shell.execute_reply.started": "2023-10-01T23:01:58.925269Z"
    }
   },
   "outputs": [
    {
     "name": "stdout",
     "output_type": "stream",
     "text": [
      "Ground living area, square feet:\n",
      "[1710 1200 2200]\n",
      "Rates of the overall quality of material and finish, 1-10:\n",
      "[7 6 8]\n",
      "Predictions of sales price, $:\n",
      "[[221371. 160039. 281587.]]\n"
     ]
    }
   ],
   "source": [
    "X_pred_multi = np.array([[1710, 7], [1200, 6], [2200, 8]]).T\n",
    "\n",
    "# Normalize using the same mean and standard deviation of the original training array X_multi.\n",
    "X_multi_mean = np.array(np.mean(X_multi, axis=0)).reshape((2,1))\n",
    "X_multi_std = np.array(np.std(X_multi, axis=0)).reshape((2,1))\n",
    "X_pred_multi_norm = (X_pred_multi - X_multi_mean)/ X_multi_std\n",
    "\n",
    "# Make predictions.\n",
    "Y_pred_multi_norm = np.matmul(W_multi, X_pred_multi_norm) + b_multi\n",
    "# Denormalize using the same mean and standard deviation of the original training array Y_multi.\n",
    "Y_pred_multi = Y_pred_multi_norm * np.std(Y_multi, axis=0) + np.mean(Y_multi, axis=0)\n",
    "\n",
    "print(f\"Ground living area, square feet:\\n{X_pred_multi[0]}\")\n",
    "print(f\"Rates of the overall quality of material and finish, 1-10:\\n{X_pred_multi[1]}\")\n",
    "print(f\"Predictions of sales price, $:\\n{np.round(Y_pred_multi)}\")"
   ]
  },
  {
   "cell_type": "code",
   "execution_count": null,
   "id": "4f6d7cd5-051b-400f-8be8-ef69c99f5fbe",
   "metadata": {},
   "outputs": [],
   "source": []
  },
  {
   "cell_type": "code",
   "execution_count": null,
   "id": "00c11e49-30e6-4abb-9ade-bfea5ffb7c49",
   "metadata": {},
   "outputs": [],
   "source": []
  },
  {
   "cell_type": "markdown",
   "id": "cee9500e-c1bf-453e-a7c9-3d66c92025ac",
   "metadata": {},
   "source": [
    "#  Eigenvalues and Eigenvectors"
   ]
  },
  {
   "cell_type": "code",
   "execution_count": null,
   "id": "3e8e2461-a648-4e12-8837-1297723a2e9f",
   "metadata": {},
   "outputs": [],
   "source": [
    "import numpy as np\n",
    "import matplotlib.pyplot as plt\n"
   ]
  },
  {
   "cell_type": "markdown",
   "id": "e3242bd1-9e37-427c-912d-356bb90fc2f9",
   "metadata": {},
   "source": [
    "## Eigenvalues and Eigenvectors: Definition and Interpretation\n",
    "\n",
    "### 1.1 - Definition of Eigenvalues and Eigenvectors\n",
    "\n",
    "Let's consider a linear transformation defined by matrix $A=\\begin{bmatrix}2 & 3 \\\\ 2 & 1 \\end{bmatrix}$. Apply this transformation to the standard basis vectors $e_1=\\begin{bmatrix}1 \\\\ 0\\end{bmatrix}$ and $e_2=\\begin{bmatrix}0 \\\\ 1\\end{bmatrix}$ and visualize the result (this was covered in details in the previous labs of this Course):"
   ]
  },
  {
   "cell_type": "code",
   "execution_count": 249,
   "id": "4c45d18d-2e18-4c3f-bb5c-4649a6b401d2",
   "metadata": {
    "execution": {
     "iopub.execute_input": "2023-10-01T23:05:36.264345Z",
     "iopub.status.busy": "2023-10-01T23:05:36.264345Z",
     "iopub.status.idle": "2023-10-01T23:05:36.284599Z",
     "shell.execute_reply": "2023-10-01T23:05:36.284599Z",
     "shell.execute_reply.started": "2023-10-01T23:05:36.264345Z"
    }
   },
   "outputs": [],
   "source": [
    "A = np.array([[2, 3],[2, 1]])\n",
    "e1 = np.array([[1],[0]])\n",
    "e2 = np.array([[0],[1]])"
   ]
  },
  {
   "cell_type": "code",
   "execution_count": 297,
   "id": "8f58dd11-a908-4f22-a72c-dc90a246e3d9",
   "metadata": {
    "execution": {
     "iopub.execute_input": "2023-10-01T23:37:10.129189Z",
     "iopub.status.busy": "2023-10-01T23:37:10.129189Z",
     "iopub.status.idle": "2023-10-01T23:37:10.275566Z",
     "shell.execute_reply": "2023-10-01T23:37:10.275069Z",
     "shell.execute_reply.started": "2023-10-01T23:37:10.129189Z"
    }
   },
   "outputs": [
    {
     "data": {
      "image/png": "[encoded data removed]",
      "text/plain": [
       "<Figure size 700x700 with 1 Axes>"
      ]
     },
     "metadata": {},
     "output_type": "display_data"
    }
   ],
   "source": [
    "def plot_transformation(T,v1,v2):\n",
    "    color_original = \"#129cab\"\n",
    "    color_transformed = \"#cc8933\"\n",
    "    \n",
    "    _, ax = plt.subplots(figsize=(7, 7))\n",
    "    ax.tick_params(axis='x', labelsize=14)\n",
    "    ax.tick_params(axis='y', labelsize=14)\n",
    "    ax.set_xticks(np.arange(-6, 6))\n",
    "    ax.set_yticks(np.arange(-6, 6))\n",
    "    \n",
    "    plt.axis([-6, 6, -6, 6])\n",
    "    plt.quiver([0, 0],[0, 0], [v1[0], v2[0]], [v1[1], v2[1]], color=color_original, angles='xy', scale_units='xy', scale=1)\n",
    "    plt.plot([[0],v2[0],v1[0]+v2[0],v1[0]], \n",
    "        [[0],v2[1],v1[1]+v2[1],v1[1]], \n",
    "        color=color_original)\n",
    "    v1_sgn = 0.4 * np.array([N[1] if [i]==0 else [i] for i in np.sign(v1)])\n",
    "    ax.text(v1[0]-0.2+v1_sgn[0], v1[1]-0.2+v1_sgn[1], f'$v_1$', fontsize=14, color=color_original)\n",
    "    v2_sgn = 0.4 * np.array([[1] if [i]==0 else [i] for i in np.sign(v2)])\n",
    "    ax.text(v2[0]-0.2+v2_sgn[0], v2[1]-0.2+v2_sgn[1], f'$v_2$', fontsize=14, color=color_original)\n",
    "    \n",
    "    v1_transformed = T @ v1\n",
    "    v2_transformed = T @ v2\n",
    "    \n",
    "    plt.quiver([0, 0],[0, 0], [v1_transformed[0], v2_transformed[0]], [v1_transformed[1], v2_transformed[1]], \n",
    "               color=color_transformed, angles='xy', scale_units='xy', scale=1)\n",
    "    plt.plot([[0],v2_transformed[0],v1_transformed[0]+v2_transformed[0],v1_transformed[0]], \n",
    "             [[0],v2_transformed[1],v1_transformed[1]+v2_transformed[1],v1_transformed[1]], \n",
    "             color=color_transformed)\n",
    "    v1_transformed_sgn = 0.4 * np.array([[1] if [i]==0 else [i] for i in np.sign(v1_transformed)])\n",
    "    ax.text(v1_transformed[0]-0.2+v1_transformed_sgn[0], v1_transformed[1]-v1_transformed_sgn[1], \n",
    "            f'$T(v_1)$', fontsize=14, color=color_transformed)\n",
    "    v2_transformed_sgn = 0.4 * np.array([[1] if [i]==0 else [i] for i in np.sign(v2_transformed)])\n",
    "    ax.text(v2_transformed[0]-0.2+v2_transformed_sgn[0], v2_transformed[1]-v2_transformed_sgn[1], \n",
    "            f'$T(v_2)$', fontsize=14, color=color_transformed)\n",
    "    \n",
    "    \n",
    "    plt.gca().set_aspect(\"equal\")\n",
    "    plt.show()\n",
    "    \n",
    "plot_transformation(A, e1, e2)"
   ]
  },
  {
   "cell_type": "markdown",
   "id": "3d2145fb-f596-44ca-aa47-d78c4e11d33f",
   "metadata": {},
   "source": [
    "Both of the original basis vectors $e_1$ and $e_2$ (shown as $v_1$ and $v_2$ on the plot) changed their length and direction with the transformation $A$. What if you can choose some other basis vectors, where only their length will change? For the vector $v$, its transformation will be $Av=\\lambda v$. Vector $v$ will be called **eigenvector** and scaling factor $\\lambda$ will be called **eigenvalue**.\n",
    "\n",
    "Note, that if $v$ is an eigenvector, so that $Av = \\lambda v$, then any vector $kv$ ($k\\in\\mathbb{R}, k\\neq 0$) is also an eigenvector with the same eigenvalue: $A(kv)=k(Av)=k \\lambda v = \\lambda (kv)$. Geometrically, in $\\mathbb{R}^2$ this means that there are infinitely many eigenvectors corresponding to one eigenvalue, they are on the same straight line. And usually just one can be chosen as an eigenvector. "
   ]
  },
  {
   "cell_type": "markdown",
   "id": "1b389a2d-a8e4-4e46-890d-926bfedd427c",
   "metadata": {},
   "source": [
    "### Finding Eigenvalues and Eigenvectors with Python"
   ]
  },
  {
   "cell_type": "markdown",
   "id": "8ce264f4-46a1-4d65-b469-1f3800dee2df",
   "metadata": {},
   "source": [
    "In Python eigenvalues and eigenvectors can be found using the `NumPy` function `np.linalg.eig()`. It returns a tuple consisting of a vector and an array. The vector contains the eigenvalues. The array contains the corresponding eigenvectors, one eigenvector per column. The eigenvectors chosen are the normalized ones, so their norms are 1.\n",
    "\n",
    "With the following code you can find an eigenvalues and eigenvectors for the previously defined matrix $A$:"
   ]
  },
  {
   "cell_type": "code",
   "execution_count": 266,
   "id": "de87226f-a07a-43e1-8de3-04240ce18c7c",
   "metadata": {
    "execution": {
     "iopub.execute_input": "2023-10-01T23:19:16.500372Z",
     "iopub.status.busy": "2023-10-01T23:19:16.499376Z",
     "iopub.status.idle": "2023-10-01T23:19:16.509692Z",
     "shell.execute_reply": "2023-10-01T23:19:16.508449Z",
     "shell.execute_reply.started": "2023-10-01T23:19:16.499376Z"
    }
   },
   "outputs": [
    {
     "name": "stdout",
     "output_type": "stream",
     "text": [
      "Matrix A:\n",
      " [[2 3]\n",
      " [2 1]] \n",
      "\n",
      " Eigenvalues and eigenvectors of matrix A:\n",
      " EigResult(eigenvalues=array([ 4., -1.]), eigenvectors=array([[ 0.83205029, -0.70710678],\n",
      "       [ 0.5547002 ,  0.70710678]]))\n"
     ]
    }
   ],
   "source": [
    "A_eig = np.linalg.eig(A)\n",
    "\n",
    "print(\"Matrix A:\\n\", A, \"\\n\\n Eigenvalues and eigenvectors of matrix A:\\n\", A_eig)"
   ]
  },
  {
   "cell_type": "code",
   "execution_count": 269,
   "id": "f47d110b-ded8-461b-a557-97766ef2d83d",
   "metadata": {
    "execution": {
     "iopub.execute_input": "2023-10-01T23:20:01.270651Z",
     "iopub.status.busy": "2023-10-01T23:20:01.269150Z",
     "iopub.status.idle": "2023-10-01T23:20:01.285302Z",
     "shell.execute_reply": "2023-10-01T23:20:01.284301Z",
     "shell.execute_reply.started": "2023-10-01T23:20:01.270149Z"
    }
   },
   "outputs": [
    {
     "data": {
      "text/plain": [
       "EigResult(eigenvalues=array([ 4., -1.]), eigenvectors=array([[ 0.83205029, -0.70710678],\n",
       "       [ 0.5547002 ,  0.70710678]]))"
      ]
     },
     "execution_count": 269,
     "metadata": {},
     "output_type": "execute_result"
    }
   ],
   "source": [
    "A_eig"
   ]
  },
  {
   "cell_type": "markdown",
   "id": "8194ba96-2054-481a-b976-bcb20387b5e2",
   "metadata": {},
   "source": [
    "First eigenvector can be extrancted with the code `A_eig[1][:,0]` and second eigenvector with the code `A_eig[1][:,1]`. Let's visualize the result of the transformation:"
   ]
  },
  {
   "cell_type": "code",
   "execution_count": 280,
   "id": "02d68c60-bb9c-4339-9ffe-7171b295e803",
   "metadata": {
    "execution": {
     "iopub.execute_input": "2023-10-01T23:26:59.096791Z",
     "iopub.status.busy": "2023-10-01T23:26:59.095791Z",
     "iopub.status.idle": "2023-10-01T23:26:59.102405Z",
     "shell.execute_reply": "2023-10-01T23:26:59.101904Z",
     "shell.execute_reply.started": "2023-10-01T23:26:59.096791Z"
    }
   },
   "outputs": [
    {
     "data": {
      "text/plain": [
       "array([0.83205029, 0.5547002 ])"
      ]
     },
     "execution_count": 280,
     "metadata": {},
     "output_type": "execute_result"
    }
   ],
   "source": [
    "A_eig[1][:,0]"
   ]
  },
  {
   "cell_type": "code",
   "execution_count": 282,
   "id": "f915ef93-66ee-437b-9b11-987964aed57f",
   "metadata": {
    "execution": {
     "iopub.execute_input": "2023-10-01T23:27:15.609233Z",
     "iopub.status.busy": "2023-10-01T23:27:15.609233Z",
     "iopub.status.idle": "2023-10-01T23:27:15.629165Z",
     "shell.execute_reply": "2023-10-01T23:27:15.627893Z",
     "shell.execute_reply.started": "2023-10-01T23:27:15.609233Z"
    }
   },
   "outputs": [
    {
     "data": {
      "text/plain": [
       "array([0.83205029, 0.5547002 ])"
      ]
     },
     "execution_count": 282,
     "metadata": {},
     "output_type": "execute_result"
    }
   ],
   "source": [
    "(A_eig[1][:,0]).T"
   ]
  },
  {
   "cell_type": "code",
   "execution_count": 283,
   "id": "2ff51129-271d-4a92-9b8d-9b6e54bb7ed9",
   "metadata": {
    "execution": {
     "iopub.execute_input": "2023-10-01T23:27:51.424302Z",
     "iopub.status.busy": "2023-10-01T23:27:51.424302Z",
     "iopub.status.idle": "2023-10-01T23:27:51.437090Z",
     "shell.execute_reply": "2023-10-01T23:27:51.436172Z",
     "shell.execute_reply.started": "2023-10-01T23:27:51.424302Z"
    }
   },
   "outputs": [
    {
     "data": {
      "text/plain": [
       "array([[0.83205029],\n",
       "       [0.5547002 ]])"
      ]
     },
     "execution_count": 283,
     "metadata": {},
     "output_type": "execute_result"
    }
   ],
   "source": [
    "np.transpose([A_eig[1][:,0]])"
   ]
  },
  {
   "cell_type": "code",
   "execution_count": 284,
   "id": "6800a6d3-993c-4250-a270-e948f68c8316",
   "metadata": {
    "execution": {
     "iopub.execute_input": "2023-10-01T23:28:40.531040Z",
     "iopub.status.busy": "2023-10-01T23:28:40.531040Z",
     "iopub.status.idle": "2023-10-01T23:28:40.545139Z",
     "shell.execute_reply": "2023-10-01T23:28:40.544280Z",
     "shell.execute_reply.started": "2023-10-01T23:28:40.531040Z"
    }
   },
   "outputs": [
    {
     "data": {
      "text/plain": [
       "array([[-0.70710678],\n",
       "       [ 0.70710678]])"
      ]
     },
     "execution_count": 284,
     "metadata": {},
     "output_type": "execute_result"
    }
   ],
   "source": [
    "np.transpose([A_eig[1][:,1]])"
   ]
  },
  {
   "cell_type": "code",
   "execution_count": 286,
   "id": "c92ab893-9ef1-47e8-add1-be08f1aea91d",
   "metadata": {
    "execution": {
     "iopub.execute_input": "2023-10-01T23:29:07.921662Z",
     "iopub.status.busy": "2023-10-01T23:29:07.919662Z",
     "iopub.status.idle": "2023-10-01T23:29:08.066044Z",
     "shell.execute_reply": "2023-10-01T23:29:08.064982Z",
     "shell.execute_reply.started": "2023-10-01T23:29:07.921662Z"
    }
   },
   "outputs": [
    {
     "data": {
      "image/png": "[encoded data removed]",
      "text/plain": [
       "<Figure size 700x700 with 1 Axes>"
      ]
     },
     "metadata": {},
     "output_type": "display_data"
    }
   ],
   "source": [
    "plot_transformation(A, \n",
    "                    np.transpose([A_eig[1][:,0]]), \n",
    "                    np.transpose([A_eig[1][:,1]]))"
   ]
  },
  {
   "cell_type": "markdown",
   "id": "0ef3d217-b521-4588-ac35-6c0efce3b70b",
   "metadata": {},
   "source": [
    "You can see that now that this linear transformation can be interpreted as a stretch in the direction of the eigenvector $v_1$ and change of the direction for the vector $v_2$."
   ]
  },
  {
   "cell_type": "markdown",
   "id": "80655c98-8756-4c5e-b53f-0c33596b5741",
   "metadata": {},
   "source": [
    "## Eigenvalues and Eigenvectors of the Standard Transformations in a Plane"
   ]
  },
  {
   "cell_type": "markdown",
   "id": "21ec1689-ab0d-4e76-8994-43653e573c73",
   "metadata": {},
   "source": [
    "### Exercise 1\n",
    "\n",
    "Complete matrix `A_reflection_yaxis`, which corresponds to the reflection about y-axis, and find its eigenvalues and eigenvectors. Visualize the result and investigate it. How would you interpret this linear transformation in terms of the eigenvectors and thier eigenvalues?"
   ]
  },
  {
   "cell_type": "code",
   "execution_count": 291,
   "id": "617d204e-29a0-4607-b1b9-fc0592c508ee",
   "metadata": {
    "execution": {
     "iopub.execute_input": "2023-10-01T23:33:20.073741Z",
     "iopub.status.busy": "2023-10-01T23:33:20.073741Z",
     "iopub.status.idle": "2023-10-01T23:33:20.090318Z",
     "shell.execute_reply": "2023-10-01T23:33:20.089392Z",
     "shell.execute_reply.started": "2023-10-01T23:33:20.073741Z"
    }
   },
   "outputs": [
    {
     "data": {
      "text/plain": [
       "array([[0.],\n",
       "       [1.]])"
      ]
     },
     "execution_count": 291,
     "metadata": {},
     "output_type": "execute_result"
    }
   ],
   "source": [
    "np.transpose([A_reflection_yaxis_eig[1][:,1]])"
   ]
  },
  {
   "cell_type": "code",
   "execution_count": 292,
   "id": "b0916a47-8795-4adc-86bf-bae82f173f80",
   "metadata": {
    "execution": {
     "iopub.execute_input": "2023-10-01T23:34:14.922154Z",
     "iopub.status.busy": "2023-10-01T23:34:14.922154Z",
     "iopub.status.idle": "2023-10-01T23:34:14.930220Z",
     "shell.execute_reply": "2023-10-01T23:34:14.930220Z",
     "shell.execute_reply.started": "2023-10-01T23:34:14.922154Z"
    }
   },
   "outputs": [
    {
     "data": {
      "text/plain": [
       "array([[-1,  0],\n",
       "       [ 0,  1]])"
      ]
     },
     "execution_count": 292,
     "metadata": {},
     "output_type": "execute_result"
    }
   ],
   "source": [
    "A_reflection_yaxis"
   ]
  },
  {
   "cell_type": "code",
   "execution_count": 293,
   "id": "c17bec4f-63e3-46db-ae24-1bccdb38647c",
   "metadata": {
    "execution": {
     "iopub.execute_input": "2023-10-01T23:36:02.436672Z",
     "iopub.status.busy": "2023-10-01T23:36:02.436672Z",
     "iopub.status.idle": "2023-10-01T23:36:02.467331Z",
     "shell.execute_reply": "2023-10-01T23:36:02.467331Z",
     "shell.execute_reply.started": "2023-10-01T23:36:02.436672Z"
    }
   },
   "outputs": [
    {
     "data": {
      "text/plain": [
       "array([[2, 3],\n",
       "       [2, 1]])"
      ]
     },
     "execution_count": 293,
     "metadata": {},
     "output_type": "execute_result"
    }
   ],
   "source": [
    "A"
   ]
  },
  {
   "cell_type": "code",
   "execution_count": 298,
   "id": "55ec0ec1-a5c5-4010-8d07-55508a9e37e9",
   "metadata": {
    "execution": {
     "iopub.execute_input": "2023-10-01T23:37:18.125684Z",
     "iopub.status.busy": "2023-10-01T23:37:18.125684Z",
     "iopub.status.idle": "2023-10-01T23:37:18.279653Z",
     "shell.execute_reply": "2023-10-01T23:37:18.279653Z",
     "shell.execute_reply.started": "2023-10-01T23:37:18.125684Z"
    }
   },
   "outputs": [
    {
     "name": "stdout",
     "output_type": "stream",
     "text": [
      "Matrix A_reflection_yaxis:\n",
      " [[-1  0]\n",
      " [ 0  1]] \n",
      "\n",
      " Eigenvalues and eigenvectors of matrix A_reflection_yaxis:\n",
      " EigResult(eigenvalues=array([-1.,  1.]), eigenvectors=array([[1., 0.],\n",
      "       [0., 1.]]))\n"
     ]
    },
    {
     "data": {
      "image/png": "[encoded data removed]",
      "text/plain": [
       "<Figure size 700x700 with 1 Axes>"
      ]
     },
     "metadata": {},
     "output_type": "display_data"
    }
   ],
   "source": [
    "### START CODE HERE ###\n",
    "# Define transformation matrix A_reflection_yaxis as a numpy array.\n",
    "A_reflection_yaxis = np.array([[-1, 0],[0, 1]])\n",
    "# Find eigenvalues and eigenvectors or matrix A_reflection_yaxis.\n",
    "A_reflection_yaxis_eig = np.linalg.eig(A_reflection_yaxis)\n",
    "### END CODE HERE ###\n",
    "\n",
    "print(\"Matrix A_reflection_yaxis:\\n\", A_reflection_yaxis, \n",
    "      \"\\n\\n Eigenvalues and eigenvectors of matrix A_reflection_yaxis:\\n\", A_reflection_yaxis_eig)\n",
    "plot_transformation(A_reflection_yaxis, \n",
    "                     np.transpose([A_reflection_yaxis_eig[1][:,0]]), \n",
    "                     np.transpose([A_reflection_yaxis_eig[1][:,1]])\n",
    "                   )"
   ]
  },
  {
   "cell_type": "markdown",
   "id": "385a9ba8-08a7-472b-8d7b-514cc58ea200",
   "metadata": {},
   "source": [
    "It would be a natural question to ask, is it always possible to find two different eigenvectors for any linear transformation in $\\mathbb{R}^2$? Well, unfortunately not. You can see the following example."
   ]
  },
  {
   "cell_type": "markdown",
   "id": "b495ba9e-574b-4644-99a9-e6c3117b6d24",
   "metadata": {},
   "source": [
    "### 2.2 - Example 2: Shear in x-direction"
   ]
  },
  {
   "cell_type": "markdown",
   "id": "59e441b8-0d1e-4127-92a8-8a3ca8c84084",
   "metadata": {},
   "source": [
    "### Exercise 2\n",
    "\n",
    "Complete matrix `A_shear_x`, which corresponds to the shear in x-direction with a scalar $0.5$. It can be visualized as: \n",
    "\n",
    "<img src = \"shear_transformation.png\" width=\"400\" align=\"center\"/>\n",
    "\n",
    "Find eigenvalues and eigenvectors of matrix `A_shear_x`. Visualize the transformation applied to the found eigenvectors.\n",
    "\n",
    "<details>    \n",
    "<summary>\n",
    "    <font size=\"3\" color=\"darkgreen\"><b>Hint</b></font>\n",
    "</summary>\n",
    "<p>\n",
    "<ul>\n",
    "    Vector $e_1=\\begin{bmatrix}1 \\\\ 0\\end{bmatrix}$ will remain the same, and vector $e_2=\\begin{bmatrix}0 \\\\ 1\\end{bmatrix}$ will transform into a vector $\\begin{bmatrix}0.5 \\\\ 1\\end{bmatrix}$.\n",
    "</ul>\n",
    "</p>"
   ]
  },
  {
   "cell_type": "code",
   "execution_count": 301,
   "id": "6a5a12bd-58fe-48df-b164-2024f617463e",
   "metadata": {
    "execution": {
     "iopub.execute_input": "2023-10-01T23:39:28.653745Z",
     "iopub.status.busy": "2023-10-01T23:39:28.653745Z",
     "iopub.status.idle": "2023-10-01T23:39:28.818109Z",
     "shell.execute_reply": "2023-10-01T23:39:28.816326Z",
     "shell.execute_reply.started": "2023-10-01T23:39:28.653745Z"
    }
   },
   "outputs": [
    {
     "name": "stdout",
     "output_type": "stream",
     "text": [
      "Matrix A_shear_x:\n",
      " [[1.  0.5]\n",
      " [0.  1. ]] \n",
      "\n",
      " Eigenvalues and eigenvectors of matrix A_shear_x:\n",
      " EigResult(eigenvalues=array([1., 1.]), eigenvectors=array([[ 1.0000000e+00, -1.0000000e+00],\n",
      "       [ 0.0000000e+00,  4.4408921e-16]]))\n"
     ]
    },
    {
     "data": {
      "image/png": "[encoded data removed]",
      "text/plain": [
       "<Figure size 700x700 with 1 Axes>"
      ]
     },
     "metadata": {},
     "output_type": "display_data"
    }
   ],
   "source": [
    "### START CODE HERE ###\n",
    "# Define transformation matrix A_shear_x as a numpy array.\n",
    "A_shear_x = np.array([[1, 0.5],[0, 1]])\n",
    "# Find eigenvalues and eigenvectors or matrix A_reflection_yaxis.\n",
    "A_shear_x_eig = np.linalg.eig(A_shear_x)\n",
    "### END CODE HERE ###\n",
    "\n",
    "print(\"Matrix A_shear_x:\\n\", A_shear_x, \n",
    "      \"\\n\\n Eigenvalues and eigenvectors of matrix A_shear_x:\\n\", A_shear_x_eig)\n",
    "plot_transformation(A_shear_x, \n",
    "                    np.transpose([A_shear_x_eig[1][:,0]]), \n",
    "                    np.transpose([A_shear_x_eig[1][:,1]]))"
   ]
  },
  {
   "cell_type": "markdown",
   "id": "f174a862-6d42-41a0-b684-5e090acd22e4",
   "metadata": {},
   "source": [
    "There are two eigenvalues $\\lambda  =1$, that are equal to each other. Thus, shear transformation has only one eigenvector. Here there is no change in the x-direction, and any other vector outside of the $Ox$ line will be sheared, so they cannot be eigenvectors. This is an example of $2 \\times 2$ matrix with only one eigenvector.\n",
    "\n",
    "Now you might have asked yourself, are there any linear transformations in $\\mathbb{R}^2$ with no eigenvectors?"
   ]
  },
  {
   "cell_type": "markdown",
   "id": "87e62d59-4287-4613-bff4-9531c91ef727",
   "metadata": {},
   "source": [
    "### Example 3: Rotation\n",
    "\n",
    "Rotation by $90$ degrees clockwise can be defined by matrix $A_{rotation}=\\begin{bmatrix}0 & 1 \\\\ -1 & 0 \\end{bmatrix}$. Find its eigenvalues and eigenvectors:"
   ]
  },
  {
   "cell_type": "code",
   "execution_count": 302,
   "id": "325787a7-f5e3-4993-be71-73f406415a00",
   "metadata": {
    "execution": {
     "iopub.execute_input": "2023-10-01T23:41:16.850389Z",
     "iopub.status.busy": "2023-10-01T23:41:16.850389Z",
     "iopub.status.idle": "2023-10-01T23:41:16.867481Z",
     "shell.execute_reply": "2023-10-01T23:41:16.866116Z",
     "shell.execute_reply.started": "2023-10-01T23:41:16.850389Z"
    }
   },
   "outputs": [
    {
     "name": "stdout",
     "output_type": "stream",
     "text": [
      "Matrix A_rotation:\n",
      " [[ 0  1]\n",
      " [-1  0]] \n",
      "\n",
      " Eigenvalues and eigenvectors of matrix A_rotation:\n",
      " EigResult(eigenvalues=array([0.+1.j, 0.-1.j]), eigenvectors=array([[0.70710678+0.j        , 0.70710678-0.j        ],\n",
      "       [0.        +0.70710678j, 0.        -0.70710678j]]))\n"
     ]
    }
   ],
   "source": [
    "A_rotation = np.array([[0, 1],[-1, 0]])\n",
    "A_rotation_eig = np.linalg.eig(A_rotation)\n",
    "\n",
    "print(\"Matrix A_rotation:\\n\", A_rotation, \n",
    "      \"\\n\\n Eigenvalues and eigenvectors of matrix A_rotation:\\n\", A_rotation_eig)"
   ]
  },
  {
   "cell_type": "markdown",
   "id": "cab4cd50-d18e-49da-b0e8-448e2d0e0c98",
   "metadata": {},
   "source": [
    "There are two eigenvalues in the output, but they are actually complex numbers. So, there are no *real* eigenvalues ($\\lambda\\notin\\mathbb{R}$), which means there will be no vectors that will keep their direction with this transformation. This makes sense for the rotation 90 degress, doesn't it?"
   ]
  },
  {
   "cell_type": "markdown",
   "id": "885cce6e-4a3e-481a-b848-d8a1cdc1c833",
   "metadata": {},
   "source": [
    "\n",
    "### Example 4: Identity Matrix and Scaling in All Directions\n",
    "\n",
    "Now you can investigate some other examples. What if you take identity matrix? This means that there will be no change to any vector in the plane - all of the vectors can be considered as eigenvectors."
   ]
  },
  {
   "cell_type": "code",
   "execution_count": 303,
   "id": "336efe2c-c485-4d4d-9a58-14a24d4aa6db",
   "metadata": {
    "execution": {
     "iopub.execute_input": "2023-10-01T23:42:06.959292Z",
     "iopub.status.busy": "2023-10-01T23:42:06.958223Z",
     "iopub.status.idle": "2023-10-01T23:42:06.976393Z",
     "shell.execute_reply": "2023-10-01T23:42:06.974810Z",
     "shell.execute_reply.started": "2023-10-01T23:42:06.959292Z"
    }
   },
   "outputs": [
    {
     "name": "stdout",
     "output_type": "stream",
     "text": [
      "Matrix A_identity:\n",
      " [[1 0]\n",
      " [0 1]] \n",
      "\n",
      " Eigenvalues and eigenvectors of matrix A_identity:\n",
      " EigResult(eigenvalues=array([1., 1.]), eigenvectors=array([[1., 0.],\n",
      "       [0., 1.]]))\n"
     ]
    }
   ],
   "source": [
    "A_identity = np.array([[1, 0],[0, 1]])\n",
    "A_identity_eig = np.linalg.eig(A_identity)\n",
    "\n",
    "print(\"Matrix A_identity:\\n\", A_identity, \n",
    "      \"\\n\\n Eigenvalues and eigenvectors of matrix A_identity:\\n\", A_identity_eig)"
   ]
  },
  {
   "cell_type": "markdown",
   "id": "ff5efeb6-ac05-4118-a4e6-02fc8bccda21",
   "metadata": {},
   "source": [
    "The out of the `np.linalg.eig()` function shows that there are two eigenvalues that are equal to each other $\\lambda = 1$, which is true. But the list of eigenvectors does not cover all of them. It can be show algebraically that all of the vectors will be eigenvectors for identity matrix. Using software, you can't see it sometimes - be careful! That's why understanding of mathematical objects behind your codes and models is so important.\n",
    "\n",
    "Check that the same will happen finding eigenvectors for the scaling (dilation) in both directions x and y by factor $2$:"
   ]
  },
  {
   "cell_type": "code",
   "execution_count": 304,
   "id": "603d3cc9-5f5d-4aa1-bcba-022d2a3fab01",
   "metadata": {
    "execution": {
     "iopub.execute_input": "2023-10-01T23:42:43.345912Z",
     "iopub.status.busy": "2023-10-01T23:42:43.344667Z",
     "iopub.status.idle": "2023-10-01T23:42:43.362038Z",
     "shell.execute_reply": "2023-10-01T23:42:43.360966Z",
     "shell.execute_reply.started": "2023-10-01T23:42:43.345912Z"
    }
   },
   "outputs": [
    {
     "name": "stdout",
     "output_type": "stream",
     "text": [
      "Matrix A_scaling:\n",
      " [[2 0]\n",
      " [0 2]] \n",
      "\n",
      " Eigenvalues and eigenvectors of matrix A_scaling:\n",
      " EigResult(eigenvalues=array([2., 2.]), eigenvectors=array([[1., 0.],\n",
      "       [0., 1.]]))\n"
     ]
    }
   ],
   "source": [
    "A_scaling = np.array([[2, 0],[0, 2]])\n",
    "A_scaling_eig = np.linalg.eig(A_scaling)\n",
    "\n",
    "print(\"Matrix A_scaling:\\n\", A_scaling, \n",
    "      \"\\n\\n Eigenvalues and eigenvectors of matrix A_scaling:\\n\", A_scaling_eig)"
   ]
  },
  {
   "cell_type": "markdown",
   "id": "b62be84b-b2e1-431d-8afd-10ef559fad04",
   "metadata": {},
   "source": [
    "\n",
    "### Example 5: Projection onto x-axis"
   ]
  },
  {
   "cell_type": "markdown",
   "id": "3cefbd8c-6c6f-4866-b305-0e6d7371854c",
   "metadata": {},
   "source": [
    "You can investigate some more interesting examples, e.g. projection onto x-axis $A_{projection}=\\begin{bmatrix}1 & 0 \\\\ 0 & 0 \\end{bmatrix}$ has two real eigenvalues, and one of them is equal to $0$. There is nothing wrong with it, $\\lambda$ can be equal to $0$! The transformation still has two eigenvectors."
   ]
  },
  {
   "cell_type": "code",
   "execution_count": 305,
   "id": "9ac29c03-b11f-47ce-8bc3-b5cdef82841e",
   "metadata": {
    "execution": {
     "iopub.execute_input": "2023-10-01T23:43:27.493941Z",
     "iopub.status.busy": "2023-10-01T23:43:27.492948Z",
     "iopub.status.idle": "2023-10-01T23:43:27.504432Z",
     "shell.execute_reply": "2023-10-01T23:43:27.502027Z",
     "shell.execute_reply.started": "2023-10-01T23:43:27.493941Z"
    }
   },
   "outputs": [
    {
     "name": "stdout",
     "output_type": "stream",
     "text": [
      "Matrix A_projection:\n",
      " [[1 0]\n",
      " [0 0]] \n",
      "\n",
      " Eigenvalues and eigenvectors of matrix A_projection:\n",
      " EigResult(eigenvalues=array([1., 0.]), eigenvectors=array([[1., 0.],\n",
      "       [0., 1.]]))\n"
     ]
    }
   ],
   "source": [
    "A_projection = np.array([[1, 0],[0, 0]])\n",
    "A_projection_eig = np.linalg.eig(A_projection)\n",
    "\n",
    "print(\"Matrix A_projection:\\n\", A_projection, \n",
    "      \"\\n\\n Eigenvalues and eigenvectors of matrix A_projection:\\n\", A_projection_eig)"
   ]
  },
  {
   "cell_type": "markdown",
   "id": "8452d7c0-fcaa-4ab9-8b19-242e3e4cbb0b",
   "metadata": {},
   "source": [
    "Now you know how to find eigenvalues and eigenvectors. Let's have a look at one of their applications."
   ]
  },
  {
   "cell_type": "markdown",
   "id": "51f5ae53-44ae-4ba1-aa66-0b539e589572",
   "metadata": {},
   "source": [
    "\n",
    "## Application of Eigenvalues and Eigenvectors: Navigating Webpages\n",
    "\n",
    "Multiple components describing some structure can be organized as a single vector. If the state of the structure is changing in time due to some process, the vector is referred as a **state vector**. Such dynamic processes are often modeled at discrete times calculating the state vector as a linear transformation of a previous state vector. This model is called a **discrete dynamical system**. \n",
    "\n",
    "Starting with an initial state $X_0$, the transition to the next state $X_1$ is a linear transformation defined with a matrix $P$: $X_1=PX_0$. That leads to $X_2=PX_1=P^2X_0$, $X_3=P^3X_0$, and so on. This implies that $X_t=PX_{t-1}$ for $t=0,1,2,3,\\ldots$.\n",
    "\n",
    "A discrete dynamical system can be used to model browsing web pages. Web pages often contain links to other pages, for simplicity assume that the browser is only following links to a new page rather than navigating to an unlinked one. \n",
    "\n",
    "Let the probabilities that the browser is on a particular page at time $t$ be a state vector $X_t$. Navigation from one page to another advances the model from one state vector $X_{t-1}$ to another state vector $X_t$. A linear transformation, defined by a matrix $P$, will have entries $a_{ij}$ with the probabilities that the browser navigates to page $i$ from page $j$. For fixed column $j$, the entries represent a probability distribution describing location of the browser at the next step. Thus, the entries in each column must add to one."
   ]
  },
  {
   "cell_type": "code",
   "execution_count": null,
   "id": "319cb7bf-99bc-42e4-8db3-95dd9e4b3b79",
   "metadata": {},
   "outputs": [],
   "source": []
  },
  {
   "cell_type": "markdown",
   "id": "9ec75b6f-81fa-4bab-85f7-f6e655921344",
   "metadata": {},
   "source": [
    "\n",
    "### Exercise 3\n",
    "\n",
    "Set matrix $P$ for a small number of pages $n=5$. All elements on the main diagonal should be equal to $0$, and the entries in each column must add to one. Here is an example of such a matrix for $n=4$:\n",
    "\n",
    "$$P=\n",
    "\\begin{bmatrix}\n",
    "0 & 0.75 & 0.35 & 0.85 \\\\\n",
    "0.15 & 0 & 0.35 & 0.05 \\\\\n",
    "0.30 & 0.20 & 0 & 0.1 \\\\\n",
    "0.55 & 0.05 & 0.30 & 0\n",
    "\\end{bmatrix}\\tag{5}\n",
    "$$\n",
    "\n",
    "Define vector $X_0$, so the browser starts navigation at page $4$ ($X_0$ is a vector with a single entry equal to one, and all other entries equal to zero). Apply the transformation once: $X_1=PX_0$ to find a vector of the probabilities that the browser is at each of five pages."
   ]
  },
  {
   "cell_type": "code",
   "execution_count": 306,
   "id": "8d8d1b45-5dfb-4763-85dc-b33b191a7090",
   "metadata": {
    "execution": {
     "iopub.execute_input": "2023-10-01T23:44:55.216517Z",
     "iopub.status.busy": "2023-10-01T23:44:55.216169Z",
     "iopub.status.idle": "2023-10-01T23:44:55.222117Z",
     "shell.execute_reply": "2023-10-01T23:44:55.221617Z",
     "shell.execute_reply.started": "2023-10-01T23:44:55.216517Z"
    }
   },
   "outputs": [
    {
     "name": "stdout",
     "output_type": "stream",
     "text": [
      "[1. 1. 1. 1. 1.]\n"
     ]
    }
   ],
   "source": [
    "### START CODE HERE ###\n",
    "# Based on the example above for n=4 define matrix P for n=5, \n",
    "# such that all elements on the main diagonal should be equal to 0, \n",
    "# and the entries in each column must add to one.\n",
    "P = np.array([    \n",
    "    [0.00, 0.25, 0.25, 0.25, 0.25],\n",
    "    [0.25, 0.00, 0.25, 0.25, 0.25],\n",
    "    [0.25, 0.25, 0.00, 0.25, 0.25],\n",
    "    [0.25, 0.25, 0.25, 0.00, 0.25],\n",
    "    [0.25, 0.25, 0.25, 0.25, 0.00]\n",
    "]) \n",
    "X0 = np.array([[0], [0], [0], [1], [0]])\n",
    "# Multiply matrix P and X_0 (matrix multiplication).\n",
    "X1 = P @ X0\n",
    "\n",
    "### END CODE HERE ###\n",
    "print(sum(P))"
   ]
  },
  {
   "cell_type": "markdown",
   "id": "cfc182c6-7ad0-4c2b-99df-88ebf585ffe4",
   "metadata": {},
   "source": [
    "Applying the transformation $m$ times you can find a vector $X_m$ with the probabilities of the browser being at each of the pages after $m$ steps of navigation."
   ]
  },
  {
   "cell_type": "code",
   "execution_count": 307,
   "id": "fbc5fc64-7dc5-46e7-9be5-3c406967a5e9",
   "metadata": {
    "execution": {
     "iopub.execute_input": "2023-10-01T23:45:17.523983Z",
     "iopub.status.busy": "2023-10-01T23:45:17.522891Z",
     "iopub.status.idle": "2023-10-01T23:45:17.543692Z",
     "shell.execute_reply": "2023-10-01T23:45:17.542692Z",
     "shell.execute_reply.started": "2023-10-01T23:45:17.523983Z"
    }
   },
   "outputs": [
    {
     "name": "stdout",
     "output_type": "stream",
     "text": [
      "[[0.2]\n",
      " [0.2]\n",
      " [0.2]\n",
      " [0.2]\n",
      " [0.2]]\n"
     ]
    }
   ],
   "source": [
    "X = np.array([[0],[0],[0],[1],[0]])\n",
    "m = 20\n",
    "\n",
    "for t in range(m):\n",
    "    X = P @ X\n",
    "    \n",
    "print(X)"
   ]
  },
  {
   "cell_type": "markdown",
   "id": "ff7ced4d-af0c-4949-8691-255fca4c7317",
   "metadata": {},
   "source": [
    "It is interesting to predict the probabilities in $X_m$ when $m$ is large, and thus determining what pages a browser are more likely to visit after this sort of random navigation. To do that you have to apply the transformation many times, and in real life problems this will be computationally expensive. Eigenvalues and eigenvectos can help here significantly reducing the amount of calculations. "
   ]
  },
  {
   "cell_type": "markdown",
   "id": "7d09b26a-998f-4ddd-bbd8-3e7cd552a623",
   "metadata": {},
   "source": [
    "Try to find eigenvalues and eigenvectors for the previously defined matrix $P$:"
   ]
  },
  {
   "cell_type": "code",
   "execution_count": 308,
   "id": "fc6d9b8e-1ceb-4bd6-9055-f9d5afd12525",
   "metadata": {
    "execution": {
     "iopub.execute_input": "2023-10-01T23:46:08.184736Z",
     "iopub.status.busy": "2023-10-01T23:46:08.183737Z",
     "iopub.status.idle": "2023-10-01T23:46:08.202025Z",
     "shell.execute_reply": "2023-10-01T23:46:08.201243Z",
     "shell.execute_reply.started": "2023-10-01T23:46:08.184736Z"
    }
   },
   "outputs": [
    {
     "data": {
      "text/plain": [
       "EigResult(eigenvalues=array([-0.25,  1.  , -0.25, -0.25, -0.25]), eigenvectors=array([[-0.89442719,  0.4472136 ,  0.32302914, -0.03013402,  0.14645768],\n",
       "       [ 0.2236068 ,  0.4472136 ,  0.72681557,  0.15820359,  0.32952977],\n",
       "       [ 0.2236068 ,  0.4472136 , -0.34994824,  0.76088395, -0.48412399],\n",
       "       [ 0.2236068 ,  0.4472136 , -0.34994824, -0.44447676, -0.55964759],\n",
       "       [ 0.2236068 ,  0.4472136 , -0.34994824, -0.44447676,  0.56778413]]))"
      ]
     },
     "execution_count": 308,
     "metadata": {},
     "output_type": "execute_result"
    }
   ],
   "source": [
    "np.linalg.eig(P)"
   ]
  },
  {
   "cell_type": "markdown",
   "id": "e6160baa-31d0-4ad0-bb03-76f805da5b83",
   "metadata": {},
   "source": [
    "A square matrix is called a **Markov matrix** if all entries are nonnegative and the sum of each column elements is equal to $1$. Markov matrices have a handy property - they always have an eigenvalue equals to 1. \n",
    "\n",
    "Matrix $P$ was defined in such a way, that it is actually a Markov matrix, and you can see that it has an eigenvalue $1$. The equation $X_m=PX_{m-1}$ can be rewritten as $PX_{m-1}=1\\times X_m$. Predicting probabilities in $X_m$ when $m$ is large you can actually look for an eigenvector corresponding to the eigenvalue $1$, because then you will get $PX = X$."
   ]
  },
  {
   "cell_type": "code",
   "execution_count": 309,
   "id": "5e9154d2-5c4e-4cb3-ba21-0e018f6e7b0a",
   "metadata": {
    "execution": {
     "iopub.execute_input": "2023-10-01T23:46:29.075765Z",
     "iopub.status.busy": "2023-10-01T23:46:29.074739Z",
     "iopub.status.idle": "2023-10-01T23:46:29.081836Z",
     "shell.execute_reply": "2023-10-01T23:46:29.081337Z",
     "shell.execute_reply.started": "2023-10-01T23:46:29.075765Z"
    }
   },
   "outputs": [
    {
     "name": "stdout",
     "output_type": "stream",
     "text": [
      "Eigenvector corresponding to the eigenvalue 1:\n",
      "[-0.89442719  0.2236068   0.2236068   0.2236068   0.2236068 ]\n"
     ]
    }
   ],
   "source": [
    "X_inf = np.linalg.eig(P)[1][:,0]\n",
    "\n",
    "print(\"Eigenvector corresponding to the eigenvalue 1:\\n\" + str(X_inf))"
   ]
  },
  {
   "cell_type": "markdown",
   "id": "31b52c51-870b-4989-8e42-96c2dc064e2e",
   "metadata": {},
   "source": [
    "\n",
    "### Exercise 4\n",
    "\n",
    "Perform matrix multiplication $PX$ (multiply matrix `P` and vector `X_inf`) to check that the result will be equal to the vector $X$ (`X_inf`)."
   ]
  },
  {
   "cell_type": "code",
   "execution_count": 310,
   "id": "67f310d4-4a0f-4b37-a779-ff9e44690d93",
   "metadata": {
    "execution": {
     "iopub.execute_input": "2023-10-01T23:46:56.250497Z",
     "iopub.status.busy": "2023-10-01T23:46:56.249292Z",
     "iopub.status.idle": "2023-10-01T23:46:56.270652Z",
     "shell.execute_reply": "2023-10-01T23:46:56.270012Z",
     "shell.execute_reply.started": "2023-10-01T23:46:56.250497Z"
    }
   },
   "outputs": [
    {
     "name": "stdout",
     "output_type": "stream",
     "text": [
      "Original eigenvector corresponding to the eigenvalue 1:\n",
      "[-0.89442719  0.2236068   0.2236068   0.2236068   0.2236068 ]\n",
      "Result of multiplication:[ 0.2236068 -0.0559017 -0.0559017 -0.0559017 -0.0559017]\n",
      "Check that PX=X element by element:[False False False False False]\n"
     ]
    }
   ],
   "source": [
    "# This is organised as a function only for grading purposes.\n",
    "def check_eigenvector(P, X_inf):\n",
    "    ### START CODE HERE ###\n",
    "    X_check = P @ X_inf\n",
    "    ### END CODE HERE ###\n",
    "    \n",
    "    return X_check\n",
    "\n",
    "X_check = check_eigenvector(P, X_inf)\n",
    "\n",
    "print(\"Original eigenvector corresponding to the eigenvalue 1:\\n\" + str(X_inf))\n",
    "print(\"Result of multiplication:\" + str(X_check))\n",
    "\n",
    "# Function np.isclose compares two NumPy arrays element by element, allowing for error tolerance (rtol parameter).\n",
    "print(\"Check that PX=X element by element:\" +str(np.isclose(X_inf, X_check, rtol=1e-10)))"
   ]
  },
  {
   "cell_type": "code",
   "execution_count": null,
   "id": "de922eb0-fcfe-4e9c-978f-5f16cec9d947",
   "metadata": {},
   "outputs": [],
   "source": []
  },
  {
   "cell_type": "markdown",
   "id": "26978942-3ade-496c-94c4-f84f434e952c",
   "metadata": {},
   "source": [
    "The output eigenvectors of the `np.linalg.eig()` function are normalized so that their norm is $1$. For the vector $X$ you would like to choose a vector in the same direction, so that the sum of its elements is equal to $1$:"
   ]
  },
  {
   "cell_type": "code",
   "execution_count": 311,
   "id": "e00cfddb-d54a-4ef8-a8c5-609a5b98e55c",
   "metadata": {
    "execution": {
     "iopub.execute_input": "2023-10-01T23:47:26.473576Z",
     "iopub.status.busy": "2023-10-01T23:47:26.473200Z",
     "iopub.status.idle": "2023-10-01T23:47:26.485691Z",
     "shell.execute_reply": "2023-10-01T23:47:26.484695Z",
     "shell.execute_reply.started": "2023-10-01T23:47:26.473576Z"
    }
   },
   "outputs": [
    {
     "name": "stdout",
     "output_type": "stream",
     "text": [
      "Probabilities being at each of the pages:\n",
      "[ 1.61125679e+16 -4.02814196e+15 -4.02814196e+15 -4.02814196e+15\n",
      " -4.02814196e+15]\n"
     ]
    }
   ],
   "source": [
    "X_inf = X_inf / sum(X_inf)\n",
    "\n",
    "print(\"Probabilities being at each of the pages:\\n\" + str(X_inf))"
   ]
  },
  {
   "cell_type": "markdown",
   "id": "c5a7b54e-2185-40b0-98f4-26f570ba1a4b",
   "metadata": {},
   "source": [
    "You can see the probabilities of the browser being at each of the pages after infinite steps of navigation. Such type of a model was the foundation of the PageRank algorithm, which is the basis of Google's very successful search engine."
   ]
  },
  {
   "cell_type": "markdown",
   "id": "7cfa636d-5182-439a-abf0-66cebdff60ac",
   "metadata": {},
   "source": [
    "-------"
   ]
  }
 ],
 "metadata": {
  "kernelspec": {
   "display_name": "Python 3 (ipykernel)",
   "language": "python",
   "name": "python3"
  },
  "language_info": {
   "codemirror_mode": {
    "name": "ipython",
    "version": 3
   },
   "file_extension": ".py",
   "mimetype": "text/x-python",
   "name": "python",
   "nbconvert_exporter": "python",
   "pygments_lexer": "ipython3",
   "version": "3.9.1"
  },
  "toc": {
   "base_numbering": 1,
   "nav_menu": {},
   "number_sections": true,
   "sideBar": true,
   "skip_h1_title": false,
   "title_cell": "Table of Contents",
   "title_sidebar": "Contents",
   "toc_cell": true,
   "toc_position": {},
   "toc_section_display": true,
   "toc_window_display": true
  },
  "varInspector": {
   "cols": {
    "lenName": 16,
    "lenType": 16,
    "lenVar": 40
   },
   "kernels_config": {
    "python": {
     "delete_cmd_postfix": "",
     "delete_cmd_prefix": "del ",
     "library": "var_list.py",
     "varRefreshCmd": "print(var_dic_list())"
    },
    "r": {
     "delete_cmd_postfix": ") ",
     "delete_cmd_prefix": "rm(",
     "library": "var_list.r",
     "varRefreshCmd": "cat(var_dic_list()) "
    }
   },
   "types_to_exclude": [
    "module",
    "function",
    "builtin_function_or_method",
    "instance",
    "_Feature"
   ],
   "window_display": false
  }
 },
 "nbformat": 4,
 "nbformat_minor": 5
}
